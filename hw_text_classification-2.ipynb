{
 "cells": [
  {
   "cell_type": "markdown",
   "metadata": {
    "id": "d0ADTojbpfLt"
   },
   "source": [
    "# Домашнее задание. Нейросетевая классификация текстов\n",
    "\n",
    "В этом домашнем задании вам предстоит самостоятельно решить задачу классификации текстов на основе семинарского кода. Мы будем использовать датасет [ag_news](https://paperswithcode.com/dataset/ag-news). Это датасет для классификации новостей на 4 темы: \"World\", \"Sports\", \"Business\", \"Sci/Tech\".\n",
    "\n",
    "Установим модуль datasets, чтобы нам проще было работать с данными."
   ]
  },
  {
   "cell_type": "code",
   "execution_count": 1,
   "metadata": {
    "colab": {
     "base_uri": "https://localhost:8080/"
    },
    "executionInfo": {
     "elapsed": 18487,
     "status": "ok",
     "timestamp": 1679310682713,
     "user": {
      "displayName": "Deep Learning School",
      "userId": "16549096980415837553"
     },
     "user_tz": -180
    },
    "id": "p2QW_jCR0_kh",
    "outputId": "3fc85cb6-65a4-4bd8-f565-820c6b7504b4"
   },
   "outputs": [
    {
     "name": "stdout",
     "output_type": "stream",
     "text": [
      "Requirement already satisfied: datasets in /home/max509/.cache/pypoetry/virtualenvs/dls-nlp-hw2-1YbSzSHt-py3.10/lib/python3.10/site-packages (3.0.1)\n",
      "Requirement already satisfied: filelock in /home/max509/.cache/pypoetry/virtualenvs/dls-nlp-hw2-1YbSzSHt-py3.10/lib/python3.10/site-packages (from datasets) (3.16.1)\n",
      "Requirement already satisfied: numpy>=1.17 in /home/max509/.cache/pypoetry/virtualenvs/dls-nlp-hw2-1YbSzSHt-py3.10/lib/python3.10/site-packages (from datasets) (2.1.2)\n",
      "Requirement already satisfied: pyarrow>=15.0.0 in /home/max509/.cache/pypoetry/virtualenvs/dls-nlp-hw2-1YbSzSHt-py3.10/lib/python3.10/site-packages (from datasets) (17.0.0)\n",
      "Requirement already satisfied: dill<0.3.9,>=0.3.0 in /home/max509/.cache/pypoetry/virtualenvs/dls-nlp-hw2-1YbSzSHt-py3.10/lib/python3.10/site-packages (from datasets) (0.3.8)\n",
      "Requirement already satisfied: pandas in /home/max509/.cache/pypoetry/virtualenvs/dls-nlp-hw2-1YbSzSHt-py3.10/lib/python3.10/site-packages (from datasets) (2.2.3)\n",
      "Requirement already satisfied: requests>=2.32.2 in /home/max509/.cache/pypoetry/virtualenvs/dls-nlp-hw2-1YbSzSHt-py3.10/lib/python3.10/site-packages (from datasets) (2.32.3)\n",
      "Requirement already satisfied: tqdm>=4.66.3 in /home/max509/.cache/pypoetry/virtualenvs/dls-nlp-hw2-1YbSzSHt-py3.10/lib/python3.10/site-packages (from datasets) (4.66.5)\n",
      "Requirement already satisfied: xxhash in /home/max509/.cache/pypoetry/virtualenvs/dls-nlp-hw2-1YbSzSHt-py3.10/lib/python3.10/site-packages (from datasets) (3.5.0)\n",
      "Requirement already satisfied: multiprocess in /home/max509/.cache/pypoetry/virtualenvs/dls-nlp-hw2-1YbSzSHt-py3.10/lib/python3.10/site-packages (from datasets) (0.70.16)\n",
      "Requirement already satisfied: fsspec<=2024.6.1,>=2023.1.0 in /home/max509/.cache/pypoetry/virtualenvs/dls-nlp-hw2-1YbSzSHt-py3.10/lib/python3.10/site-packages (from fsspec[http]<=2024.6.1,>=2023.1.0->datasets) (2024.6.1)\n",
      "Requirement already satisfied: aiohttp in /home/max509/.cache/pypoetry/virtualenvs/dls-nlp-hw2-1YbSzSHt-py3.10/lib/python3.10/site-packages (from datasets) (3.10.10)\n",
      "Requirement already satisfied: huggingface-hub>=0.22.0 in /home/max509/.cache/pypoetry/virtualenvs/dls-nlp-hw2-1YbSzSHt-py3.10/lib/python3.10/site-packages (from datasets) (0.25.2)\n",
      "Requirement already satisfied: packaging in /home/max509/.cache/pypoetry/virtualenvs/dls-nlp-hw2-1YbSzSHt-py3.10/lib/python3.10/site-packages (from datasets) (24.1)\n",
      "Requirement already satisfied: pyyaml>=5.1 in /home/max509/.cache/pypoetry/virtualenvs/dls-nlp-hw2-1YbSzSHt-py3.10/lib/python3.10/site-packages (from datasets) (6.0.2)\n",
      "Requirement already satisfied: aiohappyeyeballs>=2.3.0 in /home/max509/.cache/pypoetry/virtualenvs/dls-nlp-hw2-1YbSzSHt-py3.10/lib/python3.10/site-packages (from aiohttp->datasets) (2.4.3)\n",
      "Requirement already satisfied: aiosignal>=1.1.2 in /home/max509/.cache/pypoetry/virtualenvs/dls-nlp-hw2-1YbSzSHt-py3.10/lib/python3.10/site-packages (from aiohttp->datasets) (1.3.1)\n",
      "Requirement already satisfied: attrs>=17.3.0 in /home/max509/.cache/pypoetry/virtualenvs/dls-nlp-hw2-1YbSzSHt-py3.10/lib/python3.10/site-packages (from aiohttp->datasets) (24.2.0)\n",
      "Requirement already satisfied: frozenlist>=1.1.1 in /home/max509/.cache/pypoetry/virtualenvs/dls-nlp-hw2-1YbSzSHt-py3.10/lib/python3.10/site-packages (from aiohttp->datasets) (1.4.1)\n",
      "Requirement already satisfied: multidict<7.0,>=4.5 in /home/max509/.cache/pypoetry/virtualenvs/dls-nlp-hw2-1YbSzSHt-py3.10/lib/python3.10/site-packages (from aiohttp->datasets) (6.1.0)\n",
      "Requirement already satisfied: yarl<2.0,>=1.12.0 in /home/max509/.cache/pypoetry/virtualenvs/dls-nlp-hw2-1YbSzSHt-py3.10/lib/python3.10/site-packages (from aiohttp->datasets) (1.15.1)\n",
      "Requirement already satisfied: async-timeout<5.0,>=4.0 in /home/max509/.cache/pypoetry/virtualenvs/dls-nlp-hw2-1YbSzSHt-py3.10/lib/python3.10/site-packages (from aiohttp->datasets) (4.0.3)\n",
      "Requirement already satisfied: typing-extensions>=3.7.4.3 in /home/max509/.cache/pypoetry/virtualenvs/dls-nlp-hw2-1YbSzSHt-py3.10/lib/python3.10/site-packages (from huggingface-hub>=0.22.0->datasets) (4.12.2)\n",
      "Requirement already satisfied: charset-normalizer<4,>=2 in /home/max509/.cache/pypoetry/virtualenvs/dls-nlp-hw2-1YbSzSHt-py3.10/lib/python3.10/site-packages (from requests>=2.32.2->datasets) (3.4.0)\n",
      "Requirement already satisfied: idna<4,>=2.5 in /home/max509/.cache/pypoetry/virtualenvs/dls-nlp-hw2-1YbSzSHt-py3.10/lib/python3.10/site-packages (from requests>=2.32.2->datasets) (3.10)\n",
      "Requirement already satisfied: urllib3<3,>=1.21.1 in /home/max509/.cache/pypoetry/virtualenvs/dls-nlp-hw2-1YbSzSHt-py3.10/lib/python3.10/site-packages (from requests>=2.32.2->datasets) (2.2.3)\n",
      "Requirement already satisfied: certifi>=2017.4.17 in /home/max509/.cache/pypoetry/virtualenvs/dls-nlp-hw2-1YbSzSHt-py3.10/lib/python3.10/site-packages (from requests>=2.32.2->datasets) (2024.8.30)\n",
      "Requirement already satisfied: python-dateutil>=2.8.2 in /home/max509/.cache/pypoetry/virtualenvs/dls-nlp-hw2-1YbSzSHt-py3.10/lib/python3.10/site-packages (from pandas->datasets) (2.9.0.post0)\n",
      "Requirement already satisfied: pytz>=2020.1 in /home/max509/.cache/pypoetry/virtualenvs/dls-nlp-hw2-1YbSzSHt-py3.10/lib/python3.10/site-packages (from pandas->datasets) (2024.2)\n",
      "Requirement already satisfied: tzdata>=2022.7 in /home/max509/.cache/pypoetry/virtualenvs/dls-nlp-hw2-1YbSzSHt-py3.10/lib/python3.10/site-packages (from pandas->datasets) (2024.2)\n",
      "Requirement already satisfied: six>=1.5 in /home/max509/.cache/pypoetry/virtualenvs/dls-nlp-hw2-1YbSzSHt-py3.10/lib/python3.10/site-packages (from python-dateutil>=2.8.2->pandas->datasets) (1.16.0)\n",
      "Requirement already satisfied: propcache>=0.2.0 in /home/max509/.cache/pypoetry/virtualenvs/dls-nlp-hw2-1YbSzSHt-py3.10/lib/python3.10/site-packages (from yarl<2.0,>=1.12.0->aiohttp->datasets) (0.2.0)\n"
     ]
    }
   ],
   "source": [
    "!pip install datasets"
   ]
  },
  {
   "cell_type": "markdown",
   "metadata": {
    "id": "rh9ZXSeCpng9"
   },
   "source": [
    "Импорт необходимых библиотек"
   ]
  },
  {
   "cell_type": "code",
   "execution_count": 2,
   "metadata": {
    "id": "XOJi16bLpd_O"
   },
   "outputs": [],
   "source": [
    "import torch\n",
    "import torch.nn as nn\n",
    "from torch.utils.data import Dataset, DataLoader\n",
    "import datasets\n",
    "\n",
    "import numpy as np\n",
    "import matplotlib.pyplot as plt\n",
    "\n",
    "from tqdm.auto import tqdm\n",
    "from datasets import load_dataset\n",
    "from nltk.tokenize import word_tokenize\n",
    "from sklearn.model_selection import train_test_split\n",
    "import nltk\n",
    "\n",
    "from collections import Counter\n",
    "from dataclasses import dataclass, asdict\n",
    "import itertools\n",
    "from typing import List, Literal, Dict, Any, ClassVar, Tuple\n",
    "import copy\n",
    "import string\n",
    "\n",
    "import seaborn\n",
    "\n",
    "seaborn.set(palette=\"summer\")"
   ]
  },
  {
   "cell_type": "code",
   "execution_count": 3,
   "metadata": {
    "colab": {
     "base_uri": "https://localhost:8080/"
    },
    "executionInfo": {
     "elapsed": 679,
     "status": "ok",
     "timestamp": 1679310692063,
     "user": {
      "displayName": "Deep Learning School",
      "userId": "16549096980415837553"
     },
     "user_tz": -180
    },
    "id": "91JuM0SQvXud",
    "outputId": "1a67bb6e-1edd-4ded-f018-ed9aa431c7db"
   },
   "outputs": [
    {
     "name": "stderr",
     "output_type": "stream",
     "text": [
      "[nltk_data] Downloading package punkt to /home/max509/nltk_data...\n",
      "[nltk_data]   Package punkt is already up-to-date!\n"
     ]
    },
    {
     "data": {
      "text/plain": [
       "True"
      ]
     },
     "execution_count": 3,
     "metadata": {},
     "output_type": "execute_result"
    }
   ],
   "source": [
    "nltk.download(\"punkt\")"
   ]
  },
  {
   "cell_type": "code",
   "execution_count": 4,
   "metadata": {
    "colab": {
     "base_uri": "https://localhost:8080/",
     "height": 35
    },
    "executionInfo": {
     "elapsed": 240,
     "status": "ok",
     "timestamp": 1679310695816,
     "user": {
      "displayName": "Deep Learning School",
      "userId": "16549096980415837553"
     },
     "user_tz": -180
    },
    "id": "adJC8ShFq9HM",
    "outputId": "c85c95cb-f61e-4d37-ca8a-029c57d67e6f"
   },
   "outputs": [
    {
     "data": {
      "text/plain": [
       "'cuda'"
      ]
     },
     "execution_count": 4,
     "metadata": {},
     "output_type": "execute_result"
    }
   ],
   "source": [
    "device = \"cuda\" if torch.cuda.is_available() else \"cpu\"\n",
    "device"
   ]
  },
  {
   "cell_type": "markdown",
   "metadata": {
    "id": "pwsfS1ENq5ig"
   },
   "source": [
    "## Подготовка данных\n",
    "Для вашего удобства, мы привели код обработки датасета в ноутбуке. Ваша задача --- обучить модель, которая получит максимальное возможное качество на тестовой части. "
   ]
  },
  {
   "cell_type": "code",
   "execution_count": 5,
   "metadata": {
    "colab": {
     "base_uri": "https://localhost:8080/",
     "height": 244,
     "referenced_widgets": [
      "1eb740874a8b4df68e18f0dbf8e7acdc",
      "fc9cdace4f17455082a2a8374913d322",
      "3ebe7107b9c643a4a990b0c5966299e8",
      "f1bde9957cab40ba97cd7faa65889b00",
      "aefc7fff46e6439fae50d2ac508d78e3",
      "33ce5077e4714f239f12562e1a7a7ef2",
      "f255118df0ea49fa8feb56d043cf87b6",
      "4acffbd4a4604620bcd4b4f8c9c6af9b",
      "8cde1d20ba3e45a08490e769ddd51bb4",
      "513f35a7ebb74d3ebbaefa013b725d14",
      "81311bdb923b4eca97431b56195acd58",
      "09ec9cea96b341d0a25451b192102f39",
      "c9ce26882ff34d61b1817915058152f1",
      "ece019411eba48ca93173a9b15cf8cbb",
      "19722e928d404adb990c5cec48524bba",
      "a93760269c044501aa63f3af2524210e",
      "6a76b678cb8e49d99b307e505c5baf43",
      "991528abe6eb42e29b4303bd72ecbb9c",
      "5b39c3103bf74237a2e03e6fdb7da027",
      "0847a33379184a368d5d1b82222b74cc",
      "122ed5c8b5a74305ba54ff99af7e9d54",
      "c0894fc6901f475382628d4868062558",
      "d76f8b4fbb004812b2bdc3f614cdc307",
      "e684e9dab3dc4a04b4fac5cab926f8fe",
      "a3a2891c78654d639a25ff7522357b26",
      "7caa28a01d5541e98ca6d2bd0c3f0a4c",
      "f5a54984249a47dd8ac113ce96ddbb71",
      "58df47e13b1e48a8863e48d6a12a98b5",
      "a6b4481c94ad4af181ff0934ee7fca92",
      "ca007860138646589925567fa12ee1f9",
      "903b7cdb57de41459650c226b5629d05",
      "196e3535fb3b4ede9c86fe2c79009322",
      "e2cbb1d5b4e1497e804bf00332a14743",
      "a2422c15e5ba42bf87eb6fdcd0604ec1",
      "96f4ff5cfc7b40e995a6c8ecd3546f6b",
      "bc6ee58abaa643cd9643064537784d64",
      "df0ff75a6c5a474295564794954addc4",
      "540219b4cc9b4ace9c70feb8a8146480",
      "b3ba7361fe3b46e3a208bf6416131f28",
      "feac1851ed644eeb98fb9ac9aadd7f41",
      "ccf9677bca0141dba7ba27dde42276e1",
      "0401a08736004c4cafe05feae921849f",
      "dc1d3746c5cf4817b8e80bf92ad02d71",
      "33521ca994f14e55aa040cfc2f5d1105",
      "4ceb025f703948e4971486323e58c3e4",
      "8136ea38174b46fe99d4549e396adbaf",
      "596c2a7e529b45a7973496e02b50ee17",
      "04c14b466921444299752b1bf6cac9fb",
      "99b28ecd95564dbc99ef588f42ae1dd2",
      "5494c2f8716a4da0a846bfad0e25b425",
      "f5d44bab5deb4be18b828d9c78feb5da",
      "dcab6933e7e6483fb37ef3ea4f2f96cb",
      "3018b5e2177b4eb7ba0f562b7db28fe4",
      "3bdb6917a86249c6a094d5d8e1433365",
      "a1f665b2995b4d62a2881de651810d44",
      "38c3fbf1198e4f7cbfc990cb362be0ba",
      "9fbc7d78c453476c8a6ace8a267aa6f3",
      "88bf756ae2ef454da07e153e26d6b272",
      "0872109d55664634958251b1c8a3879e",
      "e43cb91bee254131af50f2af50be3a4e",
      "cb8cdb1fcd394e79be9fcfb5708fee31",
      "55b7456ea0be447a8b87f75226163726",
      "6c7372f597dc48b2bd71771c13fbe1ca",
      "e7a723bfbede426a9c9184ed02ff2574",
      "1644c4f507954f0ba03aeb75b80b93ba",
      "bc1cab86f2d6492cb79c21c25206955e",
      "11d52f8a43cf44f08db4d15e0609adfd",
      "dc7219cdf164455e9172bc134d89d35a",
      "58ed943442364505881079688d1fde0d",
      "24e73abed20f4880a8d235907e0df027",
      "056cc6bc26f14d1aa27208e4be38bb73",
      "9e2a2ae4fcb54b5ca9f2d714b10061a6",
      "c4c47a154f2d40deaddc48a393ca4526",
      "a1605863309c42169162d60f6c6475b8",
      "5340dd684eed471ba18cb36d477c9f4d",
      "95572bae4c6f4d85b85202d04b4271a3",
      "a3fb5f712cdf4d3da74af03d24622ada",
      "640d1239e46f4a4d9224259f19408dee",
      "d635465d15d84b4ea2604e46de5fc957",
      "39e541c8faca418782958233ef684677",
      "0c75bfe839864746be85eae85414c224",
      "9e7c10778b7d4d6e89355acfa3a90fa0",
      "50565855965a4fc08310e2b7d8d65fd0",
      "4b8e4f5ccb3346fdb8a8e56baf8a7f49",
      "3d64d3a55ba64a5da8776712d649fc4e",
      "93b7be412ced4982a8d7901c40e8c64d",
      "31e4423718424bc2bbca5ac1a9051b08",
      "2b12a038d1864df79f83d85db191cfbb"
     ]
    },
    "executionInfo": {
     "elapsed": 12911,
     "status": "ok",
     "timestamp": 1679310711937,
     "user": {
      "displayName": "Deep Learning School",
      "userId": "16549096980415837553"
     },
     "user_tz": -180
    },
    "id": "qHLNWOfJqSfc",
    "outputId": "14e2b6e7-c1e6-48f9-f97a-bff172f80d3e"
   },
   "outputs": [
    {
     "data": {
      "application/vnd.jupyter.widget-view+json": {
       "model_id": "453ddf25a4cf4ea4a10665d1159de33a",
       "version_major": 2,
       "version_minor": 0
      },
      "text/plain": [
       "README.md:   0%|          | 0.00/8.07k [00:00<?, ?B/s]"
      ]
     },
     "metadata": {},
     "output_type": "display_data"
    },
    {
     "data": {
      "application/vnd.jupyter.widget-view+json": {
       "model_id": "7a58c3bde1f442e796ffe83fa6cb6c4c",
       "version_major": 2,
       "version_minor": 0
      },
      "text/plain": [
       "train-00000-of-00001.parquet:   0%|          | 0.00/18.6M [00:00<?, ?B/s]"
      ]
     },
     "metadata": {},
     "output_type": "display_data"
    },
    {
     "data": {
      "application/vnd.jupyter.widget-view+json": {
       "model_id": "4063d836d8f34b1f9a27ee1576db4364",
       "version_major": 2,
       "version_minor": 0
      },
      "text/plain": [
       "test-00000-of-00001.parquet:   0%|          | 0.00/1.23M [00:00<?, ?B/s]"
      ]
     },
     "metadata": {},
     "output_type": "display_data"
    },
    {
     "data": {
      "application/vnd.jupyter.widget-view+json": {
       "model_id": "c7a7cbe15e1a475db95ca514b1f32425",
       "version_major": 2,
       "version_minor": 0
      },
      "text/plain": [
       "Generating train split:   0%|          | 0/120000 [00:00<?, ? examples/s]"
      ]
     },
     "metadata": {},
     "output_type": "display_data"
    },
    {
     "data": {
      "application/vnd.jupyter.widget-view+json": {
       "model_id": "0d3e5a966af3473da3ef6dfcebd31d35",
       "version_major": 2,
       "version_minor": 0
      },
      "text/plain": [
       "Generating test split:   0%|          | 0/7600 [00:00<?, ? examples/s]"
      ]
     },
     "metadata": {},
     "output_type": "display_data"
    }
   ],
   "source": [
    "# Загрузим датасет\n",
    "dataset = datasets.load_dataset(\"ag_news\")"
   ]
  },
  {
   "cell_type": "markdown",
   "metadata": {
    "id": "gYG67ZJj4hZS"
   },
   "source": [
    "Как и в семинаре, выполним следующие шаги:\n",
    "* Составим словарь\n",
    "* Создадим класс WordDataset\n",
    "* Выделим обучающую и тестовую часть, создадим DataLoader-ы."
   ]
  },
  {
   "cell_type": "code",
   "execution_count": 6,
   "metadata": {
    "colab": {
     "base_uri": "https://localhost:8080/",
     "height": 66,
     "referenced_widgets": [
      "45b415cc22e64cbc9376f7bf8601f09b",
      "eee83e0a1bd14d00af3159061f96a553",
      "bd82244ccbd842539464a9168a897f1c",
      "94b4879a5a644dbeaa3ec1e5af2b1744",
      "fb542b520c1a42f4b621f95a4e90d644",
      "87447d7825574c6f8ab503b1b534d506",
      "56d638bddd534750b06ea6fe6701cb15",
      "7358823ad0d1474cae97638aebeb835f",
      "f53391ef64574c76bd18add79c0fa4bf",
      "6280438c65704c3a9603a2402d18c39a",
      "fe99814191c14edea16dc733737441a5"
     ]
    },
    "executionInfo": {
     "elapsed": 25172,
     "status": "ok",
     "timestamp": 1679310737099,
     "user": {
      "displayName": "Deep Learning School",
      "userId": "16549096980415837553"
     },
     "user_tz": -180
    },
    "id": "nEvCN0Y1w1yH",
    "outputId": "7aaf0b16-1e5a-4b5a-f750-d2a0e93adf04"
   },
   "outputs": [
    {
     "data": {
      "application/vnd.jupyter.widget-view+json": {
       "model_id": "3b4378c616b2473097721403c190bba3",
       "version_major": 2,
       "version_minor": 0
      },
      "text/plain": [
       "  0%|          | 0/120000 [00:00<?, ?it/s]"
      ]
     },
     "metadata": {},
     "output_type": "display_data"
    },
    {
     "name": "stdout",
     "output_type": "stream",
     "text": [
      "Размер словаря: 11842\n"
     ]
    }
   ],
   "source": [
    "words = Counter()\n",
    "\n",
    "for example in tqdm(dataset[\"train\"][\"text\"]):\n",
    "    # Приводим к нижнему регистру и убираем пунктуацию\n",
    "    proccessed_text = example.lower().translate(\n",
    "        str.maketrans(\"\", \"\", string.punctuation)\n",
    "    )\n",
    "\n",
    "    for word in word_tokenize(proccessed_text):\n",
    "        words[word] += 1\n",
    "\n",
    "\n",
    "vocab = set([\"<unk>\", \"<bos>\", \"<eos>\", \"<pad>\"])\n",
    "counter_threshold = 25\n",
    "\n",
    "for char, cnt in words.items():\n",
    "    if cnt > counter_threshold:\n",
    "        vocab.add(char)\n",
    "\n",
    "print(f\"Размер словаря: {len(vocab)}\")\n",
    "\n",
    "word2ind = {char: i for i, char in enumerate(vocab)}\n",
    "ind2word = {i: char for char, i in word2ind.items()}"
   ]
  },
  {
   "cell_type": "code",
   "execution_count": 7,
   "metadata": {
    "id": "FVzXL17PzC7K"
   },
   "outputs": [],
   "source": [
    "class WordDataset:\n",
    "    def __init__(self, sentences):\n",
    "        self.data = sentences\n",
    "        self.unk_id = word2ind[\"<unk>\"]\n",
    "        self.bos_id = word2ind[\"<bos>\"]\n",
    "        self.eos_id = word2ind[\"<eos>\"]\n",
    "        self.pad_id = word2ind[\"<pad>\"]\n",
    "\n",
    "    def __getitem__(self, idx: int) -> List[int]:\n",
    "        processed_text = (\n",
    "            self.data[idx][\"text\"]\n",
    "            .lower()\n",
    "            .translate(str.maketrans(\"\", \"\", string.punctuation))\n",
    "        )\n",
    "        tokenized_sentence = [self.bos_id]\n",
    "        tokenized_sentence += [\n",
    "            word2ind.get(word, self.unk_id) for word in word_tokenize(processed_text)\n",
    "        ]\n",
    "        tokenized_sentence += [self.eos_id]\n",
    "\n",
    "        train_sample = {\n",
    "            \"text\": tokenized_sentence,\n",
    "            \"label\": self.data[idx][\"label\"],\n",
    "        }\n",
    "\n",
    "        return train_sample\n",
    "\n",
    "    def __len__(self) -> int:\n",
    "        return len(self.data)\n",
    "\n",
    "\n",
    "def collate_fn_with_padding(\n",
    "    input_batch: List[Dict[str, Any]],\n",
    "    pad_id: int = word2ind[\"<pad>\"],\n",
    "    max_len: int = 256,\n",
    ") -> torch.Tensor:\n",
    "    seq_lens = [len(x[\"text\"]) for x in input_batch]\n",
    "    max_seq_len = min(max(seq_lens), max_len)\n",
    "\n",
    "    new_batch = []\n",
    "    for sequence in input_batch:\n",
    "        sequence[\"text\"] = sequence[\"text\"][:max_seq_len]\n",
    "        for _ in range(max_seq_len - len(sequence[\"text\"])):\n",
    "            sequence[\"text\"].append(pad_id)\n",
    "\n",
    "        new_batch.append(sequence[\"text\"])\n",
    "\n",
    "    sequences = torch.LongTensor(new_batch).to(device)\n",
    "    labels = torch.LongTensor([x[\"label\"] for x in input_batch]).to(device)\n",
    "\n",
    "    new_batch = {\"input_ids\": sequences, \"label\": labels}\n",
    "\n",
    "    return new_batch"
   ]
  },
  {
   "cell_type": "code",
   "execution_count": 13,
   "metadata": {
    "id": "6xmeK9Ys1BIG"
   },
   "outputs": [],
   "source": [
    "import random\n",
    "\n",
    "seed = 42\n",
    "random.seed(seed)\n",
    "np.random.seed(seed)\n",
    "torch.manual_seed(seed)\n",
    "\n",
    "train_dataset = WordDataset(dataset[\"train\"])\n",
    "\n",
    "\n",
    "idx = np.random.choice(np.arange(len(dataset[\"test\"])), 5000)\n",
    "eval_dataset = WordDataset(dataset[\"test\"].select(idx))\n",
    "\n",
    "batch_size = 32\n",
    "train_dataloader = DataLoader(\n",
    "    train_dataset,\n",
    "    shuffle=True,\n",
    "    collate_fn=collate_fn_with_padding,\n",
    "    batch_size=batch_size,\n",
    ")\n",
    "\n",
    "eval_dataloader = DataLoader(\n",
    "    eval_dataset,\n",
    "    shuffle=False,\n",
    "    collate_fn=collate_fn_with_padding,\n",
    "    batch_size=batch_size,\n",
    ")"
   ]
  },
  {
   "cell_type": "markdown",
   "metadata": {
    "id": "w7LHfh3u5Bie"
   },
   "source": [
    "## Постановка задачи\n",
    "Ваша задача -- получить максимальное возможное accuracy на `eval_dataloader`. Ниже приведена функция, которую вам необходимо запустить для обученной модели, чтобы вычислить качество её работы."
   ]
  },
  {
   "cell_type": "code",
   "execution_count": 8,
   "metadata": {
    "id": "JDZw4Sehn4NE"
   },
   "outputs": [],
   "source": [
    "def evaluate(model, eval_dataloader) -> float:\n",
    "    \"\"\"\n",
    "    Calculate accuracy on validation dataloader.\n",
    "    \"\"\"\n",
    "\n",
    "    predictions = []\n",
    "    target = []\n",
    "    with torch.no_grad():\n",
    "        for batch in eval_dataloader:\n",
    "            logits = model(batch[\"input_ids\"])\n",
    "            predictions.append(logits.argmax(dim=1))\n",
    "            target.append(batch[\"label\"])\n",
    "\n",
    "    predictions = torch.cat(predictions)\n",
    "    target = torch.cat(target)\n",
    "    accuracy = (predictions == target).float().mean().item()\n",
    "\n",
    "    return accuracy"
   ]
  },
  {
   "cell_type": "markdown",
   "metadata": {
    "id": "SMAexY7Y45E4"
   },
   "source": [
    "## Ход работы\n",
    "Оценка за домашнее задание складывается из четырех частей:\n",
    "### Запуск базовой модели с семинара на новом датасете (1 балл)\n",
    "На семинаре мы создали модель, которая дает на нашей задаче довольно высокое качество. Ваша цель --- обучить ее и вычислить `score`, который затем можно будет использовать в качестве бейзлайна. \n",
    "\n",
    "В модели появится одно важное изменение: количество классов теперь равно не 2, а 4. Обратите на это внимание и найдите, что в коде создания модели нужно модифицировать, чтобы учесть это различие. \n",
    "\n",
    "### Проведение экспериментов по улучшению модели (2 балла за каждый эксперимент)\n",
    "Чтобы улучшить качество базовой модели, можно попробовать различные идеи экспериментов. Каждый выполненный эксперимент будет оцениваться в 2 балла. Для получения полного балла за этот пункт вам необходимо выполнить по крайней мере 2 эксперимента. Не расстраивайтесь, если какой-то эксперимент не дал вам прироста к качеству: он все равно зачтется, если выполнен корректно. \n",
    "\n",
    "Вот несколько идей экспериментов:\n",
    "* **Модель RNN**. Попробуйте другие нейросетевые модели --- LSTM и GRU. Мы советуем обратить внимание на [GRU](https://pytorch.org/docs/stable/generated/torch.nn.GRU.html), так как интерфейс этого класса ничем не отличается от обычной Vanilla RNN, которую мы использовали на семинаре.\n",
    "* **Увеличение количества рекуррентных слоев модели**. Это можно сделать с помощью параметра `num_layers` в классе `nn.RNN`. В такой модели выходы первой RNN передаются в качестве входов второй RNN и так далее. \n",
    "* **Изменение архитектуры после применения RNN**. В базовой модели используется агрегация со всех эмбеддингов. Возможно, вы захотите конкатенировать результат агрегации и эмбеддинг с последнего токена.\n",
    "* **Подбор гиперпараметров и обучение до сходимости**. Возможно, для получения более высокого качества просто необходимо увеличить количество эпох обучения нейросети, а также попробовать различные гиперпараметры: размер словаря, `dropout_rate`, `hidden_dim`.\n",
    "\n",
    "Обратите внимание, что главное правило проведения экспериментов --- необходимо совершать одно архитектурное изменение в одном эксперименте. Если вы совершите несколько изменений, то будет неясно, какое именно из изменений дало прирост к качеству. \n",
    "\n",
    "### Получение высокого качества (3 балла)\n",
    "В конце вашей работы вы должны указать, какая из моделей дала лучший результат, и вывести качество, которое дает лучшая модель, с помощью функции `evaluate`. Ваша модель будет оцениваться по метрике `accuracy` следующим образом:\n",
    "* $accuracy < 0.9$ --- 0 баллов;\n",
    "* $0.9 \\leqslant accuracy < 0.91$ --- 1 балл;\n",
    "* $0.91 \\leqslant accuracy < 0.915$ --- 2 балла;\n",
    "* $0.915 \\leqslant accuracy$ --- 3 балла.\n",
    "\n",
    "### Оформление отчета (2 балла)\n",
    "В конце работы подробно опишите все проведенные эксперименты. \n",
    "* Укажите, какие из экспериментов принесли улучшение, а какие --- нет. \n",
    "* Проанализируйте графики сходимости моделей в проведенных экспериментах. Являются ли колебания качества обученных моделей существенными в зависимости от эпохи обучения, или же сходимость стабильная? \n",
    "* Укажите, какая модель получилась оптимальной.\n",
    "\n",
    "Желаем удачи!"
   ]
  },
  {
   "cell_type": "markdown",
   "metadata": {},
   "source": [
    "# Начало работы"
   ]
  },
  {
   "cell_type": "markdown",
   "metadata": {},
   "source": [
    "Для решения задачи классификации с использованием рекуррентной сети был реализован класс модели `TextClassifier`."
   ]
  },
  {
   "cell_type": "code",
   "execution_count": 9,
   "metadata": {
    "id": "BqKYrcyxBoxx"
   },
   "outputs": [],
   "source": [
    "@dataclass(frozen=True)\n",
    "class RnnParams:\n",
    "    hidden_size: int\n",
    "    num_layers: int\n",
    "    bidirectional: bool\n",
    "    dropout: float\n",
    "\n",
    "\n",
    "class TextClassifier(nn.Module):\n",
    "    _RNN_TYPES: Dict[Literal[\"vanila\", \"gru\", \"lstm\"], nn.Module] = {\n",
    "        \"vanila\": nn.RNN,\n",
    "        \"gru\": nn.GRU,\n",
    "        \"lstm\": nn.LSTM,\n",
    "    }\n",
    "\n",
    "    def __init__(\n",
    "        self,\n",
    "        vocab_size: int,\n",
    "        padding_idx: int,\n",
    "        rnn_params: RnnParams,\n",
    "        rnn_type: Literal[\"vanila\", \"gru\", \"lstm\"],\n",
    "        dropout: float,\n",
    "        aggregation_type: Literal[\"mean\", \"max\"],\n",
    "        concat_with_last_token: bool,\n",
    "        num_classes: int,\n",
    "    ):\n",
    "        \"\"\"Text classifier based on RNN\n",
    "\n",
    "        Args:\n",
    "            vocab_size: size of tokens vocabulary\n",
    "            padding_idx: index of padding token\n",
    "            rnn_params: parameters of RNN layer, common for nn.RNN, nn.LSTM and nn.GRU\n",
    "            rnn_type: type of RNN. Can be `vanila` (nn.RNN), `gru` (nn.GRU) and `lstm` (nn.LSTM)\n",
    "            dropout: dropout probability for linear layer after RNN\n",
    "            aggregation_type: type aggregation of RNN outputs for each token. Can be `max` or `mean`\n",
    "            concat_with_last_token: if True, last token (and first when RNN is bidirectional)\n",
    "            will be concatenated to aggregated RNN outputs\n",
    "            num_classes: number of classes for classification\n",
    "        \"\"\"\n",
    "        super().__init__()\n",
    "        rnn_hidden_dim = rnn_params.hidden_size\n",
    "        linear_dim = (\n",
    "            (2 * rnn_hidden_dim) if rnn_params.bidirectional else rnn_hidden_dim\n",
    "        )\n",
    "        if concat_with_last_token:\n",
    "            linear_dim *= 2\n",
    "        self.embedding = nn.Embedding(\n",
    "            vocab_size,\n",
    "            rnn_hidden_dim,\n",
    "            padding_idx=padding_idx,\n",
    "        )\n",
    "        self.rnn = self._RNN_TYPES[rnn_type](\n",
    "            input_size=rnn_hidden_dim, batch_first=True, **asdict(rnn_params)\n",
    "        )\n",
    "        self.linear = nn.Linear(linear_dim, linear_dim)\n",
    "        self.projection = nn.Linear(linear_dim, num_classes)\n",
    "\n",
    "        self.activation = nn.Tanh()\n",
    "        self.dropout = nn.Dropout(p=dropout)\n",
    "\n",
    "        self.aggregation_type = aggregation_type\n",
    "        self.concat_with_last_token = concat_with_last_token\n",
    "\n",
    "    def forward(self, inputs: torch.Tensor) -> torch.Tensor:\n",
    "        embeddings = self.embedding(inputs)  # [batch_size, seq_len, rnn_hidden_dim]\n",
    "        output, _ = self.rnn(embeddings)  # [batch_size, seq_len, linear_dim]\n",
    "\n",
    "        if self.aggregation_type == \"max\":\n",
    "            agg_output = output.max(dim=1)[0]  # [batch_size, linear_dim]\n",
    "        elif self.aggregation_type == \"mean\":\n",
    "            agg_output = output.mean(dim=1)  # [batch_size, linear_dim]\n",
    "        else:\n",
    "            raise ValueError(\"Invalid aggregation_type\")\n",
    "        if self.concat_with_last_token:\n",
    "            # If RNN bidirectional, agg output will be concatenated with last token of forward direction and first token of backward direction\n",
    "            if self.rnn.bidirectional:\n",
    "                forward_backward_output = output.view(\n",
    "                    inputs.size(0), inputs.size(1), 2, -1\n",
    "                )\n",
    "                forward_last_token = forward_backward_output[:, -1, 0, :]\n",
    "                backward_first_token = forward_backward_output[:, 0, 1, :]\n",
    "                output = torch.concat(\n",
    "                    (\n",
    "                        agg_output,\n",
    "                        forward_last_token,\n",
    "                        backward_first_token,\n",
    "                    ),\n",
    "                    dim=-1,\n",
    "                )  # [batch_size, linear_dim * 2]\n",
    "            else:\n",
    "                output = torch.concat(\n",
    "                    (\n",
    "                        agg_output,\n",
    "                        torch.select(output, 1, -1),\n",
    "                    ),\n",
    "                    dim=-1,\n",
    "                )  # [batch_size, linear_dim * 2]\n",
    "        else:\n",
    "            output = agg_output\n",
    "        del agg_output\n",
    "\n",
    "        output = self.dropout(\n",
    "            self.linear(self.activation(output))\n",
    "        )  # [batch_size, linear_dim]\n",
    "        prediction = self.projection(\n",
    "            self.activation(output)\n",
    "        )  # [batch_size, num_classes]\n",
    "\n",
    "        return prediction"
   ]
  },
  {
   "cell_type": "code",
   "execution_count": 10,
   "metadata": {},
   "outputs": [],
   "source": [
    "def train_loop(\n",
    "    train_dataloader: DataLoader,\n",
    "    eval_dataloader: DataLoader,\n",
    "    *,\n",
    "    vocab_size: int,\n",
    "    padding_idx: int,\n",
    "    model_hparams: Dict[str, Any],\n",
    "    epochs: int,\n",
    "):\n",
    "    print(f\"Starting training for hparams: {model_hparams}\")\n",
    "    losses = []\n",
    "    acc = []\n",
    "\n",
    "    rnn_params = RnnParams(**model_hparams[\"rnn_params\"])\n",
    "\n",
    "    model = TextClassifier(\n",
    "        vocab_size=vocab_size,\n",
    "        padding_idx=padding_idx,\n",
    "        rnn_params=rnn_params,\n",
    "        rnn_type=model_hparams[\"rnn_type\"],\n",
    "        dropout=model_hparams[\"dropout\"],\n",
    "        aggregation_type=model_hparams[\"aggregation_type\"],\n",
    "        concat_with_last_token=model_hparams[\"concat_with_last_token\"],\n",
    "        num_classes=4,\n",
    "    ).to(device)\n",
    "    criterion = nn.CrossEntropyLoss()\n",
    "    optimizer = torch.optim.Adam(model.parameters())\n",
    "\n",
    "    for epoch in range(epochs):\n",
    "        epoch_losses = []\n",
    "        model.train()\n",
    "        for i, batch in enumerate(\n",
    "            tqdm(\n",
    "                train_dataloader,\n",
    "                desc=f\"Training epoch {epoch}:\",\n",
    "            )\n",
    "        ):\n",
    "            optimizer.zero_grad()\n",
    "            logits = model(batch[\"input_ids\"])\n",
    "            loss = criterion(logits, batch[\"label\"])\n",
    "            loss.backward()\n",
    "            optimizer.step()\n",
    "\n",
    "            epoch_losses.append(loss.item())\n",
    "\n",
    "        losses.append(sum(epoch_losses) / len(epoch_losses))\n",
    "        model.eval()\n",
    "        acc.append(evaluate(model, eval_dataloader))\n",
    "\n",
    "    return losses, acc"
   ]
  },
  {
   "cell_type": "markdown",
   "metadata": {},
   "source": [
    "# Baseline model"
   ]
  },
  {
   "cell_type": "markdown",
   "metadata": {},
   "source": [
    "В качестве бейзлайна была выбрана двунаправленная ванильная RNN (`nn.RNN`) с размерностью 256, 1 слоем. Выходы RNN агрегировались усреднением. Количество эпох равно 10"
   ]
  },
  {
   "cell_type": "code",
   "execution_count": 11,
   "metadata": {},
   "outputs": [],
   "source": [
    "baseline_model_hparams = {\n",
    "    \"rnn_params\": {\n",
    "        \"hidden_size\": 256,\n",
    "        \"num_layers\": 1,\n",
    "        \"bidirectional\": True,\n",
    "        \"dropout\": 0,\n",
    "    },\n",
    "    \"rnn_type\": \"vanila\",\n",
    "    \"dropout\": 0.0,\n",
    "    \"aggregation_type\": \"mean\",\n",
    "    \"concat_with_last_token\": False,\n",
    "}\n",
    "baseline_epochs = 10"
   ]
  },
  {
   "cell_type": "code",
   "execution_count": 14,
   "metadata": {},
   "outputs": [
    {
     "name": "stdout",
     "output_type": "stream",
     "text": [
      "Starting training for hparams: {'rnn_params': {'hidden_size': 256, 'num_layers': 1, 'bidirectional': True, 'dropout': 0}, 'rnn_type': 'vanila', 'dropout': 0.0, 'aggregation_type': 'mean', 'concat_with_last_token': False}\n"
     ]
    },
    {
     "data": {
      "application/vnd.jupyter.widget-view+json": {
       "model_id": "e85b05fb194345ae8643dd7679526524",
       "version_major": 2,
       "version_minor": 0
      },
      "text/plain": [
       "Training epoch 0::   0%|          | 0/3750 [00:00<?, ?it/s]"
      ]
     },
     "metadata": {},
     "output_type": "display_data"
    },
    {
     "data": {
      "application/vnd.jupyter.widget-view+json": {
       "model_id": "295bfb4dcc9745a9ad6cc6747128bcf3",
       "version_major": 2,
       "version_minor": 0
      },
      "text/plain": [
       "Training epoch 1::   0%|          | 0/3750 [00:00<?, ?it/s]"
      ]
     },
     "metadata": {},
     "output_type": "display_data"
    },
    {
     "data": {
      "application/vnd.jupyter.widget-view+json": {
       "model_id": "1409644ee51d4290b9dc2f24be956cb3",
       "version_major": 2,
       "version_minor": 0
      },
      "text/plain": [
       "Training epoch 2::   0%|          | 0/3750 [00:00<?, ?it/s]"
      ]
     },
     "metadata": {},
     "output_type": "display_data"
    },
    {
     "data": {
      "application/vnd.jupyter.widget-view+json": {
       "model_id": "c59c1d43286642c79ff3277b26f6108e",
       "version_major": 2,
       "version_minor": 0
      },
      "text/plain": [
       "Training epoch 3::   0%|          | 0/3750 [00:00<?, ?it/s]"
      ]
     },
     "metadata": {},
     "output_type": "display_data"
    },
    {
     "data": {
      "application/vnd.jupyter.widget-view+json": {
       "model_id": "c68164d63fb345c0a7687f9f0c49bde8",
       "version_major": 2,
       "version_minor": 0
      },
      "text/plain": [
       "Training epoch 4::   0%|          | 0/3750 [00:00<?, ?it/s]"
      ]
     },
     "metadata": {},
     "output_type": "display_data"
    },
    {
     "data": {
      "application/vnd.jupyter.widget-view+json": {
       "model_id": "801a9f4f89f14a3498127718ae4b6e77",
       "version_major": 2,
       "version_minor": 0
      },
      "text/plain": [
       "Training epoch 5::   0%|          | 0/3750 [00:00<?, ?it/s]"
      ]
     },
     "metadata": {},
     "output_type": "display_data"
    },
    {
     "data": {
      "application/vnd.jupyter.widget-view+json": {
       "model_id": "d65f4c295d0c4c91874e6303c436ae6a",
       "version_major": 2,
       "version_minor": 0
      },
      "text/plain": [
       "Training epoch 6::   0%|          | 0/3750 [00:00<?, ?it/s]"
      ]
     },
     "metadata": {},
     "output_type": "display_data"
    },
    {
     "data": {
      "application/vnd.jupyter.widget-view+json": {
       "model_id": "e8c2ac2ea65d4268972330dbe78349ae",
       "version_major": 2,
       "version_minor": 0
      },
      "text/plain": [
       "Training epoch 7::   0%|          | 0/3750 [00:00<?, ?it/s]"
      ]
     },
     "metadata": {},
     "output_type": "display_data"
    },
    {
     "data": {
      "application/vnd.jupyter.widget-view+json": {
       "model_id": "f22efe73a3104a99bd26da0c3bb7ce4f",
       "version_major": 2,
       "version_minor": 0
      },
      "text/plain": [
       "Training epoch 8::   0%|          | 0/3750 [00:00<?, ?it/s]"
      ]
     },
     "metadata": {},
     "output_type": "display_data"
    },
    {
     "data": {
      "application/vnd.jupyter.widget-view+json": {
       "model_id": "d0826ad8c2d34778b66fe29048337a02",
       "version_major": 2,
       "version_minor": 0
      },
      "text/plain": [
       "Training epoch 9::   0%|          | 0/3750 [00:00<?, ?it/s]"
      ]
     },
     "metadata": {},
     "output_type": "display_data"
    }
   ],
   "source": [
    "baseline_losses, baseline_acc = train_loop(\n",
    "    train_dataloader,\n",
    "    eval_dataloader,\n",
    "    vocab_size=len(vocab),\n",
    "    padding_idx=word2ind[\"<pad>\"],\n",
    "    model_hparams=baseline_model_hparams,\n",
    "    epochs=baseline_epochs,\n",
    ")"
   ]
  },
  {
   "cell_type": "code",
   "execution_count": 15,
   "metadata": {},
   "outputs": [
    {
     "name": "stderr",
     "output_type": "stream",
     "text": [
      "/tmp/ipykernel_172786/1903719085.py:5: UserWarning: No artists with labels found to put in legend.  Note that artists whose label start with an underscore are ignored when legend() is called with no argument.\n",
      "  ax.legend()\n"
     ]
    },
    {
     "data": {
      "image/png": "[encoded data removed]",
      "text/plain": [
       "<Figure size 640x480 with 1 Axes>"
      ]
     },
     "metadata": {},
     "output_type": "display_data"
    }
   ],
   "source": [
    "fig, ax = plt.subplots()\n",
    "ax.plot(np.arange(len(baseline_losses)) + 1, baseline_losses)\n",
    "ax.set_ylabel(\"Loss\")\n",
    "ax.set_xlabel(\"epoch\")\n",
    "ax.legend()\n",
    "plt.show()"
   ]
  },
  {
   "cell_type": "code",
   "execution_count": 18,
   "metadata": {},
   "outputs": [
    {
     "name": "stderr",
     "output_type": "stream",
     "text": [
      "/tmp/ipykernel_172786/1570959391.py:5: UserWarning: No artists with labels found to put in legend.  Note that artists whose label start with an underscore are ignored when legend() is called with no argument.\n",
      "  ax.legend()\n"
     ]
    },
    {
     "data": {
      "image/png": "[encoded data removed]",
      "text/plain": [
       "<Figure size 640x480 with 1 Axes>"
      ]
     },
     "metadata": {},
     "output_type": "display_data"
    }
   ],
   "source": [
    "fig, ax = plt.subplots()\n",
    "ax.plot(np.arange(len(baseline_acc)) + 1, baseline_acc)\n",
    "ax.set_ylabel(\"Accuracy\")\n",
    "ax.set_xlabel(\"epoch\")\n",
    "ax.legend()\n",
    "plt.show()"
   ]
  },
  {
   "cell_type": "code",
   "execution_count": 19,
   "metadata": {},
   "outputs": [
    {
     "name": "stdout",
     "output_type": "stream",
     "text": [
      "Best accuracy for baseline: 0.9112\n"
     ]
    }
   ],
   "source": [
    "print(f\"Best accuracy for baseline: {max(baseline_acc):.4f}\")"
   ]
  },
  {
   "cell_type": "markdown",
   "metadata": {},
   "source": [
    "# RNN architecture selection"
   ]
  },
  {
   "cell_type": "markdown",
   "metadata": {},
   "source": [
    "Первый эксперимент был связан с выбором архитектуры RNN"
   ]
  },
  {
   "cell_type": "code",
   "execution_count": 20,
   "metadata": {},
   "outputs": [
    {
     "name": "stdout",
     "output_type": "stream",
     "text": [
      "Starting training for hparams: {'rnn_params': {'hidden_size': 256, 'num_layers': 1, 'bidirectional': True, 'dropout': 0}, 'rnn_type': 'gru', 'dropout': 0.0, 'aggregation_type': 'mean', 'concat_with_last_token': False}\n"
     ]
    },
    {
     "data": {
      "application/vnd.jupyter.widget-view+json": {
       "model_id": "4eeadce4f3e54ae9931f8a9b85a7ba00",
       "version_major": 2,
       "version_minor": 0
      },
      "text/plain": [
       "Training epoch 0::   0%|          | 0/3750 [00:00<?, ?it/s]"
      ]
     },
     "metadata": {},
     "output_type": "display_data"
    },
    {
     "data": {
      "application/vnd.jupyter.widget-view+json": {
       "model_id": "d43e3952e12843b28fcf42fb3b98e3cf",
       "version_major": 2,
       "version_minor": 0
      },
      "text/plain": [
       "Training epoch 1::   0%|          | 0/3750 [00:00<?, ?it/s]"
      ]
     },
     "metadata": {},
     "output_type": "display_data"
    },
    {
     "data": {
      "application/vnd.jupyter.widget-view+json": {
       "model_id": "f018587ed556481bbccc33cd0890c1b5",
       "version_major": 2,
       "version_minor": 0
      },
      "text/plain": [
       "Training epoch 2::   0%|          | 0/3750 [00:00<?, ?it/s]"
      ]
     },
     "metadata": {},
     "output_type": "display_data"
    },
    {
     "data": {
      "application/vnd.jupyter.widget-view+json": {
       "model_id": "3d35edf153bf467f88c3c087ca1a3a7d",
       "version_major": 2,
       "version_minor": 0
      },
      "text/plain": [
       "Training epoch 3::   0%|          | 0/3750 [00:00<?, ?it/s]"
      ]
     },
     "metadata": {},
     "output_type": "display_data"
    },
    {
     "data": {
      "application/vnd.jupyter.widget-view+json": {
       "model_id": "d31e1d2a363940709eb372f10f23b844",
       "version_major": 2,
       "version_minor": 0
      },
      "text/plain": [
       "Training epoch 4::   0%|          | 0/3750 [00:00<?, ?it/s]"
      ]
     },
     "metadata": {},
     "output_type": "display_data"
    },
    {
     "data": {
      "application/vnd.jupyter.widget-view+json": {
       "model_id": "9476cfc0bb094c9dbceda731425acf53",
       "version_major": 2,
       "version_minor": 0
      },
      "text/plain": [
       "Training epoch 5::   0%|          | 0/3750 [00:00<?, ?it/s]"
      ]
     },
     "metadata": {},
     "output_type": "display_data"
    },
    {
     "data": {
      "application/vnd.jupyter.widget-view+json": {
       "model_id": "ece9d54c522c447088a6c15b456f33f3",
       "version_major": 2,
       "version_minor": 0
      },
      "text/plain": [
       "Training epoch 6::   0%|          | 0/3750 [00:00<?, ?it/s]"
      ]
     },
     "metadata": {},
     "output_type": "display_data"
    },
    {
     "data": {
      "application/vnd.jupyter.widget-view+json": {
       "model_id": "82502c550c5249c990292036b7c58ceb",
       "version_major": 2,
       "version_minor": 0
      },
      "text/plain": [
       "Training epoch 7::   0%|          | 0/3750 [00:00<?, ?it/s]"
      ]
     },
     "metadata": {},
     "output_type": "display_data"
    },
    {
     "data": {
      "application/vnd.jupyter.widget-view+json": {
       "model_id": "808e375f332a49a2aec124590d67290d",
       "version_major": 2,
       "version_minor": 0
      },
      "text/plain": [
       "Training epoch 8::   0%|          | 0/3750 [00:00<?, ?it/s]"
      ]
     },
     "metadata": {},
     "output_type": "display_data"
    },
    {
     "data": {
      "application/vnd.jupyter.widget-view+json": {
       "model_id": "190037bcca80454e901ace21a1fb2c22",
       "version_major": 2,
       "version_minor": 0
      },
      "text/plain": [
       "Training epoch 9::   0%|          | 0/3750 [00:00<?, ?it/s]"
      ]
     },
     "metadata": {},
     "output_type": "display_data"
    },
    {
     "name": "stdout",
     "output_type": "stream",
     "text": [
      "Starting training for hparams: {'rnn_params': {'hidden_size': 256, 'num_layers': 1, 'bidirectional': True, 'dropout': 0}, 'rnn_type': 'lstm', 'dropout': 0.0, 'aggregation_type': 'mean', 'concat_with_last_token': False}\n"
     ]
    },
    {
     "data": {
      "application/vnd.jupyter.widget-view+json": {
       "model_id": "f10d4cb16679436a81c00001901059c5",
       "version_major": 2,
       "version_minor": 0
      },
      "text/plain": [
       "Training epoch 0::   0%|          | 0/3750 [00:00<?, ?it/s]"
      ]
     },
     "metadata": {},
     "output_type": "display_data"
    },
    {
     "data": {
      "application/vnd.jupyter.widget-view+json": {
       "model_id": "84efb3330c7b464998e91c0d517619c2",
       "version_major": 2,
       "version_minor": 0
      },
      "text/plain": [
       "Training epoch 1::   0%|          | 0/3750 [00:00<?, ?it/s]"
      ]
     },
     "metadata": {},
     "output_type": "display_data"
    },
    {
     "data": {
      "application/vnd.jupyter.widget-view+json": {
       "model_id": "1c4cb21594a444569bc5e575bd35eabf",
       "version_major": 2,
       "version_minor": 0
      },
      "text/plain": [
       "Training epoch 2::   0%|          | 0/3750 [00:00<?, ?it/s]"
      ]
     },
     "metadata": {},
     "output_type": "display_data"
    },
    {
     "data": {
      "application/vnd.jupyter.widget-view+json": {
       "model_id": "9aa48c5805ba412faf4ae7e8d244c764",
       "version_major": 2,
       "version_minor": 0
      },
      "text/plain": [
       "Training epoch 3::   0%|          | 0/3750 [00:00<?, ?it/s]"
      ]
     },
     "metadata": {},
     "output_type": "display_data"
    },
    {
     "data": {
      "application/vnd.jupyter.widget-view+json": {
       "model_id": "f29e32b1a40a4fc9b3b132f025cb3f4a",
       "version_major": 2,
       "version_minor": 0
      },
      "text/plain": [
       "Training epoch 4::   0%|          | 0/3750 [00:00<?, ?it/s]"
      ]
     },
     "metadata": {},
     "output_type": "display_data"
    },
    {
     "data": {
      "application/vnd.jupyter.widget-view+json": {
       "model_id": "6baa440a9ee74ac08bb0ee39c05b49db",
       "version_major": 2,
       "version_minor": 0
      },
      "text/plain": [
       "Training epoch 5::   0%|          | 0/3750 [00:00<?, ?it/s]"
      ]
     },
     "metadata": {},
     "output_type": "display_data"
    },
    {
     "data": {
      "application/vnd.jupyter.widget-view+json": {
       "model_id": "0aefa50d535b46269e814787c9be598a",
       "version_major": 2,
       "version_minor": 0
      },
      "text/plain": [
       "Training epoch 6::   0%|          | 0/3750 [00:00<?, ?it/s]"
      ]
     },
     "metadata": {},
     "output_type": "display_data"
    },
    {
     "data": {
      "application/vnd.jupyter.widget-view+json": {
       "model_id": "e9813b55a0aa41938f3154d02b30cc29",
       "version_major": 2,
       "version_minor": 0
      },
      "text/plain": [
       "Training epoch 7::   0%|          | 0/3750 [00:00<?, ?it/s]"
      ]
     },
     "metadata": {},
     "output_type": "display_data"
    },
    {
     "data": {
      "application/vnd.jupyter.widget-view+json": {
       "model_id": "d88aaf28f9e64e3f90b901c39d47c5cd",
       "version_major": 2,
       "version_minor": 0
      },
      "text/plain": [
       "Training epoch 8::   0%|          | 0/3750 [00:00<?, ?it/s]"
      ]
     },
     "metadata": {},
     "output_type": "display_data"
    },
    {
     "data": {
      "application/vnd.jupyter.widget-view+json": {
       "model_id": "77bcd0b636ed4e1f89febe11a2e50316",
       "version_major": 2,
       "version_minor": 0
      },
      "text/plain": [
       "Training epoch 9::   0%|          | 0/3750 [00:00<?, ?it/s]"
      ]
     },
     "metadata": {},
     "output_type": "display_data"
    }
   ],
   "source": [
    "rnn_types = [\"gru\", \"lstm\"]\n",
    "\n",
    "rnn_selection_results: Dict[str, Tuple[List[float], List[float]]] = dict()\n",
    "for rnn_type in rnn_types:\n",
    "    model_hparams = copy.deepcopy(baseline_model_hparams)\n",
    "    model_hparams[\"rnn_type\"] = rnn_type\n",
    "\n",
    "    rnn_selection_results[rnn_type] = train_loop(\n",
    "        train_dataloader,\n",
    "        eval_dataloader,\n",
    "        vocab_size=len(vocab),\n",
    "        padding_idx=word2ind[\"<pad>\"],\n",
    "        model_hparams=model_hparams,\n",
    "        epochs=baseline_epochs,\n",
    "    )"
   ]
  },
  {
   "cell_type": "code",
   "execution_count": 24,
   "metadata": {},
   "outputs": [
    {
     "data": {
      "image/png": "[encoded data removed]",
      "text/plain": [
       "<Figure size 640x480 with 1 Axes>"
      ]
     },
     "metadata": {},
     "output_type": "display_data"
    }
   ],
   "source": [
    "fig, ax = plt.subplots()\n",
    "ax.plot(\n",
    "    np.arange(len(baseline_losses)) + 1,\n",
    "    baseline_losses,\n",
    "    label=\"vanila\",\n",
    "    color=\"green\",\n",
    ")\n",
    "for rnn_type, color in zip(rnn_types, [\"red\", \"blue\"]):\n",
    "    losses = rnn_selection_results[rnn_type][0]\n",
    "    ax.plot(\n",
    "        np.arange(len(losses)) + 1,\n",
    "        losses,\n",
    "        label=rnn_type,\n",
    "        color=color,\n",
    "    )\n",
    "ax.set_ylabel(\"Loss\")\n",
    "ax.set_xlabel(\"epoch\")\n",
    "ax.legend()\n",
    "plt.show()"
   ]
  },
  {
   "cell_type": "code",
   "execution_count": 25,
   "metadata": {},
   "outputs": [
    {
     "data": {
      "image/png": "[encoded data removed]",
      "text/plain": [
       "<Figure size 640x480 with 1 Axes>"
      ]
     },
     "metadata": {},
     "output_type": "display_data"
    }
   ],
   "source": [
    "fig, ax = plt.subplots()\n",
    "ax.plot(\n",
    "    np.arange(len(baseline_acc)) + 1,\n",
    "    baseline_acc,\n",
    "    label=\"vanila\",\n",
    "    color=\"green\",\n",
    ")\n",
    "for rnn_type, color in zip(rnn_types, [\"red\", \"blue\"]):\n",
    "    acc = rnn_selection_results[rnn_type][1]\n",
    "    ax.plot(\n",
    "        np.arange(len(acc)) + 1,\n",
    "        acc,\n",
    "        label=rnn_type,\n",
    "        color=color,\n",
    "    )\n",
    "ax.set_ylabel(\"Accuracy\")\n",
    "ax.set_xlabel(\"epoch\")\n",
    "ax.legend()\n",
    "plt.show()"
   ]
  },
  {
   "cell_type": "code",
   "execution_count": 27,
   "metadata": {},
   "outputs": [
    {
     "name": "stdout",
     "output_type": "stream",
     "text": [
      "Best vanila RNN accuracy: 0.9112\n",
      "Best GRU accuracy: 0.9124\n",
      "Best LSTM accuracy: 0.9134\n"
     ]
    }
   ],
   "source": [
    "print(f\"Best vanila RNN accuracy: {max(baseline_acc):.4f}\")\n",
    "print(f'Best GRU accuracy: {max(rnn_selection_results[\"gru\"][1]):.4f}')\n",
    "print(f'Best LSTM accuracy: {max(rnn_selection_results[\"lstm\"][1]):.4f}')"
   ]
  },
  {
   "cell_type": "markdown",
   "metadata": {},
   "source": [
    "Лучшей архитектурой оказалась LSTM"
   ]
  },
  {
   "cell_type": "markdown",
   "metadata": {},
   "source": [
    "# Num layers selection"
   ]
  },
  {
   "cell_type": "markdown",
   "metadata": {},
   "source": [
    "Следующий эксперимент был саязан с выбором оптимльного размера количества слоев RNN (в нашем случае - LSTM).\n",
    "\n",
    "Так как количество слоев увеличивает количество обучаемых параметров модели, было также увеличено количество эпох обучения с 10 до 50"
   ]
  },
  {
   "cell_type": "code",
   "execution_count": 26,
   "metadata": {},
   "outputs": [
    {
     "name": "stdout",
     "output_type": "stream",
     "text": [
      "Starting training for hparams: {'rnn_params': {'hidden_size': 256, 'num_layers': 2, 'bidirectional': True, 'dropout': 0}, 'rnn_type': 'lstm', 'dropout': 0.0, 'aggregation_type': 'mean', 'concat_with_last_token': False}\n"
     ]
    },
    {
     "data": {
      "application/vnd.jupyter.widget-view+json": {
       "model_id": "7a12bec94cb9473bb68ba522e612a009",
       "version_major": 2,
       "version_minor": 0
      },
      "text/plain": [
       "Training epoch 0::   0%|          | 0/3750 [00:00<?, ?it/s]"
      ]
     },
     "metadata": {},
     "output_type": "display_data"
    },
    {
     "data": {
      "application/vnd.jupyter.widget-view+json": {
       "model_id": "ac52f061fbe24bf2be32d8a6e87b3a5c",
       "version_major": 2,
       "version_minor": 0
      },
      "text/plain": [
       "Training epoch 1::   0%|          | 0/3750 [00:00<?, ?it/s]"
      ]
     },
     "metadata": {},
     "output_type": "display_data"
    },
    {
     "data": {
      "application/vnd.jupyter.widget-view+json": {
       "model_id": "feee5ce3071e4e34984ef6dd307f8283",
       "version_major": 2,
       "version_minor": 0
      },
      "text/plain": [
       "Training epoch 2::   0%|          | 0/3750 [00:00<?, ?it/s]"
      ]
     },
     "metadata": {},
     "output_type": "display_data"
    },
    {
     "data": {
      "application/vnd.jupyter.widget-view+json": {
       "model_id": "c0f920a4e2634da7b0a8394cb67ddf84",
       "version_major": 2,
       "version_minor": 0
      },
      "text/plain": [
       "Training epoch 3::   0%|          | 0/3750 [00:00<?, ?it/s]"
      ]
     },
     "metadata": {},
     "output_type": "display_data"
    },
    {
     "data": {
      "application/vnd.jupyter.widget-view+json": {
       "model_id": "032a8579f4d6465db5680415b68a093b",
       "version_major": 2,
       "version_minor": 0
      },
      "text/plain": [
       "Training epoch 4::   0%|          | 0/3750 [00:00<?, ?it/s]"
      ]
     },
     "metadata": {},
     "output_type": "display_data"
    },
    {
     "data": {
      "application/vnd.jupyter.widget-view+json": {
       "model_id": "8dcfd5ce745e4b7a89c02a49ff51653f",
       "version_major": 2,
       "version_minor": 0
      },
      "text/plain": [
       "Training epoch 5::   0%|          | 0/3750 [00:00<?, ?it/s]"
      ]
     },
     "metadata": {},
     "output_type": "display_data"
    },
    {
     "data": {
      "application/vnd.jupyter.widget-view+json": {
       "model_id": "faaa9adda9d04ca78e71f7e694a83bc0",
       "version_major": 2,
       "version_minor": 0
      },
      "text/plain": [
       "Training epoch 6::   0%|          | 0/3750 [00:00<?, ?it/s]"
      ]
     },
     "metadata": {},
     "output_type": "display_data"
    },
    {
     "data": {
      "application/vnd.jupyter.widget-view+json": {
       "model_id": "5019d2bf399d4dcdaf679b2a0642ec69",
       "version_major": 2,
       "version_minor": 0
      },
      "text/plain": [
       "Training epoch 7::   0%|          | 0/3750 [00:00<?, ?it/s]"
      ]
     },
     "metadata": {},
     "output_type": "display_data"
    },
    {
     "data": {
      "application/vnd.jupyter.widget-view+json": {
       "model_id": "fa80bd103cf84de4a31a273e01c80268",
       "version_major": 2,
       "version_minor": 0
      },
      "text/plain": [
       "Training epoch 8::   0%|          | 0/3750 [00:00<?, ?it/s]"
      ]
     },
     "metadata": {},
     "output_type": "display_data"
    },
    {
     "data": {
      "application/vnd.jupyter.widget-view+json": {
       "model_id": "600149e1efb141f6bfc816cf18c42a59",
       "version_major": 2,
       "version_minor": 0
      },
      "text/plain": [
       "Training epoch 9::   0%|          | 0/3750 [00:00<?, ?it/s]"
      ]
     },
     "metadata": {},
     "output_type": "display_data"
    },
    {
     "data": {
      "application/vnd.jupyter.widget-view+json": {
       "model_id": "8cfec4c25c93490cbd9ae83bdaff48ce",
       "version_major": 2,
       "version_minor": 0
      },
      "text/plain": [
       "Training epoch 10::   0%|          | 0/3750 [00:00<?, ?it/s]"
      ]
     },
     "metadata": {},
     "output_type": "display_data"
    },
    {
     "data": {
      "application/vnd.jupyter.widget-view+json": {
       "model_id": "35d710aa317149b999c94c23e19de22b",
       "version_major": 2,
       "version_minor": 0
      },
      "text/plain": [
       "Training epoch 11::   0%|          | 0/3750 [00:00<?, ?it/s]"
      ]
     },
     "metadata": {},
     "output_type": "display_data"
    },
    {
     "data": {
      "application/vnd.jupyter.widget-view+json": {
       "model_id": "24cf47d2e1894716a23fb860aedeb5fa",
       "version_major": 2,
       "version_minor": 0
      },
      "text/plain": [
       "Training epoch 12::   0%|          | 0/3750 [00:00<?, ?it/s]"
      ]
     },
     "metadata": {},
     "output_type": "display_data"
    },
    {
     "data": {
      "application/vnd.jupyter.widget-view+json": {
       "model_id": "8314dd477c914273ba1c20e14f54e831",
       "version_major": 2,
       "version_minor": 0
      },
      "text/plain": [
       "Training epoch 13::   0%|          | 0/3750 [00:00<?, ?it/s]"
      ]
     },
     "metadata": {},
     "output_type": "display_data"
    },
    {
     "data": {
      "application/vnd.jupyter.widget-view+json": {
       "model_id": "321761cbfbb541c2b238ffc824d33547",
       "version_major": 2,
       "version_minor": 0
      },
      "text/plain": [
       "Training epoch 14::   0%|          | 0/3750 [00:00<?, ?it/s]"
      ]
     },
     "metadata": {},
     "output_type": "display_data"
    },
    {
     "data": {
      "application/vnd.jupyter.widget-view+json": {
       "model_id": "24985883452c44e69346b008b721edd6",
       "version_major": 2,
       "version_minor": 0
      },
      "text/plain": [
       "Training epoch 15::   0%|          | 0/3750 [00:00<?, ?it/s]"
      ]
     },
     "metadata": {},
     "output_type": "display_data"
    },
    {
     "data": {
      "application/vnd.jupyter.widget-view+json": {
       "model_id": "67332015e97948089a1edd9af1e2bad9",
       "version_major": 2,
       "version_minor": 0
      },
      "text/plain": [
       "Training epoch 16::   0%|          | 0/3750 [00:00<?, ?it/s]"
      ]
     },
     "metadata": {},
     "output_type": "display_data"
    },
    {
     "data": {
      "application/vnd.jupyter.widget-view+json": {
       "model_id": "dc8dc9a84ecb472e890f04845c669305",
       "version_major": 2,
       "version_minor": 0
      },
      "text/plain": [
       "Training epoch 17::   0%|          | 0/3750 [00:00<?, ?it/s]"
      ]
     },
     "metadata": {},
     "output_type": "display_data"
    },
    {
     "data": {
      "application/vnd.jupyter.widget-view+json": {
       "model_id": "64b4b23b91fe48c899e9da24a21d9ac6",
       "version_major": 2,
       "version_minor": 0
      },
      "text/plain": [
       "Training epoch 18::   0%|          | 0/3750 [00:00<?, ?it/s]"
      ]
     },
     "metadata": {},
     "output_type": "display_data"
    },
    {
     "data": {
      "application/vnd.jupyter.widget-view+json": {
       "model_id": "fecbd4a532a64b7d9028223079093289",
       "version_major": 2,
       "version_minor": 0
      },
      "text/plain": [
       "Training epoch 19::   0%|          | 0/3750 [00:00<?, ?it/s]"
      ]
     },
     "metadata": {},
     "output_type": "display_data"
    },
    {
     "data": {
      "application/vnd.jupyter.widget-view+json": {
       "model_id": "bda9102543cd4422ae78cf0f9758317b",
       "version_major": 2,
       "version_minor": 0
      },
      "text/plain": [
       "Training epoch 20::   0%|          | 0/3750 [00:00<?, ?it/s]"
      ]
     },
     "metadata": {},
     "output_type": "display_data"
    },
    {
     "data": {
      "application/vnd.jupyter.widget-view+json": {
       "model_id": "bc24a31b2f7b4c58b4bcb1ee84c86961",
       "version_major": 2,
       "version_minor": 0
      },
      "text/plain": [
       "Training epoch 21::   0%|          | 0/3750 [00:00<?, ?it/s]"
      ]
     },
     "metadata": {},
     "output_type": "display_data"
    },
    {
     "data": {
      "application/vnd.jupyter.widget-view+json": {
       "model_id": "3ada129eaccd470a9c2cd317195b1001",
       "version_major": 2,
       "version_minor": 0
      },
      "text/plain": [
       "Training epoch 22::   0%|          | 0/3750 [00:00<?, ?it/s]"
      ]
     },
     "metadata": {},
     "output_type": "display_data"
    },
    {
     "data": {
      "application/vnd.jupyter.widget-view+json": {
       "model_id": "96cf7f9763904c3b9125b7791618ac65",
       "version_major": 2,
       "version_minor": 0
      },
      "text/plain": [
       "Training epoch 23::   0%|          | 0/3750 [00:00<?, ?it/s]"
      ]
     },
     "metadata": {},
     "output_type": "display_data"
    },
    {
     "data": {
      "application/vnd.jupyter.widget-view+json": {
       "model_id": "a0fe17b1299f472d8549b61247ce46d5",
       "version_major": 2,
       "version_minor": 0
      },
      "text/plain": [
       "Training epoch 24::   0%|          | 0/3750 [00:00<?, ?it/s]"
      ]
     },
     "metadata": {},
     "output_type": "display_data"
    },
    {
     "data": {
      "application/vnd.jupyter.widget-view+json": {
       "model_id": "5e09b2ec26264ebba6f4f03cd8be52af",
       "version_major": 2,
       "version_minor": 0
      },
      "text/plain": [
       "Training epoch 25::   0%|          | 0/3750 [00:00<?, ?it/s]"
      ]
     },
     "metadata": {},
     "output_type": "display_data"
    },
    {
     "data": {
      "application/vnd.jupyter.widget-view+json": {
       "model_id": "ca03e515c0cb43559a127fcda5f4b024",
       "version_major": 2,
       "version_minor": 0
      },
      "text/plain": [
       "Training epoch 26::   0%|          | 0/3750 [00:00<?, ?it/s]"
      ]
     },
     "metadata": {},
     "output_type": "display_data"
    },
    {
     "data": {
      "application/vnd.jupyter.widget-view+json": {
       "model_id": "9083ede764ba46a0a7fb905c4f5e7e45",
       "version_major": 2,
       "version_minor": 0
      },
      "text/plain": [
       "Training epoch 27::   0%|          | 0/3750 [00:00<?, ?it/s]"
      ]
     },
     "metadata": {},
     "output_type": "display_data"
    },
    {
     "data": {
      "application/vnd.jupyter.widget-view+json": {
       "model_id": "eb66ad6d2740404489c6a3907c1211c0",
       "version_major": 2,
       "version_minor": 0
      },
      "text/plain": [
       "Training epoch 28::   0%|          | 0/3750 [00:00<?, ?it/s]"
      ]
     },
     "metadata": {},
     "output_type": "display_data"
    },
    {
     "data": {
      "application/vnd.jupyter.widget-view+json": {
       "model_id": "646a9a79d69a49c9937576ed06f7af11",
       "version_major": 2,
       "version_minor": 0
      },
      "text/plain": [
       "Training epoch 29::   0%|          | 0/3750 [00:00<?, ?it/s]"
      ]
     },
     "metadata": {},
     "output_type": "display_data"
    },
    {
     "data": {
      "application/vnd.jupyter.widget-view+json": {
       "model_id": "740d9308c67c42c29ee91df44deb9629",
       "version_major": 2,
       "version_minor": 0
      },
      "text/plain": [
       "Training epoch 30::   0%|          | 0/3750 [00:00<?, ?it/s]"
      ]
     },
     "metadata": {},
     "output_type": "display_data"
    },
    {
     "data": {
      "application/vnd.jupyter.widget-view+json": {
       "model_id": "e8a36651c4744519bfb975b2e4990c95",
       "version_major": 2,
       "version_minor": 0
      },
      "text/plain": [
       "Training epoch 31::   0%|          | 0/3750 [00:00<?, ?it/s]"
      ]
     },
     "metadata": {},
     "output_type": "display_data"
    },
    {
     "data": {
      "application/vnd.jupyter.widget-view+json": {
       "model_id": "73bb96b0f40743de96e08a5382f1e5a2",
       "version_major": 2,
       "version_minor": 0
      },
      "text/plain": [
       "Training epoch 32::   0%|          | 0/3750 [00:00<?, ?it/s]"
      ]
     },
     "metadata": {},
     "output_type": "display_data"
    },
    {
     "data": {
      "application/vnd.jupyter.widget-view+json": {
       "model_id": "83f9743253944c57a7e0a46be6d80b7a",
       "version_major": 2,
       "version_minor": 0
      },
      "text/plain": [
       "Training epoch 33::   0%|          | 0/3750 [00:00<?, ?it/s]"
      ]
     },
     "metadata": {},
     "output_type": "display_data"
    },
    {
     "data": {
      "application/vnd.jupyter.widget-view+json": {
       "model_id": "2b15d6dda0c3441c92a873cb1823c9c2",
       "version_major": 2,
       "version_minor": 0
      },
      "text/plain": [
       "Training epoch 34::   0%|          | 0/3750 [00:00<?, ?it/s]"
      ]
     },
     "metadata": {},
     "output_type": "display_data"
    },
    {
     "data": {
      "application/vnd.jupyter.widget-view+json": {
       "model_id": "aa13d212588e453aa1868d84f9a689a8",
       "version_major": 2,
       "version_minor": 0
      },
      "text/plain": [
       "Training epoch 35::   0%|          | 0/3750 [00:00<?, ?it/s]"
      ]
     },
     "metadata": {},
     "output_type": "display_data"
    },
    {
     "data": {
      "application/vnd.jupyter.widget-view+json": {
       "model_id": "ebf33d2f50154febaadf23137babef31",
       "version_major": 2,
       "version_minor": 0
      },
      "text/plain": [
       "Training epoch 36::   0%|          | 0/3750 [00:00<?, ?it/s]"
      ]
     },
     "metadata": {},
     "output_type": "display_data"
    },
    {
     "data": {
      "application/vnd.jupyter.widget-view+json": {
       "model_id": "de57ab6a36c84a7fbd971bd23ed1ade9",
       "version_major": 2,
       "version_minor": 0
      },
      "text/plain": [
       "Training epoch 37::   0%|          | 0/3750 [00:00<?, ?it/s]"
      ]
     },
     "metadata": {},
     "output_type": "display_data"
    },
    {
     "data": {
      "application/vnd.jupyter.widget-view+json": {
       "model_id": "e09c95fcd21d43f78deaaae45f03464d",
       "version_major": 2,
       "version_minor": 0
      },
      "text/plain": [
       "Training epoch 38::   0%|          | 0/3750 [00:00<?, ?it/s]"
      ]
     },
     "metadata": {},
     "output_type": "display_data"
    },
    {
     "data": {
      "application/vnd.jupyter.widget-view+json": {
       "model_id": "36bb683b7f56488d849d4d6c7a8202f1",
       "version_major": 2,
       "version_minor": 0
      },
      "text/plain": [
       "Training epoch 39::   0%|          | 0/3750 [00:00<?, ?it/s]"
      ]
     },
     "metadata": {},
     "output_type": "display_data"
    },
    {
     "data": {
      "application/vnd.jupyter.widget-view+json": {
       "model_id": "7006e0460b6b402c88110a0601f6cf3d",
       "version_major": 2,
       "version_minor": 0
      },
      "text/plain": [
       "Training epoch 40::   0%|          | 0/3750 [00:00<?, ?it/s]"
      ]
     },
     "metadata": {},
     "output_type": "display_data"
    },
    {
     "data": {
      "application/vnd.jupyter.widget-view+json": {
       "model_id": "57f956906f154b019595bf2f91a2371a",
       "version_major": 2,
       "version_minor": 0
      },
      "text/plain": [
       "Training epoch 41::   0%|          | 0/3750 [00:00<?, ?it/s]"
      ]
     },
     "metadata": {},
     "output_type": "display_data"
    },
    {
     "data": {
      "application/vnd.jupyter.widget-view+json": {
       "model_id": "cd5f893343d3454f8fecfe57eca7db69",
       "version_major": 2,
       "version_minor": 0
      },
      "text/plain": [
       "Training epoch 42::   0%|          | 0/3750 [00:00<?, ?it/s]"
      ]
     },
     "metadata": {},
     "output_type": "display_data"
    },
    {
     "data": {
      "application/vnd.jupyter.widget-view+json": {
       "model_id": "4c94b69d97844b63ab1bdc34e5ebfa71",
       "version_major": 2,
       "version_minor": 0
      },
      "text/plain": [
       "Training epoch 43::   0%|          | 0/3750 [00:00<?, ?it/s]"
      ]
     },
     "metadata": {},
     "output_type": "display_data"
    },
    {
     "data": {
      "application/vnd.jupyter.widget-view+json": {
       "model_id": "ce265dca419842adbd0b2da723c15cd4",
       "version_major": 2,
       "version_minor": 0
      },
      "text/plain": [
       "Training epoch 44::   0%|          | 0/3750 [00:00<?, ?it/s]"
      ]
     },
     "metadata": {},
     "output_type": "display_data"
    },
    {
     "data": {
      "application/vnd.jupyter.widget-view+json": {
       "model_id": "83e3e3a8b0b5400aa368cff88cfc3b81",
       "version_major": 2,
       "version_minor": 0
      },
      "text/plain": [
       "Training epoch 45::   0%|          | 0/3750 [00:00<?, ?it/s]"
      ]
     },
     "metadata": {},
     "output_type": "display_data"
    },
    {
     "data": {
      "application/vnd.jupyter.widget-view+json": {
       "model_id": "2b6136370ef44a609119553ccd0bfe47",
       "version_major": 2,
       "version_minor": 0
      },
      "text/plain": [
       "Training epoch 46::   0%|          | 0/3750 [00:00<?, ?it/s]"
      ]
     },
     "metadata": {},
     "output_type": "display_data"
    },
    {
     "data": {
      "application/vnd.jupyter.widget-view+json": {
       "model_id": "a3d5d7d22bbb47bc84909f69c5fe93d2",
       "version_major": 2,
       "version_minor": 0
      },
      "text/plain": [
       "Training epoch 47::   0%|          | 0/3750 [00:00<?, ?it/s]"
      ]
     },
     "metadata": {},
     "output_type": "display_data"
    },
    {
     "data": {
      "application/vnd.jupyter.widget-view+json": {
       "model_id": "cbda009ae796447ba6e10dafb930d8c7",
       "version_major": 2,
       "version_minor": 0
      },
      "text/plain": [
       "Training epoch 48::   0%|          | 0/3750 [00:00<?, ?it/s]"
      ]
     },
     "metadata": {},
     "output_type": "display_data"
    },
    {
     "data": {
      "application/vnd.jupyter.widget-view+json": {
       "model_id": "7543caee02d14fc6a19759ad3f119339",
       "version_major": 2,
       "version_minor": 0
      },
      "text/plain": [
       "Training epoch 49::   0%|          | 0/3750 [00:00<?, ?it/s]"
      ]
     },
     "metadata": {},
     "output_type": "display_data"
    },
    {
     "name": "stdout",
     "output_type": "stream",
     "text": [
      "Starting training for hparams: {'rnn_params': {'hidden_size': 256, 'num_layers': 3, 'bidirectional': True, 'dropout': 0}, 'rnn_type': 'lstm', 'dropout': 0.0, 'aggregation_type': 'mean', 'concat_with_last_token': False}\n"
     ]
    },
    {
     "data": {
      "application/vnd.jupyter.widget-view+json": {
       "model_id": "2d559f70e7ed4cb38a73d1c47bc60582",
       "version_major": 2,
       "version_minor": 0
      },
      "text/plain": [
       "Training epoch 0::   0%|          | 0/3750 [00:00<?, ?it/s]"
      ]
     },
     "metadata": {},
     "output_type": "display_data"
    },
    {
     "data": {
      "application/vnd.jupyter.widget-view+json": {
       "model_id": "dfedc167ea294651b0257887f1d6b115",
       "version_major": 2,
       "version_minor": 0
      },
      "text/plain": [
       "Training epoch 1::   0%|          | 0/3750 [00:00<?, ?it/s]"
      ]
     },
     "metadata": {},
     "output_type": "display_data"
    },
    {
     "data": {
      "application/vnd.jupyter.widget-view+json": {
       "model_id": "2d779e58e5cd4dde9d883ca9d53cbff5",
       "version_major": 2,
       "version_minor": 0
      },
      "text/plain": [
       "Training epoch 2::   0%|          | 0/3750 [00:00<?, ?it/s]"
      ]
     },
     "metadata": {},
     "output_type": "display_data"
    },
    {
     "data": {
      "application/vnd.jupyter.widget-view+json": {
       "model_id": "34a9c0418d724051abb1c08ff94c0166",
       "version_major": 2,
       "version_minor": 0
      },
      "text/plain": [
       "Training epoch 3::   0%|          | 0/3750 [00:00<?, ?it/s]"
      ]
     },
     "metadata": {},
     "output_type": "display_data"
    },
    {
     "data": {
      "application/vnd.jupyter.widget-view+json": {
       "model_id": "dce2658d696b44d7aa695b6d2c608c0f",
       "version_major": 2,
       "version_minor": 0
      },
      "text/plain": [
       "Training epoch 4::   0%|          | 0/3750 [00:00<?, ?it/s]"
      ]
     },
     "metadata": {},
     "output_type": "display_data"
    },
    {
     "data": {
      "application/vnd.jupyter.widget-view+json": {
       "model_id": "475c1bbde0924deca6f97aa9836bd415",
       "version_major": 2,
       "version_minor": 0
      },
      "text/plain": [
       "Training epoch 5::   0%|          | 0/3750 [00:00<?, ?it/s]"
      ]
     },
     "metadata": {},
     "output_type": "display_data"
    },
    {
     "data": {
      "application/vnd.jupyter.widget-view+json": {
       "model_id": "c4378e53a551462fafe1eddfa134c2b7",
       "version_major": 2,
       "version_minor": 0
      },
      "text/plain": [
       "Training epoch 6::   0%|          | 0/3750 [00:00<?, ?it/s]"
      ]
     },
     "metadata": {},
     "output_type": "display_data"
    },
    {
     "data": {
      "application/vnd.jupyter.widget-view+json": {
       "model_id": "ed702884094844728959647109bceb77",
       "version_major": 2,
       "version_minor": 0
      },
      "text/plain": [
       "Training epoch 7::   0%|          | 0/3750 [00:00<?, ?it/s]"
      ]
     },
     "metadata": {},
     "output_type": "display_data"
    },
    {
     "data": {
      "application/vnd.jupyter.widget-view+json": {
       "model_id": "18d0aa1fce184dd7aca6e2561719402d",
       "version_major": 2,
       "version_minor": 0
      },
      "text/plain": [
       "Training epoch 8::   0%|          | 0/3750 [00:00<?, ?it/s]"
      ]
     },
     "metadata": {},
     "output_type": "display_data"
    },
    {
     "data": {
      "application/vnd.jupyter.widget-view+json": {
       "model_id": "74f8fc7298594735a34f5795fc8012e6",
       "version_major": 2,
       "version_minor": 0
      },
      "text/plain": [
       "Training epoch 9::   0%|          | 0/3750 [00:00<?, ?it/s]"
      ]
     },
     "metadata": {},
     "output_type": "display_data"
    },
    {
     "data": {
      "application/vnd.jupyter.widget-view+json": {
       "model_id": "c4090eb345fd436b985757a9085a7c9c",
       "version_major": 2,
       "version_minor": 0
      },
      "text/plain": [
       "Training epoch 10::   0%|          | 0/3750 [00:00<?, ?it/s]"
      ]
     },
     "metadata": {},
     "output_type": "display_data"
    },
    {
     "data": {
      "application/vnd.jupyter.widget-view+json": {
       "model_id": "ded58165248744a7972db37566a8a4e9",
       "version_major": 2,
       "version_minor": 0
      },
      "text/plain": [
       "Training epoch 11::   0%|          | 0/3750 [00:00<?, ?it/s]"
      ]
     },
     "metadata": {},
     "output_type": "display_data"
    },
    {
     "data": {
      "application/vnd.jupyter.widget-view+json": {
       "model_id": "c65c31639de042c9ab98b5831066fca8",
       "version_major": 2,
       "version_minor": 0
      },
      "text/plain": [
       "Training epoch 12::   0%|          | 0/3750 [00:00<?, ?it/s]"
      ]
     },
     "metadata": {},
     "output_type": "display_data"
    },
    {
     "data": {
      "application/vnd.jupyter.widget-view+json": {
       "model_id": "fda7ef11965d4dcba6258af32f848d17",
       "version_major": 2,
       "version_minor": 0
      },
      "text/plain": [
       "Training epoch 13::   0%|          | 0/3750 [00:00<?, ?it/s]"
      ]
     },
     "metadata": {},
     "output_type": "display_data"
    },
    {
     "data": {
      "application/vnd.jupyter.widget-view+json": {
       "model_id": "e742547acdac429d8bfa4c86741ae84c",
       "version_major": 2,
       "version_minor": 0
      },
      "text/plain": [
       "Training epoch 14::   0%|          | 0/3750 [00:00<?, ?it/s]"
      ]
     },
     "metadata": {},
     "output_type": "display_data"
    },
    {
     "data": {
      "application/vnd.jupyter.widget-view+json": {
       "model_id": "5ff27e9296a74f68bbd70ab26d28dfb1",
       "version_major": 2,
       "version_minor": 0
      },
      "text/plain": [
       "Training epoch 15::   0%|          | 0/3750 [00:00<?, ?it/s]"
      ]
     },
     "metadata": {},
     "output_type": "display_data"
    },
    {
     "data": {
      "application/vnd.jupyter.widget-view+json": {
       "model_id": "d9e26745905544c5b664134b5dff7b77",
       "version_major": 2,
       "version_minor": 0
      },
      "text/plain": [
       "Training epoch 16::   0%|          | 0/3750 [00:00<?, ?it/s]"
      ]
     },
     "metadata": {},
     "output_type": "display_data"
    },
    {
     "data": {
      "application/vnd.jupyter.widget-view+json": {
       "model_id": "82191b7d4f3a4b27aa2086124caa612b",
       "version_major": 2,
       "version_minor": 0
      },
      "text/plain": [
       "Training epoch 17::   0%|          | 0/3750 [00:00<?, ?it/s]"
      ]
     },
     "metadata": {},
     "output_type": "display_data"
    },
    {
     "data": {
      "application/vnd.jupyter.widget-view+json": {
       "model_id": "075e42314ec942248ebe169b3efe4685",
       "version_major": 2,
       "version_minor": 0
      },
      "text/plain": [
       "Training epoch 18::   0%|          | 0/3750 [00:00<?, ?it/s]"
      ]
     },
     "metadata": {},
     "output_type": "display_data"
    },
    {
     "data": {
      "application/vnd.jupyter.widget-view+json": {
       "model_id": "9e6b4626f8c34606a080566cee5905a3",
       "version_major": 2,
       "version_minor": 0
      },
      "text/plain": [
       "Training epoch 19::   0%|          | 0/3750 [00:00<?, ?it/s]"
      ]
     },
     "metadata": {},
     "output_type": "display_data"
    },
    {
     "data": {
      "application/vnd.jupyter.widget-view+json": {
       "model_id": "ef61b568e634445c8aac1ef15a0f6682",
       "version_major": 2,
       "version_minor": 0
      },
      "text/plain": [
       "Training epoch 20::   0%|          | 0/3750 [00:00<?, ?it/s]"
      ]
     },
     "metadata": {},
     "output_type": "display_data"
    },
    {
     "data": {
      "application/vnd.jupyter.widget-view+json": {
       "model_id": "ff8527b10bc64e728b04dca79e4c2c05",
       "version_major": 2,
       "version_minor": 0
      },
      "text/plain": [
       "Training epoch 21::   0%|          | 0/3750 [00:00<?, ?it/s]"
      ]
     },
     "metadata": {},
     "output_type": "display_data"
    },
    {
     "data": {
      "application/vnd.jupyter.widget-view+json": {
       "model_id": "da3b2dc00ddc46468a9a2645c3c67ec2",
       "version_major": 2,
       "version_minor": 0
      },
      "text/plain": [
       "Training epoch 22::   0%|          | 0/3750 [00:00<?, ?it/s]"
      ]
     },
     "metadata": {},
     "output_type": "display_data"
    },
    {
     "data": {
      "application/vnd.jupyter.widget-view+json": {
       "model_id": "6655a9710997414d988425f107d29dac",
       "version_major": 2,
       "version_minor": 0
      },
      "text/plain": [
       "Training epoch 23::   0%|          | 0/3750 [00:00<?, ?it/s]"
      ]
     },
     "metadata": {},
     "output_type": "display_data"
    },
    {
     "data": {
      "application/vnd.jupyter.widget-view+json": {
       "model_id": "5de6e6589b6b4249b4b513e9bfdb70da",
       "version_major": 2,
       "version_minor": 0
      },
      "text/plain": [
       "Training epoch 24::   0%|          | 0/3750 [00:00<?, ?it/s]"
      ]
     },
     "metadata": {},
     "output_type": "display_data"
    },
    {
     "data": {
      "application/vnd.jupyter.widget-view+json": {
       "model_id": "4efc0a399dcd4505b7a9ad3adbdba0a5",
       "version_major": 2,
       "version_minor": 0
      },
      "text/plain": [
       "Training epoch 25::   0%|          | 0/3750 [00:00<?, ?it/s]"
      ]
     },
     "metadata": {},
     "output_type": "display_data"
    },
    {
     "data": {
      "application/vnd.jupyter.widget-view+json": {
       "model_id": "465edbea5e954baf9aecb7be8ce569a9",
       "version_major": 2,
       "version_minor": 0
      },
      "text/plain": [
       "Training epoch 26::   0%|          | 0/3750 [00:00<?, ?it/s]"
      ]
     },
     "metadata": {},
     "output_type": "display_data"
    },
    {
     "data": {
      "application/vnd.jupyter.widget-view+json": {
       "model_id": "6a28ae797d0243eca9cb4ed1c0cd0490",
       "version_major": 2,
       "version_minor": 0
      },
      "text/plain": [
       "Training epoch 27::   0%|          | 0/3750 [00:00<?, ?it/s]"
      ]
     },
     "metadata": {},
     "output_type": "display_data"
    },
    {
     "data": {
      "application/vnd.jupyter.widget-view+json": {
       "model_id": "26e024219ae54db5976e7002cd7080a5",
       "version_major": 2,
       "version_minor": 0
      },
      "text/plain": [
       "Training epoch 28::   0%|          | 0/3750 [00:00<?, ?it/s]"
      ]
     },
     "metadata": {},
     "output_type": "display_data"
    },
    {
     "data": {
      "application/vnd.jupyter.widget-view+json": {
       "model_id": "e710a3b530dc4f1694c76080af8676cf",
       "version_major": 2,
       "version_minor": 0
      },
      "text/plain": [
       "Training epoch 29::   0%|          | 0/3750 [00:00<?, ?it/s]"
      ]
     },
     "metadata": {},
     "output_type": "display_data"
    },
    {
     "data": {
      "application/vnd.jupyter.widget-view+json": {
       "model_id": "7a394fc4b60e45a4a5a1e6a90698d84e",
       "version_major": 2,
       "version_minor": 0
      },
      "text/plain": [
       "Training epoch 30::   0%|          | 0/3750 [00:00<?, ?it/s]"
      ]
     },
     "metadata": {},
     "output_type": "display_data"
    },
    {
     "data": {
      "application/vnd.jupyter.widget-view+json": {
       "model_id": "bdc67cad96a54e77897746a9d5e472df",
       "version_major": 2,
       "version_minor": 0
      },
      "text/plain": [
       "Training epoch 31::   0%|          | 0/3750 [00:00<?, ?it/s]"
      ]
     },
     "metadata": {},
     "output_type": "display_data"
    },
    {
     "data": {
      "application/vnd.jupyter.widget-view+json": {
       "model_id": "b9df0c4a97754cb1a2c8c24d71ee4a5e",
       "version_major": 2,
       "version_minor": 0
      },
      "text/plain": [
       "Training epoch 32::   0%|          | 0/3750 [00:00<?, ?it/s]"
      ]
     },
     "metadata": {},
     "output_type": "display_data"
    },
    {
     "data": {
      "application/vnd.jupyter.widget-view+json": {
       "model_id": "9dc24c2cbde0449db9f48da1957034fa",
       "version_major": 2,
       "version_minor": 0
      },
      "text/plain": [
       "Training epoch 33::   0%|          | 0/3750 [00:00<?, ?it/s]"
      ]
     },
     "metadata": {},
     "output_type": "display_data"
    },
    {
     "data": {
      "application/vnd.jupyter.widget-view+json": {
       "model_id": "f9bf8e9571364bb29c163ac3ecbb97bd",
       "version_major": 2,
       "version_minor": 0
      },
      "text/plain": [
       "Training epoch 34::   0%|          | 0/3750 [00:00<?, ?it/s]"
      ]
     },
     "metadata": {},
     "output_type": "display_data"
    },
    {
     "data": {
      "application/vnd.jupyter.widget-view+json": {
       "model_id": "8d7d7717d6e346cbb7026fc0a865415a",
       "version_major": 2,
       "version_minor": 0
      },
      "text/plain": [
       "Training epoch 35::   0%|          | 0/3750 [00:00<?, ?it/s]"
      ]
     },
     "metadata": {},
     "output_type": "display_data"
    },
    {
     "data": {
      "application/vnd.jupyter.widget-view+json": {
       "model_id": "5bb1ae7b8ecb4ef297b1a1ce88a72c42",
       "version_major": 2,
       "version_minor": 0
      },
      "text/plain": [
       "Training epoch 36::   0%|          | 0/3750 [00:00<?, ?it/s]"
      ]
     },
     "metadata": {},
     "output_type": "display_data"
    },
    {
     "data": {
      "application/vnd.jupyter.widget-view+json": {
       "model_id": "c19867cc296546a78110b616b4a5884d",
       "version_major": 2,
       "version_minor": 0
      },
      "text/plain": [
       "Training epoch 37::   0%|          | 0/3750 [00:00<?, ?it/s]"
      ]
     },
     "metadata": {},
     "output_type": "display_data"
    },
    {
     "data": {
      "application/vnd.jupyter.widget-view+json": {
       "model_id": "7cf6841cd6d14ced88d21513a75aba23",
       "version_major": 2,
       "version_minor": 0
      },
      "text/plain": [
       "Training epoch 38::   0%|          | 0/3750 [00:00<?, ?it/s]"
      ]
     },
     "metadata": {},
     "output_type": "display_data"
    },
    {
     "data": {
      "application/vnd.jupyter.widget-view+json": {
       "model_id": "7c1fcebe468e47e6917b4eaf2805caec",
       "version_major": 2,
       "version_minor": 0
      },
      "text/plain": [
       "Training epoch 39::   0%|          | 0/3750 [00:00<?, ?it/s]"
      ]
     },
     "metadata": {},
     "output_type": "display_data"
    },
    {
     "data": {
      "application/vnd.jupyter.widget-view+json": {
       "model_id": "71c42b521055492d9ea6c560dfe780af",
       "version_major": 2,
       "version_minor": 0
      },
      "text/plain": [
       "Training epoch 40::   0%|          | 0/3750 [00:00<?, ?it/s]"
      ]
     },
     "metadata": {},
     "output_type": "display_data"
    },
    {
     "data": {
      "application/vnd.jupyter.widget-view+json": {
       "model_id": "8e09277a467848e9983eec127a793cff",
       "version_major": 2,
       "version_minor": 0
      },
      "text/plain": [
       "Training epoch 41::   0%|          | 0/3750 [00:00<?, ?it/s]"
      ]
     },
     "metadata": {},
     "output_type": "display_data"
    },
    {
     "data": {
      "application/vnd.jupyter.widget-view+json": {
       "model_id": "4d5b9c673da44b7ea608998a411c9077",
       "version_major": 2,
       "version_minor": 0
      },
      "text/plain": [
       "Training epoch 42::   0%|          | 0/3750 [00:00<?, ?it/s]"
      ]
     },
     "metadata": {},
     "output_type": "display_data"
    },
    {
     "data": {
      "application/vnd.jupyter.widget-view+json": {
       "model_id": "dca4353869e749a79713d1276dd4f35a",
       "version_major": 2,
       "version_minor": 0
      },
      "text/plain": [
       "Training epoch 43::   0%|          | 0/3750 [00:00<?, ?it/s]"
      ]
     },
     "metadata": {},
     "output_type": "display_data"
    },
    {
     "data": {
      "application/vnd.jupyter.widget-view+json": {
       "model_id": "6c916d4618d5492ba191c1055ab48ce6",
       "version_major": 2,
       "version_minor": 0
      },
      "text/plain": [
       "Training epoch 44::   0%|          | 0/3750 [00:00<?, ?it/s]"
      ]
     },
     "metadata": {},
     "output_type": "display_data"
    },
    {
     "data": {
      "application/vnd.jupyter.widget-view+json": {
       "model_id": "6a7efa4eb7ab4439b23f2ae6fb53ec85",
       "version_major": 2,
       "version_minor": 0
      },
      "text/plain": [
       "Training epoch 45::   0%|          | 0/3750 [00:00<?, ?it/s]"
      ]
     },
     "metadata": {},
     "output_type": "display_data"
    },
    {
     "data": {
      "application/vnd.jupyter.widget-view+json": {
       "model_id": "6db985dea43f4c238e5702f83478bc3e",
       "version_major": 2,
       "version_minor": 0
      },
      "text/plain": [
       "Training epoch 46::   0%|          | 0/3750 [00:00<?, ?it/s]"
      ]
     },
     "metadata": {},
     "output_type": "display_data"
    },
    {
     "data": {
      "application/vnd.jupyter.widget-view+json": {
       "model_id": "a158a59013f44a27a91e4157eb11572b",
       "version_major": 2,
       "version_minor": 0
      },
      "text/plain": [
       "Training epoch 47::   0%|          | 0/3750 [00:00<?, ?it/s]"
      ]
     },
     "metadata": {},
     "output_type": "display_data"
    },
    {
     "data": {
      "application/vnd.jupyter.widget-view+json": {
       "model_id": "f5454753dcfd45968d102b83d36d4ae0",
       "version_major": 2,
       "version_minor": 0
      },
      "text/plain": [
       "Training epoch 48::   0%|          | 0/3750 [00:00<?, ?it/s]"
      ]
     },
     "metadata": {},
     "output_type": "display_data"
    },
    {
     "data": {
      "application/vnd.jupyter.widget-view+json": {
       "model_id": "f3aed1742d5c493d905c662175614eb3",
       "version_major": 2,
       "version_minor": 0
      },
      "text/plain": [
       "Training epoch 49::   0%|          | 0/3750 [00:00<?, ?it/s]"
      ]
     },
     "metadata": {},
     "output_type": "display_data"
    },
    {
     "name": "stdout",
     "output_type": "stream",
     "text": [
      "Starting training for hparams: {'rnn_params': {'hidden_size': 256, 'num_layers': 4, 'bidirectional': True, 'dropout': 0}, 'rnn_type': 'lstm', 'dropout': 0.0, 'aggregation_type': 'mean', 'concat_with_last_token': False}\n"
     ]
    },
    {
     "data": {
      "application/vnd.jupyter.widget-view+json": {
       "model_id": "d27d1ace263042789fdf9ef8c72ce81a",
       "version_major": 2,
       "version_minor": 0
      },
      "text/plain": [
       "Training epoch 0::   0%|          | 0/3750 [00:00<?, ?it/s]"
      ]
     },
     "metadata": {},
     "output_type": "display_data"
    },
    {
     "data": {
      "application/vnd.jupyter.widget-view+json": {
       "model_id": "88767889f2a14a5983feedc1718f5f08",
       "version_major": 2,
       "version_minor": 0
      },
      "text/plain": [
       "Training epoch 1::   0%|          | 0/3750 [00:00<?, ?it/s]"
      ]
     },
     "metadata": {},
     "output_type": "display_data"
    },
    {
     "data": {
      "application/vnd.jupyter.widget-view+json": {
       "model_id": "2b0d7986bef845b197b25630d7369151",
       "version_major": 2,
       "version_minor": 0
      },
      "text/plain": [
       "Training epoch 2::   0%|          | 0/3750 [00:00<?, ?it/s]"
      ]
     },
     "metadata": {},
     "output_type": "display_data"
    },
    {
     "data": {
      "application/vnd.jupyter.widget-view+json": {
       "model_id": "0c2b60e12c7843ea95b400453fda47ca",
       "version_major": 2,
       "version_minor": 0
      },
      "text/plain": [
       "Training epoch 3::   0%|          | 0/3750 [00:00<?, ?it/s]"
      ]
     },
     "metadata": {},
     "output_type": "display_data"
    },
    {
     "data": {
      "application/vnd.jupyter.widget-view+json": {
       "model_id": "b30855ef75624e65934b0e4b3dc23cf3",
       "version_major": 2,
       "version_minor": 0
      },
      "text/plain": [
       "Training epoch 4::   0%|          | 0/3750 [00:00<?, ?it/s]"
      ]
     },
     "metadata": {},
     "output_type": "display_data"
    },
    {
     "data": {
      "application/vnd.jupyter.widget-view+json": {
       "model_id": "9dedc93d6e9d45d4ac5d5a6dd030025b",
       "version_major": 2,
       "version_minor": 0
      },
      "text/plain": [
       "Training epoch 5::   0%|          | 0/3750 [00:00<?, ?it/s]"
      ]
     },
     "metadata": {},
     "output_type": "display_data"
    },
    {
     "data": {
      "application/vnd.jupyter.widget-view+json": {
       "model_id": "00373ea216944650991e489202868f31",
       "version_major": 2,
       "version_minor": 0
      },
      "text/plain": [
       "Training epoch 6::   0%|          | 0/3750 [00:00<?, ?it/s]"
      ]
     },
     "metadata": {},
     "output_type": "display_data"
    },
    {
     "data": {
      "application/vnd.jupyter.widget-view+json": {
       "model_id": "d47628d0db204f2287d99759ef87dcce",
       "version_major": 2,
       "version_minor": 0
      },
      "text/plain": [
       "Training epoch 7::   0%|          | 0/3750 [00:00<?, ?it/s]"
      ]
     },
     "metadata": {},
     "output_type": "display_data"
    },
    {
     "data": {
      "application/vnd.jupyter.widget-view+json": {
       "model_id": "5ce16a08d4d04d2a9e6d6f540ad4544e",
       "version_major": 2,
       "version_minor": 0
      },
      "text/plain": [
       "Training epoch 8::   0%|          | 0/3750 [00:00<?, ?it/s]"
      ]
     },
     "metadata": {},
     "output_type": "display_data"
    },
    {
     "data": {
      "application/vnd.jupyter.widget-view+json": {
       "model_id": "e1d7aefafe4a4ce6b2f88a2b7c81b52c",
       "version_major": 2,
       "version_minor": 0
      },
      "text/plain": [
       "Training epoch 9::   0%|          | 0/3750 [00:00<?, ?it/s]"
      ]
     },
     "metadata": {},
     "output_type": "display_data"
    },
    {
     "data": {
      "application/vnd.jupyter.widget-view+json": {
       "model_id": "cc1188089a99433e967a55cf5baaade7",
       "version_major": 2,
       "version_minor": 0
      },
      "text/plain": [
       "Training epoch 10::   0%|          | 0/3750 [00:00<?, ?it/s]"
      ]
     },
     "metadata": {},
     "output_type": "display_data"
    },
    {
     "data": {
      "application/vnd.jupyter.widget-view+json": {
       "model_id": "48ee3c11d9994cf4ab61dfcc336ff1bd",
       "version_major": 2,
       "version_minor": 0
      },
      "text/plain": [
       "Training epoch 11::   0%|          | 0/3750 [00:00<?, ?it/s]"
      ]
     },
     "metadata": {},
     "output_type": "display_data"
    },
    {
     "data": {
      "application/vnd.jupyter.widget-view+json": {
       "model_id": "3ca95a88c35e444d9ecfb8b537dd8993",
       "version_major": 2,
       "version_minor": 0
      },
      "text/plain": [
       "Training epoch 12::   0%|          | 0/3750 [00:00<?, ?it/s]"
      ]
     },
     "metadata": {},
     "output_type": "display_data"
    },
    {
     "data": {
      "application/vnd.jupyter.widget-view+json": {
       "model_id": "aade39faf8d740bda9c62b2bf2331bcc",
       "version_major": 2,
       "version_minor": 0
      },
      "text/plain": [
       "Training epoch 13::   0%|          | 0/3750 [00:00<?, ?it/s]"
      ]
     },
     "metadata": {},
     "output_type": "display_data"
    },
    {
     "data": {
      "application/vnd.jupyter.widget-view+json": {
       "model_id": "1154fa236fe04b37bdb8812a052bfc25",
       "version_major": 2,
       "version_minor": 0
      },
      "text/plain": [
       "Training epoch 14::   0%|          | 0/3750 [00:00<?, ?it/s]"
      ]
     },
     "metadata": {},
     "output_type": "display_data"
    },
    {
     "data": {
      "application/vnd.jupyter.widget-view+json": {
       "model_id": "b5b151fc04d54260936ceb9e32428f0f",
       "version_major": 2,
       "version_minor": 0
      },
      "text/plain": [
       "Training epoch 15::   0%|          | 0/3750 [00:00<?, ?it/s]"
      ]
     },
     "metadata": {},
     "output_type": "display_data"
    },
    {
     "data": {
      "application/vnd.jupyter.widget-view+json": {
       "model_id": "e55dd6f060014b399d4b932d467bfdc4",
       "version_major": 2,
       "version_minor": 0
      },
      "text/plain": [
       "Training epoch 16::   0%|          | 0/3750 [00:00<?, ?it/s]"
      ]
     },
     "metadata": {},
     "output_type": "display_data"
    },
    {
     "data": {
      "application/vnd.jupyter.widget-view+json": {
       "model_id": "56ba662bf9bd40518531cb93761e1ae3",
       "version_major": 2,
       "version_minor": 0
      },
      "text/plain": [
       "Training epoch 17::   0%|          | 0/3750 [00:00<?, ?it/s]"
      ]
     },
     "metadata": {},
     "output_type": "display_data"
    },
    {
     "data": {
      "application/vnd.jupyter.widget-view+json": {
       "model_id": "222227b5c37c44499a09065e3f76ce41",
       "version_major": 2,
       "version_minor": 0
      },
      "text/plain": [
       "Training epoch 18::   0%|          | 0/3750 [00:00<?, ?it/s]"
      ]
     },
     "metadata": {},
     "output_type": "display_data"
    },
    {
     "data": {
      "application/vnd.jupyter.widget-view+json": {
       "model_id": "43a7f7c14f634c53824dd81fa3513b76",
       "version_major": 2,
       "version_minor": 0
      },
      "text/plain": [
       "Training epoch 19::   0%|          | 0/3750 [00:00<?, ?it/s]"
      ]
     },
     "metadata": {},
     "output_type": "display_data"
    },
    {
     "data": {
      "application/vnd.jupyter.widget-view+json": {
       "model_id": "613381228f6447eca02e4c98e81c1117",
       "version_major": 2,
       "version_minor": 0
      },
      "text/plain": [
       "Training epoch 20::   0%|          | 0/3750 [00:00<?, ?it/s]"
      ]
     },
     "metadata": {},
     "output_type": "display_data"
    },
    {
     "data": {
      "application/vnd.jupyter.widget-view+json": {
       "model_id": "d40fd89632b54fbda1a8deb58e6357d0",
       "version_major": 2,
       "version_minor": 0
      },
      "text/plain": [
       "Training epoch 21::   0%|          | 0/3750 [00:00<?, ?it/s]"
      ]
     },
     "metadata": {},
     "output_type": "display_data"
    },
    {
     "data": {
      "application/vnd.jupyter.widget-view+json": {
       "model_id": "9170e57a44b6450abf52549b97413d3e",
       "version_major": 2,
       "version_minor": 0
      },
      "text/plain": [
       "Training epoch 22::   0%|          | 0/3750 [00:00<?, ?it/s]"
      ]
     },
     "metadata": {},
     "output_type": "display_data"
    },
    {
     "data": {
      "application/vnd.jupyter.widget-view+json": {
       "model_id": "999bfaad03744f04ac63d9e758f74be4",
       "version_major": 2,
       "version_minor": 0
      },
      "text/plain": [
       "Training epoch 23::   0%|          | 0/3750 [00:00<?, ?it/s]"
      ]
     },
     "metadata": {},
     "output_type": "display_data"
    },
    {
     "data": {
      "application/vnd.jupyter.widget-view+json": {
       "model_id": "d17ee91ba9a14abcb35892c107b0f4a5",
       "version_major": 2,
       "version_minor": 0
      },
      "text/plain": [
       "Training epoch 24::   0%|          | 0/3750 [00:00<?, ?it/s]"
      ]
     },
     "metadata": {},
     "output_type": "display_data"
    },
    {
     "data": {
      "application/vnd.jupyter.widget-view+json": {
       "model_id": "cd8a32452c2a45ad919a55be823a141c",
       "version_major": 2,
       "version_minor": 0
      },
      "text/plain": [
       "Training epoch 25::   0%|          | 0/3750 [00:00<?, ?it/s]"
      ]
     },
     "metadata": {},
     "output_type": "display_data"
    },
    {
     "data": {
      "application/vnd.jupyter.widget-view+json": {
       "model_id": "5513f2696f854645878ad404e11e0621",
       "version_major": 2,
       "version_minor": 0
      },
      "text/plain": [
       "Training epoch 26::   0%|          | 0/3750 [00:00<?, ?it/s]"
      ]
     },
     "metadata": {},
     "output_type": "display_data"
    },
    {
     "data": {
      "application/vnd.jupyter.widget-view+json": {
       "model_id": "e60b417befac409a8e4cfa2aa4976528",
       "version_major": 2,
       "version_minor": 0
      },
      "text/plain": [
       "Training epoch 27::   0%|          | 0/3750 [00:00<?, ?it/s]"
      ]
     },
     "metadata": {},
     "output_type": "display_data"
    },
    {
     "data": {
      "application/vnd.jupyter.widget-view+json": {
       "model_id": "ca1c0ce7edd845159f38855e5886d817",
       "version_major": 2,
       "version_minor": 0
      },
      "text/plain": [
       "Training epoch 28::   0%|          | 0/3750 [00:00<?, ?it/s]"
      ]
     },
     "metadata": {},
     "output_type": "display_data"
    },
    {
     "data": {
      "application/vnd.jupyter.widget-view+json": {
       "model_id": "7be56fad7c584358aa15d182aae3728c",
       "version_major": 2,
       "version_minor": 0
      },
      "text/plain": [
       "Training epoch 29::   0%|          | 0/3750 [00:00<?, ?it/s]"
      ]
     },
     "metadata": {},
     "output_type": "display_data"
    },
    {
     "data": {
      "application/vnd.jupyter.widget-view+json": {
       "model_id": "987063b99b224d8e9c5693b991f5f21f",
       "version_major": 2,
       "version_minor": 0
      },
      "text/plain": [
       "Training epoch 30::   0%|          | 0/3750 [00:00<?, ?it/s]"
      ]
     },
     "metadata": {},
     "output_type": "display_data"
    },
    {
     "data": {
      "application/vnd.jupyter.widget-view+json": {
       "model_id": "6df6515f565e47aa8890dc16fe01e7ba",
       "version_major": 2,
       "version_minor": 0
      },
      "text/plain": [
       "Training epoch 31::   0%|          | 0/3750 [00:00<?, ?it/s]"
      ]
     },
     "metadata": {},
     "output_type": "display_data"
    },
    {
     "data": {
      "application/vnd.jupyter.widget-view+json": {
       "model_id": "a67ca6873bd34ba5a3d6045069847f19",
       "version_major": 2,
       "version_minor": 0
      },
      "text/plain": [
       "Training epoch 32::   0%|          | 0/3750 [00:00<?, ?it/s]"
      ]
     },
     "metadata": {},
     "output_type": "display_data"
    },
    {
     "data": {
      "application/vnd.jupyter.widget-view+json": {
       "model_id": "a8fe93f4057543968217dcf36bcc9dc3",
       "version_major": 2,
       "version_minor": 0
      },
      "text/plain": [
       "Training epoch 33::   0%|          | 0/3750 [00:00<?, ?it/s]"
      ]
     },
     "metadata": {},
     "output_type": "display_data"
    },
    {
     "data": {
      "application/vnd.jupyter.widget-view+json": {
       "model_id": "2786ae7de1b94800b2d4dd7e9206acb8",
       "version_major": 2,
       "version_minor": 0
      },
      "text/plain": [
       "Training epoch 34::   0%|          | 0/3750 [00:00<?, ?it/s]"
      ]
     },
     "metadata": {},
     "output_type": "display_data"
    },
    {
     "data": {
      "application/vnd.jupyter.widget-view+json": {
       "model_id": "c43dbbf1e9244933ba42414bf5a2ff70",
       "version_major": 2,
       "version_minor": 0
      },
      "text/plain": [
       "Training epoch 35::   0%|          | 0/3750 [00:00<?, ?it/s]"
      ]
     },
     "metadata": {},
     "output_type": "display_data"
    },
    {
     "data": {
      "application/vnd.jupyter.widget-view+json": {
       "model_id": "8ee072caa6424489af9eac401c90a69a",
       "version_major": 2,
       "version_minor": 0
      },
      "text/plain": [
       "Training epoch 36::   0%|          | 0/3750 [00:00<?, ?it/s]"
      ]
     },
     "metadata": {},
     "output_type": "display_data"
    },
    {
     "data": {
      "application/vnd.jupyter.widget-view+json": {
       "model_id": "b60b0634e53c4303a63d14c46a28ac6c",
       "version_major": 2,
       "version_minor": 0
      },
      "text/plain": [
       "Training epoch 37::   0%|          | 0/3750 [00:00<?, ?it/s]"
      ]
     },
     "metadata": {},
     "output_type": "display_data"
    },
    {
     "data": {
      "application/vnd.jupyter.widget-view+json": {
       "model_id": "9e61de22ddbb4bfd8570a7222a58168a",
       "version_major": 2,
       "version_minor": 0
      },
      "text/plain": [
       "Training epoch 38::   0%|          | 0/3750 [00:00<?, ?it/s]"
      ]
     },
     "metadata": {},
     "output_type": "display_data"
    },
    {
     "data": {
      "application/vnd.jupyter.widget-view+json": {
       "model_id": "f53f115fcec34921bc41e0223796bf88",
       "version_major": 2,
       "version_minor": 0
      },
      "text/plain": [
       "Training epoch 39::   0%|          | 0/3750 [00:00<?, ?it/s]"
      ]
     },
     "metadata": {},
     "output_type": "display_data"
    },
    {
     "data": {
      "application/vnd.jupyter.widget-view+json": {
       "model_id": "7bacbb55edc244be93ae8ff28c5b77e5",
       "version_major": 2,
       "version_minor": 0
      },
      "text/plain": [
       "Training epoch 40::   0%|          | 0/3750 [00:00<?, ?it/s]"
      ]
     },
     "metadata": {},
     "output_type": "display_data"
    },
    {
     "data": {
      "application/vnd.jupyter.widget-view+json": {
       "model_id": "240271555df145aabfd23d30b743a0d2",
       "version_major": 2,
       "version_minor": 0
      },
      "text/plain": [
       "Training epoch 41::   0%|          | 0/3750 [00:00<?, ?it/s]"
      ]
     },
     "metadata": {},
     "output_type": "display_data"
    },
    {
     "data": {
      "application/vnd.jupyter.widget-view+json": {
       "model_id": "a247c05a857b41b9a5aa133897a478cc",
       "version_major": 2,
       "version_minor": 0
      },
      "text/plain": [
       "Training epoch 42::   0%|          | 0/3750 [00:00<?, ?it/s]"
      ]
     },
     "metadata": {},
     "output_type": "display_data"
    },
    {
     "data": {
      "application/vnd.jupyter.widget-view+json": {
       "model_id": "575041068429477c9f0b004152886c46",
       "version_major": 2,
       "version_minor": 0
      },
      "text/plain": [
       "Training epoch 43::   0%|          | 0/3750 [00:00<?, ?it/s]"
      ]
     },
     "metadata": {},
     "output_type": "display_data"
    },
    {
     "data": {
      "application/vnd.jupyter.widget-view+json": {
       "model_id": "a3676d351ad7408ab6aa6c7ef9e1daa8",
       "version_major": 2,
       "version_minor": 0
      },
      "text/plain": [
       "Training epoch 44::   0%|          | 0/3750 [00:00<?, ?it/s]"
      ]
     },
     "metadata": {},
     "output_type": "display_data"
    },
    {
     "data": {
      "application/vnd.jupyter.widget-view+json": {
       "model_id": "bd990709f7e64e02a6168a1b553a4902",
       "version_major": 2,
       "version_minor": 0
      },
      "text/plain": [
       "Training epoch 45::   0%|          | 0/3750 [00:00<?, ?it/s]"
      ]
     },
     "metadata": {},
     "output_type": "display_data"
    },
    {
     "data": {
      "application/vnd.jupyter.widget-view+json": {
       "model_id": "50b0fcd0ac3448b88df1cc5567beb24d",
       "version_major": 2,
       "version_minor": 0
      },
      "text/plain": [
       "Training epoch 46::   0%|          | 0/3750 [00:00<?, ?it/s]"
      ]
     },
     "metadata": {},
     "output_type": "display_data"
    },
    {
     "data": {
      "application/vnd.jupyter.widget-view+json": {
       "model_id": "0262c6d5849143e296e9e7c0b4be8550",
       "version_major": 2,
       "version_minor": 0
      },
      "text/plain": [
       "Training epoch 47::   0%|          | 0/3750 [00:00<?, ?it/s]"
      ]
     },
     "metadata": {},
     "output_type": "display_data"
    },
    {
     "data": {
      "application/vnd.jupyter.widget-view+json": {
       "model_id": "bd18143818d54bd0986bc69045cf2e50",
       "version_major": 2,
       "version_minor": 0
      },
      "text/plain": [
       "Training epoch 48::   0%|          | 0/3750 [00:00<?, ?it/s]"
      ]
     },
     "metadata": {},
     "output_type": "display_data"
    },
    {
     "data": {
      "application/vnd.jupyter.widget-view+json": {
       "model_id": "31e005488c034d3f8af4f782f50c57b1",
       "version_major": 2,
       "version_minor": 0
      },
      "text/plain": [
       "Training epoch 49::   0%|          | 0/3750 [00:00<?, ?it/s]"
      ]
     },
     "metadata": {},
     "output_type": "display_data"
    },
    {
     "name": "stdout",
     "output_type": "stream",
     "text": [
      "Starting training for hparams: {'rnn_params': {'hidden_size': 256, 'num_layers': 5, 'bidirectional': True, 'dropout': 0}, 'rnn_type': 'lstm', 'dropout': 0.0, 'aggregation_type': 'mean', 'concat_with_last_token': False}\n"
     ]
    },
    {
     "data": {
      "application/vnd.jupyter.widget-view+json": {
       "model_id": "b4b9f6be1b594811950373e812873996",
       "version_major": 2,
       "version_minor": 0
      },
      "text/plain": [
       "Training epoch 0::   0%|          | 0/3750 [00:00<?, ?it/s]"
      ]
     },
     "metadata": {},
     "output_type": "display_data"
    },
    {
     "data": {
      "application/vnd.jupyter.widget-view+json": {
       "model_id": "a2090ea03d3f453eb3e29434fd15a343",
       "version_major": 2,
       "version_minor": 0
      },
      "text/plain": [
       "Training epoch 1::   0%|          | 0/3750 [00:00<?, ?it/s]"
      ]
     },
     "metadata": {},
     "output_type": "display_data"
    },
    {
     "data": {
      "application/vnd.jupyter.widget-view+json": {
       "model_id": "c9fa6651e2e54734b96d62f1ffc08479",
       "version_major": 2,
       "version_minor": 0
      },
      "text/plain": [
       "Training epoch 2::   0%|          | 0/3750 [00:00<?, ?it/s]"
      ]
     },
     "metadata": {},
     "output_type": "display_data"
    },
    {
     "data": {
      "application/vnd.jupyter.widget-view+json": {
       "model_id": "ddcbb6f7c2764ad8be67f735ebf411ed",
       "version_major": 2,
       "version_minor": 0
      },
      "text/plain": [
       "Training epoch 3::   0%|          | 0/3750 [00:00<?, ?it/s]"
      ]
     },
     "metadata": {},
     "output_type": "display_data"
    },
    {
     "data": {
      "application/vnd.jupyter.widget-view+json": {
       "model_id": "776280b53f3a470cabc43fc93c0fd16d",
       "version_major": 2,
       "version_minor": 0
      },
      "text/plain": [
       "Training epoch 4::   0%|          | 0/3750 [00:00<?, ?it/s]"
      ]
     },
     "metadata": {},
     "output_type": "display_data"
    },
    {
     "data": {
      "application/vnd.jupyter.widget-view+json": {
       "model_id": "e3d0438a9a2941d3aead28c4e7b3f940",
       "version_major": 2,
       "version_minor": 0
      },
      "text/plain": [
       "Training epoch 5::   0%|          | 0/3750 [00:00<?, ?it/s]"
      ]
     },
     "metadata": {},
     "output_type": "display_data"
    },
    {
     "data": {
      "application/vnd.jupyter.widget-view+json": {
       "model_id": "f64b1eb6015943229e624087799a9b51",
       "version_major": 2,
       "version_minor": 0
      },
      "text/plain": [
       "Training epoch 6::   0%|          | 0/3750 [00:00<?, ?it/s]"
      ]
     },
     "metadata": {},
     "output_type": "display_data"
    },
    {
     "data": {
      "application/vnd.jupyter.widget-view+json": {
       "model_id": "c7e6a635126b466b830de3f44fc36a12",
       "version_major": 2,
       "version_minor": 0
      },
      "text/plain": [
       "Training epoch 7::   0%|          | 0/3750 [00:00<?, ?it/s]"
      ]
     },
     "metadata": {},
     "output_type": "display_data"
    },
    {
     "data": {
      "application/vnd.jupyter.widget-view+json": {
       "model_id": "e9f50f4cb80346f2b75b0535536e2d74",
       "version_major": 2,
       "version_minor": 0
      },
      "text/plain": [
       "Training epoch 8::   0%|          | 0/3750 [00:00<?, ?it/s]"
      ]
     },
     "metadata": {},
     "output_type": "display_data"
    },
    {
     "data": {
      "application/vnd.jupyter.widget-view+json": {
       "model_id": "0e657578602a4250a720005a434f541c",
       "version_major": 2,
       "version_minor": 0
      },
      "text/plain": [
       "Training epoch 9::   0%|          | 0/3750 [00:00<?, ?it/s]"
      ]
     },
     "metadata": {},
     "output_type": "display_data"
    },
    {
     "data": {
      "application/vnd.jupyter.widget-view+json": {
       "model_id": "02a532aa4c574862bca8d398f77b6e47",
       "version_major": 2,
       "version_minor": 0
      },
      "text/plain": [
       "Training epoch 10::   0%|          | 0/3750 [00:00<?, ?it/s]"
      ]
     },
     "metadata": {},
     "output_type": "display_data"
    },
    {
     "data": {
      "application/vnd.jupyter.widget-view+json": {
       "model_id": "b7e7d67e601a4925bf3b62744acb41d2",
       "version_major": 2,
       "version_minor": 0
      },
      "text/plain": [
       "Training epoch 11::   0%|          | 0/3750 [00:00<?, ?it/s]"
      ]
     },
     "metadata": {},
     "output_type": "display_data"
    },
    {
     "data": {
      "application/vnd.jupyter.widget-view+json": {
       "model_id": "5e57ccf289484d01b6a6ff1645126e86",
       "version_major": 2,
       "version_minor": 0
      },
      "text/plain": [
       "Training epoch 12::   0%|          | 0/3750 [00:00<?, ?it/s]"
      ]
     },
     "metadata": {},
     "output_type": "display_data"
    },
    {
     "data": {
      "application/vnd.jupyter.widget-view+json": {
       "model_id": "bda24f92fee44fd0a73e80c51bb8f71b",
       "version_major": 2,
       "version_minor": 0
      },
      "text/plain": [
       "Training epoch 13::   0%|          | 0/3750 [00:00<?, ?it/s]"
      ]
     },
     "metadata": {},
     "output_type": "display_data"
    },
    {
     "data": {
      "application/vnd.jupyter.widget-view+json": {
       "model_id": "8ce7e973990442ed87dcc630b12148de",
       "version_major": 2,
       "version_minor": 0
      },
      "text/plain": [
       "Training epoch 14::   0%|          | 0/3750 [00:00<?, ?it/s]"
      ]
     },
     "metadata": {},
     "output_type": "display_data"
    },
    {
     "data": {
      "application/vnd.jupyter.widget-view+json": {
       "model_id": "5c09f6429806409b98fd52dfb34f3758",
       "version_major": 2,
       "version_minor": 0
      },
      "text/plain": [
       "Training epoch 15::   0%|          | 0/3750 [00:00<?, ?it/s]"
      ]
     },
     "metadata": {},
     "output_type": "display_data"
    },
    {
     "data": {
      "application/vnd.jupyter.widget-view+json": {
       "model_id": "350e1e336cee43ec8ec57aac2ffba167",
       "version_major": 2,
       "version_minor": 0
      },
      "text/plain": [
       "Training epoch 16::   0%|          | 0/3750 [00:00<?, ?it/s]"
      ]
     },
     "metadata": {},
     "output_type": "display_data"
    },
    {
     "data": {
      "application/vnd.jupyter.widget-view+json": {
       "model_id": "6bbbf44cc0e0423db11f6ee3aa2858a0",
       "version_major": 2,
       "version_minor": 0
      },
      "text/plain": [
       "Training epoch 17::   0%|          | 0/3750 [00:00<?, ?it/s]"
      ]
     },
     "metadata": {},
     "output_type": "display_data"
    },
    {
     "data": {
      "application/vnd.jupyter.widget-view+json": {
       "model_id": "bef0321e233e4e83b0ea6cac5e72fc05",
       "version_major": 2,
       "version_minor": 0
      },
      "text/plain": [
       "Training epoch 18::   0%|          | 0/3750 [00:00<?, ?it/s]"
      ]
     },
     "metadata": {},
     "output_type": "display_data"
    },
    {
     "data": {
      "application/vnd.jupyter.widget-view+json": {
       "model_id": "5dcb2bc77ae94db7be281eab8012cfd9",
       "version_major": 2,
       "version_minor": 0
      },
      "text/plain": [
       "Training epoch 19::   0%|          | 0/3750 [00:00<?, ?it/s]"
      ]
     },
     "metadata": {},
     "output_type": "display_data"
    },
    {
     "data": {
      "application/vnd.jupyter.widget-view+json": {
       "model_id": "9dd572717c544f74acf0782e13aa6e31",
       "version_major": 2,
       "version_minor": 0
      },
      "text/plain": [
       "Training epoch 20::   0%|          | 0/3750 [00:00<?, ?it/s]"
      ]
     },
     "metadata": {},
     "output_type": "display_data"
    },
    {
     "data": {
      "application/vnd.jupyter.widget-view+json": {
       "model_id": "ebc7535da7a04cb49edbd21538c348e3",
       "version_major": 2,
       "version_minor": 0
      },
      "text/plain": [
       "Training epoch 21::   0%|          | 0/3750 [00:00<?, ?it/s]"
      ]
     },
     "metadata": {},
     "output_type": "display_data"
    },
    {
     "data": {
      "application/vnd.jupyter.widget-view+json": {
       "model_id": "afcb6d34a64d4833b135582f577c7b71",
       "version_major": 2,
       "version_minor": 0
      },
      "text/plain": [
       "Training epoch 22::   0%|          | 0/3750 [00:00<?, ?it/s]"
      ]
     },
     "metadata": {},
     "output_type": "display_data"
    },
    {
     "data": {
      "application/vnd.jupyter.widget-view+json": {
       "model_id": "5f0de9944bb04bc4a240de6d55c39a26",
       "version_major": 2,
       "version_minor": 0
      },
      "text/plain": [
       "Training epoch 23::   0%|          | 0/3750 [00:00<?, ?it/s]"
      ]
     },
     "metadata": {},
     "output_type": "display_data"
    },
    {
     "data": {
      "application/vnd.jupyter.widget-view+json": {
       "model_id": "8c462d03e3a54b079fac0ef69197042e",
       "version_major": 2,
       "version_minor": 0
      },
      "text/plain": [
       "Training epoch 24::   0%|          | 0/3750 [00:00<?, ?it/s]"
      ]
     },
     "metadata": {},
     "output_type": "display_data"
    },
    {
     "data": {
      "application/vnd.jupyter.widget-view+json": {
       "model_id": "3d3d24077dad47ebb6a347974a834276",
       "version_major": 2,
       "version_minor": 0
      },
      "text/plain": [
       "Training epoch 25::   0%|          | 0/3750 [00:00<?, ?it/s]"
      ]
     },
     "metadata": {},
     "output_type": "display_data"
    },
    {
     "data": {
      "application/vnd.jupyter.widget-view+json": {
       "model_id": "bc7fa019799c4da6a5ab73a8977b2890",
       "version_major": 2,
       "version_minor": 0
      },
      "text/plain": [
       "Training epoch 26::   0%|          | 0/3750 [00:00<?, ?it/s]"
      ]
     },
     "metadata": {},
     "output_type": "display_data"
    },
    {
     "data": {
      "application/vnd.jupyter.widget-view+json": {
       "model_id": "16d430b7646846a4a8319f2b8b06d33c",
       "version_major": 2,
       "version_minor": 0
      },
      "text/plain": [
       "Training epoch 27::   0%|          | 0/3750 [00:00<?, ?it/s]"
      ]
     },
     "metadata": {},
     "output_type": "display_data"
    },
    {
     "data": {
      "application/vnd.jupyter.widget-view+json": {
       "model_id": "5b01dd3b664d4201aea521ae691a44a8",
       "version_major": 2,
       "version_minor": 0
      },
      "text/plain": [
       "Training epoch 28::   0%|          | 0/3750 [00:00<?, ?it/s]"
      ]
     },
     "metadata": {},
     "output_type": "display_data"
    },
    {
     "data": {
      "application/vnd.jupyter.widget-view+json": {
       "model_id": "b0072bab0eca4eaead35a1d6b4aea1d2",
       "version_major": 2,
       "version_minor": 0
      },
      "text/plain": [
       "Training epoch 29::   0%|          | 0/3750 [00:00<?, ?it/s]"
      ]
     },
     "metadata": {},
     "output_type": "display_data"
    },
    {
     "data": {
      "application/vnd.jupyter.widget-view+json": {
       "model_id": "06044a0814364257a072aac8c0160a6c",
       "version_major": 2,
       "version_minor": 0
      },
      "text/plain": [
       "Training epoch 30::   0%|          | 0/3750 [00:00<?, ?it/s]"
      ]
     },
     "metadata": {},
     "output_type": "display_data"
    },
    {
     "data": {
      "application/vnd.jupyter.widget-view+json": {
       "model_id": "26bf5f56fbf3429a9de1139dd30dc396",
       "version_major": 2,
       "version_minor": 0
      },
      "text/plain": [
       "Training epoch 31::   0%|          | 0/3750 [00:00<?, ?it/s]"
      ]
     },
     "metadata": {},
     "output_type": "display_data"
    },
    {
     "data": {
      "application/vnd.jupyter.widget-view+json": {
       "model_id": "3659c8b0314e47518407437c5626e33b",
       "version_major": 2,
       "version_minor": 0
      },
      "text/plain": [
       "Training epoch 32::   0%|          | 0/3750 [00:00<?, ?it/s]"
      ]
     },
     "metadata": {},
     "output_type": "display_data"
    },
    {
     "data": {
      "application/vnd.jupyter.widget-view+json": {
       "model_id": "46c134b222b944619268f56fe9d04fac",
       "version_major": 2,
       "version_minor": 0
      },
      "text/plain": [
       "Training epoch 33::   0%|          | 0/3750 [00:00<?, ?it/s]"
      ]
     },
     "metadata": {},
     "output_type": "display_data"
    },
    {
     "data": {
      "application/vnd.jupyter.widget-view+json": {
       "model_id": "165cd06be7eb46578ac9bc731d58011f",
       "version_major": 2,
       "version_minor": 0
      },
      "text/plain": [
       "Training epoch 34::   0%|          | 0/3750 [00:00<?, ?it/s]"
      ]
     },
     "metadata": {},
     "output_type": "display_data"
    },
    {
     "data": {
      "application/vnd.jupyter.widget-view+json": {
       "model_id": "3b79fb0c05054fb7847470033dd0a90f",
       "version_major": 2,
       "version_minor": 0
      },
      "text/plain": [
       "Training epoch 35::   0%|          | 0/3750 [00:00<?, ?it/s]"
      ]
     },
     "metadata": {},
     "output_type": "display_data"
    },
    {
     "data": {
      "application/vnd.jupyter.widget-view+json": {
       "model_id": "e3c8562c649945959b938335b2de2309",
       "version_major": 2,
       "version_minor": 0
      },
      "text/plain": [
       "Training epoch 36::   0%|          | 0/3750 [00:00<?, ?it/s]"
      ]
     },
     "metadata": {},
     "output_type": "display_data"
    },
    {
     "data": {
      "application/vnd.jupyter.widget-view+json": {
       "model_id": "47ebe846c8554070a210e043281bf36a",
       "version_major": 2,
       "version_minor": 0
      },
      "text/plain": [
       "Training epoch 37::   0%|          | 0/3750 [00:00<?, ?it/s]"
      ]
     },
     "metadata": {},
     "output_type": "display_data"
    },
    {
     "data": {
      "application/vnd.jupyter.widget-view+json": {
       "model_id": "a7fdcfdd780649a3a07d69b2da886715",
       "version_major": 2,
       "version_minor": 0
      },
      "text/plain": [
       "Training epoch 38::   0%|          | 0/3750 [00:00<?, ?it/s]"
      ]
     },
     "metadata": {},
     "output_type": "display_data"
    },
    {
     "data": {
      "application/vnd.jupyter.widget-view+json": {
       "model_id": "d2803bb85eb2441f96ca296a83890cc7",
       "version_major": 2,
       "version_minor": 0
      },
      "text/plain": [
       "Training epoch 39::   0%|          | 0/3750 [00:00<?, ?it/s]"
      ]
     },
     "metadata": {},
     "output_type": "display_data"
    },
    {
     "data": {
      "application/vnd.jupyter.widget-view+json": {
       "model_id": "fb79f64de4b843c2bf8ad7cc7c45e7c9",
       "version_major": 2,
       "version_minor": 0
      },
      "text/plain": [
       "Training epoch 40::   0%|          | 0/3750 [00:00<?, ?it/s]"
      ]
     },
     "metadata": {},
     "output_type": "display_data"
    },
    {
     "data": {
      "application/vnd.jupyter.widget-view+json": {
       "model_id": "1350bff3834a4fe9aefdaa08fc89242e",
       "version_major": 2,
       "version_minor": 0
      },
      "text/plain": [
       "Training epoch 41::   0%|          | 0/3750 [00:00<?, ?it/s]"
      ]
     },
     "metadata": {},
     "output_type": "display_data"
    },
    {
     "data": {
      "application/vnd.jupyter.widget-view+json": {
       "model_id": "049f7141e12244f7a721c8d4832c9a67",
       "version_major": 2,
       "version_minor": 0
      },
      "text/plain": [
       "Training epoch 42::   0%|          | 0/3750 [00:00<?, ?it/s]"
      ]
     },
     "metadata": {},
     "output_type": "display_data"
    },
    {
     "data": {
      "application/vnd.jupyter.widget-view+json": {
       "model_id": "8e1d7a4eb5514f949080bad0377dac96",
       "version_major": 2,
       "version_minor": 0
      },
      "text/plain": [
       "Training epoch 43::   0%|          | 0/3750 [00:00<?, ?it/s]"
      ]
     },
     "metadata": {},
     "output_type": "display_data"
    },
    {
     "data": {
      "application/vnd.jupyter.widget-view+json": {
       "model_id": "0e655e96b2dd49a488bd4f70f6a7bd97",
       "version_major": 2,
       "version_minor": 0
      },
      "text/plain": [
       "Training epoch 44::   0%|          | 0/3750 [00:00<?, ?it/s]"
      ]
     },
     "metadata": {},
     "output_type": "display_data"
    },
    {
     "data": {
      "application/vnd.jupyter.widget-view+json": {
       "model_id": "542d365000b84ad2bc36d998e6840d4d",
       "version_major": 2,
       "version_minor": 0
      },
      "text/plain": [
       "Training epoch 45::   0%|          | 0/3750 [00:00<?, ?it/s]"
      ]
     },
     "metadata": {},
     "output_type": "display_data"
    },
    {
     "data": {
      "application/vnd.jupyter.widget-view+json": {
       "model_id": "de40c446a02a47ae9a7f6975fd33f7e0",
       "version_major": 2,
       "version_minor": 0
      },
      "text/plain": [
       "Training epoch 46::   0%|          | 0/3750 [00:00<?, ?it/s]"
      ]
     },
     "metadata": {},
     "output_type": "display_data"
    },
    {
     "data": {
      "application/vnd.jupyter.widget-view+json": {
       "model_id": "c0ef49027a5e43b0b87e879d596d5370",
       "version_major": 2,
       "version_minor": 0
      },
      "text/plain": [
       "Training epoch 47::   0%|          | 0/3750 [00:00<?, ?it/s]"
      ]
     },
     "metadata": {},
     "output_type": "display_data"
    },
    {
     "data": {
      "application/vnd.jupyter.widget-view+json": {
       "model_id": "3b0b8664d1f84b5fac1893c944619606",
       "version_major": 2,
       "version_minor": 0
      },
      "text/plain": [
       "Training epoch 48::   0%|          | 0/3750 [00:00<?, ?it/s]"
      ]
     },
     "metadata": {},
     "output_type": "display_data"
    },
    {
     "data": {
      "application/vnd.jupyter.widget-view+json": {
       "model_id": "5efa9dc4a3854347910e3d833f9c4810",
       "version_major": 2,
       "version_minor": 0
      },
      "text/plain": [
       "Training epoch 49::   0%|          | 0/3750 [00:00<?, ?it/s]"
      ]
     },
     "metadata": {},
     "output_type": "display_data"
    },
    {
     "name": "stdout",
     "output_type": "stream",
     "text": [
      "Starting training for hparams: {'rnn_params': {'hidden_size': 256, 'num_layers': 6, 'bidirectional': True, 'dropout': 0}, 'rnn_type': 'lstm', 'dropout': 0.0, 'aggregation_type': 'mean', 'concat_with_last_token': False}\n"
     ]
    },
    {
     "data": {
      "application/vnd.jupyter.widget-view+json": {
       "model_id": "a41fcdedcdcd4c26af1c0c2d13654429",
       "version_major": 2,
       "version_minor": 0
      },
      "text/plain": [
       "Training epoch 0::   0%|          | 0/3750 [00:00<?, ?it/s]"
      ]
     },
     "metadata": {},
     "output_type": "display_data"
    },
    {
     "data": {
      "application/vnd.jupyter.widget-view+json": {
       "model_id": "5c2fbb3f4ce94e16a72284b75b768b6b",
       "version_major": 2,
       "version_minor": 0
      },
      "text/plain": [
       "Training epoch 1::   0%|          | 0/3750 [00:00<?, ?it/s]"
      ]
     },
     "metadata": {},
     "output_type": "display_data"
    },
    {
     "data": {
      "application/vnd.jupyter.widget-view+json": {
       "model_id": "36b870359223470a95a5940cd9524dc6",
       "version_major": 2,
       "version_minor": 0
      },
      "text/plain": [
       "Training epoch 2::   0%|          | 0/3750 [00:00<?, ?it/s]"
      ]
     },
     "metadata": {},
     "output_type": "display_data"
    },
    {
     "data": {
      "application/vnd.jupyter.widget-view+json": {
       "model_id": "62f46b5bd44141748eb98b9de448f9dd",
       "version_major": 2,
       "version_minor": 0
      },
      "text/plain": [
       "Training epoch 3::   0%|          | 0/3750 [00:00<?, ?it/s]"
      ]
     },
     "metadata": {},
     "output_type": "display_data"
    },
    {
     "data": {
      "application/vnd.jupyter.widget-view+json": {
       "model_id": "3a99560911924fafbdcf7e2424e2e835",
       "version_major": 2,
       "version_minor": 0
      },
      "text/plain": [
       "Training epoch 4::   0%|          | 0/3750 [00:00<?, ?it/s]"
      ]
     },
     "metadata": {},
     "output_type": "display_data"
    },
    {
     "data": {
      "application/vnd.jupyter.widget-view+json": {
       "model_id": "c5b33cfe4008442c92a49aa773e39210",
       "version_major": 2,
       "version_minor": 0
      },
      "text/plain": [
       "Training epoch 5::   0%|          | 0/3750 [00:00<?, ?it/s]"
      ]
     },
     "metadata": {},
     "output_type": "display_data"
    },
    {
     "data": {
      "application/vnd.jupyter.widget-view+json": {
       "model_id": "f0c15e950a944d539f1518426e2903ed",
       "version_major": 2,
       "version_minor": 0
      },
      "text/plain": [
       "Training epoch 6::   0%|          | 0/3750 [00:00<?, ?it/s]"
      ]
     },
     "metadata": {},
     "output_type": "display_data"
    },
    {
     "data": {
      "application/vnd.jupyter.widget-view+json": {
       "model_id": "55d56243c6b04be895df1646d1d9bb3b",
       "version_major": 2,
       "version_minor": 0
      },
      "text/plain": [
       "Training epoch 7::   0%|          | 0/3750 [00:00<?, ?it/s]"
      ]
     },
     "metadata": {},
     "output_type": "display_data"
    },
    {
     "data": {
      "application/vnd.jupyter.widget-view+json": {
       "model_id": "b46212e739e540f7bf81995f15a7b6ca",
       "version_major": 2,
       "version_minor": 0
      },
      "text/plain": [
       "Training epoch 8::   0%|          | 0/3750 [00:00<?, ?it/s]"
      ]
     },
     "metadata": {},
     "output_type": "display_data"
    },
    {
     "data": {
      "application/vnd.jupyter.widget-view+json": {
       "model_id": "f05699dc0c5f46a388b1f8896e3bffd2",
       "version_major": 2,
       "version_minor": 0
      },
      "text/plain": [
       "Training epoch 9::   0%|          | 0/3750 [00:00<?, ?it/s]"
      ]
     },
     "metadata": {},
     "output_type": "display_data"
    },
    {
     "data": {
      "application/vnd.jupyter.widget-view+json": {
       "model_id": "3f257acb778949c88584c02e2631c4d9",
       "version_major": 2,
       "version_minor": 0
      },
      "text/plain": [
       "Training epoch 10::   0%|          | 0/3750 [00:00<?, ?it/s]"
      ]
     },
     "metadata": {},
     "output_type": "display_data"
    },
    {
     "data": {
      "application/vnd.jupyter.widget-view+json": {
       "model_id": "5c1a0ee2cdfb4218901cc2ece66182c1",
       "version_major": 2,
       "version_minor": 0
      },
      "text/plain": [
       "Training epoch 11::   0%|          | 0/3750 [00:00<?, ?it/s]"
      ]
     },
     "metadata": {},
     "output_type": "display_data"
    },
    {
     "data": {
      "application/vnd.jupyter.widget-view+json": {
       "model_id": "58839032767b4c498448035643962796",
       "version_major": 2,
       "version_minor": 0
      },
      "text/plain": [
       "Training epoch 12::   0%|          | 0/3750 [00:00<?, ?it/s]"
      ]
     },
     "metadata": {},
     "output_type": "display_data"
    },
    {
     "data": {
      "application/vnd.jupyter.widget-view+json": {
       "model_id": "e7068980e809416cbf3ab627cfe7b1dc",
       "version_major": 2,
       "version_minor": 0
      },
      "text/plain": [
       "Training epoch 13::   0%|          | 0/3750 [00:00<?, ?it/s]"
      ]
     },
     "metadata": {},
     "output_type": "display_data"
    },
    {
     "data": {
      "application/vnd.jupyter.widget-view+json": {
       "model_id": "22df0ae6e75c4056b88aa271be4744be",
       "version_major": 2,
       "version_minor": 0
      },
      "text/plain": [
       "Training epoch 14::   0%|          | 0/3750 [00:00<?, ?it/s]"
      ]
     },
     "metadata": {},
     "output_type": "display_data"
    },
    {
     "data": {
      "application/vnd.jupyter.widget-view+json": {
       "model_id": "f0fb05f67f004ccaa4bf7e4d36baefff",
       "version_major": 2,
       "version_minor": 0
      },
      "text/plain": [
       "Training epoch 15::   0%|          | 0/3750 [00:00<?, ?it/s]"
      ]
     },
     "metadata": {},
     "output_type": "display_data"
    },
    {
     "data": {
      "application/vnd.jupyter.widget-view+json": {
       "model_id": "cae3f5470fdf4c76b554a3531e41d125",
       "version_major": 2,
       "version_minor": 0
      },
      "text/plain": [
       "Training epoch 16::   0%|          | 0/3750 [00:00<?, ?it/s]"
      ]
     },
     "metadata": {},
     "output_type": "display_data"
    },
    {
     "data": {
      "application/vnd.jupyter.widget-view+json": {
       "model_id": "a274eca04583498b9decf74f43551332",
       "version_major": 2,
       "version_minor": 0
      },
      "text/plain": [
       "Training epoch 17::   0%|          | 0/3750 [00:00<?, ?it/s]"
      ]
     },
     "metadata": {},
     "output_type": "display_data"
    },
    {
     "data": {
      "application/vnd.jupyter.widget-view+json": {
       "model_id": "6c61b01a035e499997a3dfab805b8758",
       "version_major": 2,
       "version_minor": 0
      },
      "text/plain": [
       "Training epoch 18::   0%|          | 0/3750 [00:00<?, ?it/s]"
      ]
     },
     "metadata": {},
     "output_type": "display_data"
    },
    {
     "data": {
      "application/vnd.jupyter.widget-view+json": {
       "model_id": "93467f0dc8cb442bb2afaded45244fee",
       "version_major": 2,
       "version_minor": 0
      },
      "text/plain": [
       "Training epoch 19::   0%|          | 0/3750 [00:00<?, ?it/s]"
      ]
     },
     "metadata": {},
     "output_type": "display_data"
    },
    {
     "data": {
      "application/vnd.jupyter.widget-view+json": {
       "model_id": "8e0bcaef04384d449a67ea57769ea42f",
       "version_major": 2,
       "version_minor": 0
      },
      "text/plain": [
       "Training epoch 20::   0%|          | 0/3750 [00:00<?, ?it/s]"
      ]
     },
     "metadata": {},
     "output_type": "display_data"
    },
    {
     "data": {
      "application/vnd.jupyter.widget-view+json": {
       "model_id": "68611eb32c304eebb133ea0a58b8ddc0",
       "version_major": 2,
       "version_minor": 0
      },
      "text/plain": [
       "Training epoch 21::   0%|          | 0/3750 [00:00<?, ?it/s]"
      ]
     },
     "metadata": {},
     "output_type": "display_data"
    },
    {
     "data": {
      "application/vnd.jupyter.widget-view+json": {
       "model_id": "d953c84d033a46389a48a23cf010cd1f",
       "version_major": 2,
       "version_minor": 0
      },
      "text/plain": [
       "Training epoch 22::   0%|          | 0/3750 [00:00<?, ?it/s]"
      ]
     },
     "metadata": {},
     "output_type": "display_data"
    },
    {
     "data": {
      "application/vnd.jupyter.widget-view+json": {
       "model_id": "8df014eda34c4262b2e8f168894a8926",
       "version_major": 2,
       "version_minor": 0
      },
      "text/plain": [
       "Training epoch 23::   0%|          | 0/3750 [00:00<?, ?it/s]"
      ]
     },
     "metadata": {},
     "output_type": "display_data"
    },
    {
     "data": {
      "application/vnd.jupyter.widget-view+json": {
       "model_id": "3e7a484bb1c941dbb547a3877f717cfd",
       "version_major": 2,
       "version_minor": 0
      },
      "text/plain": [
       "Training epoch 24::   0%|          | 0/3750 [00:00<?, ?it/s]"
      ]
     },
     "metadata": {},
     "output_type": "display_data"
    },
    {
     "data": {
      "application/vnd.jupyter.widget-view+json": {
       "model_id": "56f2f6b6753d4044afa9d4a27d212fe0",
       "version_major": 2,
       "version_minor": 0
      },
      "text/plain": [
       "Training epoch 25::   0%|          | 0/3750 [00:00<?, ?it/s]"
      ]
     },
     "metadata": {},
     "output_type": "display_data"
    },
    {
     "data": {
      "application/vnd.jupyter.widget-view+json": {
       "model_id": "42ea9ff37522428db7793395f0829746",
       "version_major": 2,
       "version_minor": 0
      },
      "text/plain": [
       "Training epoch 26::   0%|          | 0/3750 [00:00<?, ?it/s]"
      ]
     },
     "metadata": {},
     "output_type": "display_data"
    },
    {
     "data": {
      "application/vnd.jupyter.widget-view+json": {
       "model_id": "6479ce93ddcb4889a59d70051b37a1fa",
       "version_major": 2,
       "version_minor": 0
      },
      "text/plain": [
       "Training epoch 27::   0%|          | 0/3750 [00:00<?, ?it/s]"
      ]
     },
     "metadata": {},
     "output_type": "display_data"
    },
    {
     "data": {
      "application/vnd.jupyter.widget-view+json": {
       "model_id": "65d95df0b7904d81abfc3abcaa8b1f50",
       "version_major": 2,
       "version_minor": 0
      },
      "text/plain": [
       "Training epoch 28::   0%|          | 0/3750 [00:00<?, ?it/s]"
      ]
     },
     "metadata": {},
     "output_type": "display_data"
    },
    {
     "data": {
      "application/vnd.jupyter.widget-view+json": {
       "model_id": "e633678e8e4348ff9d00f3df0d10e3e3",
       "version_major": 2,
       "version_minor": 0
      },
      "text/plain": [
       "Training epoch 29::   0%|          | 0/3750 [00:00<?, ?it/s]"
      ]
     },
     "metadata": {},
     "output_type": "display_data"
    },
    {
     "data": {
      "application/vnd.jupyter.widget-view+json": {
       "model_id": "e2fbb282c01d41a3b0956f06e4414786",
       "version_major": 2,
       "version_minor": 0
      },
      "text/plain": [
       "Training epoch 30::   0%|          | 0/3750 [00:00<?, ?it/s]"
      ]
     },
     "metadata": {},
     "output_type": "display_data"
    },
    {
     "data": {
      "application/vnd.jupyter.widget-view+json": {
       "model_id": "09d3b61a9ddb4416963a304a039218d7",
       "version_major": 2,
       "version_minor": 0
      },
      "text/plain": [
       "Training epoch 31::   0%|          | 0/3750 [00:00<?, ?it/s]"
      ]
     },
     "metadata": {},
     "output_type": "display_data"
    },
    {
     "data": {
      "application/vnd.jupyter.widget-view+json": {
       "model_id": "5d3f336fb6a74b5ba28e07aea6879eee",
       "version_major": 2,
       "version_minor": 0
      },
      "text/plain": [
       "Training epoch 32::   0%|          | 0/3750 [00:00<?, ?it/s]"
      ]
     },
     "metadata": {},
     "output_type": "display_data"
    },
    {
     "data": {
      "application/vnd.jupyter.widget-view+json": {
       "model_id": "bc91586ddef546afab50ea380e9aa1df",
       "version_major": 2,
       "version_minor": 0
      },
      "text/plain": [
       "Training epoch 33::   0%|          | 0/3750 [00:00<?, ?it/s]"
      ]
     },
     "metadata": {},
     "output_type": "display_data"
    },
    {
     "data": {
      "application/vnd.jupyter.widget-view+json": {
       "model_id": "8d1076e67a6644469748e0170c52278b",
       "version_major": 2,
       "version_minor": 0
      },
      "text/plain": [
       "Training epoch 34::   0%|          | 0/3750 [00:00<?, ?it/s]"
      ]
     },
     "metadata": {},
     "output_type": "display_data"
    },
    {
     "data": {
      "application/vnd.jupyter.widget-view+json": {
       "model_id": "382271507aaf40cfb8e7f6ce7e407269",
       "version_major": 2,
       "version_minor": 0
      },
      "text/plain": [
       "Training epoch 35::   0%|          | 0/3750 [00:00<?, ?it/s]"
      ]
     },
     "metadata": {},
     "output_type": "display_data"
    },
    {
     "data": {
      "application/vnd.jupyter.widget-view+json": {
       "model_id": "1505811529584b0880c83c1059211145",
       "version_major": 2,
       "version_minor": 0
      },
      "text/plain": [
       "Training epoch 36::   0%|          | 0/3750 [00:00<?, ?it/s]"
      ]
     },
     "metadata": {},
     "output_type": "display_data"
    },
    {
     "data": {
      "application/vnd.jupyter.widget-view+json": {
       "model_id": "c89fab3ad44e455ba8c269f32a428242",
       "version_major": 2,
       "version_minor": 0
      },
      "text/plain": [
       "Training epoch 37::   0%|          | 0/3750 [00:00<?, ?it/s]"
      ]
     },
     "metadata": {},
     "output_type": "display_data"
    },
    {
     "data": {
      "application/vnd.jupyter.widget-view+json": {
       "model_id": "3db044222f0048ffbdb9669ddce96308",
       "version_major": 2,
       "version_minor": 0
      },
      "text/plain": [
       "Training epoch 38::   0%|          | 0/3750 [00:00<?, ?it/s]"
      ]
     },
     "metadata": {},
     "output_type": "display_data"
    },
    {
     "data": {
      "application/vnd.jupyter.widget-view+json": {
       "model_id": "bb4be50b875f4a22a1a7c9807f633869",
       "version_major": 2,
       "version_minor": 0
      },
      "text/plain": [
       "Training epoch 39::   0%|          | 0/3750 [00:00<?, ?it/s]"
      ]
     },
     "metadata": {},
     "output_type": "display_data"
    },
    {
     "data": {
      "application/vnd.jupyter.widget-view+json": {
       "model_id": "e580e349f0394288b5018deeaa52f297",
       "version_major": 2,
       "version_minor": 0
      },
      "text/plain": [
       "Training epoch 40::   0%|          | 0/3750 [00:00<?, ?it/s]"
      ]
     },
     "metadata": {},
     "output_type": "display_data"
    },
    {
     "data": {
      "application/vnd.jupyter.widget-view+json": {
       "model_id": "0136d5d590df455da08cfe56bf501f2d",
       "version_major": 2,
       "version_minor": 0
      },
      "text/plain": [
       "Training epoch 41::   0%|          | 0/3750 [00:00<?, ?it/s]"
      ]
     },
     "metadata": {},
     "output_type": "display_data"
    },
    {
     "data": {
      "application/vnd.jupyter.widget-view+json": {
       "model_id": "44f1f0ee7cd6498fbed4beda62ff7233",
       "version_major": 2,
       "version_minor": 0
      },
      "text/plain": [
       "Training epoch 42::   0%|          | 0/3750 [00:00<?, ?it/s]"
      ]
     },
     "metadata": {},
     "output_type": "display_data"
    },
    {
     "data": {
      "application/vnd.jupyter.widget-view+json": {
       "model_id": "9e7ca76d714a47ef890466dca87562bf",
       "version_major": 2,
       "version_minor": 0
      },
      "text/plain": [
       "Training epoch 43::   0%|          | 0/3750 [00:00<?, ?it/s]"
      ]
     },
     "metadata": {},
     "output_type": "display_data"
    },
    {
     "data": {
      "application/vnd.jupyter.widget-view+json": {
       "model_id": "3f39f846ea204cc8951505d07f780004",
       "version_major": 2,
       "version_minor": 0
      },
      "text/plain": [
       "Training epoch 44::   0%|          | 0/3750 [00:00<?, ?it/s]"
      ]
     },
     "metadata": {},
     "output_type": "display_data"
    },
    {
     "data": {
      "application/vnd.jupyter.widget-view+json": {
       "model_id": "8742e5cf68fb45ce84d335fa4cc000c3",
       "version_major": 2,
       "version_minor": 0
      },
      "text/plain": [
       "Training epoch 45::   0%|          | 0/3750 [00:00<?, ?it/s]"
      ]
     },
     "metadata": {},
     "output_type": "display_data"
    },
    {
     "data": {
      "application/vnd.jupyter.widget-view+json": {
       "model_id": "8941752f4eed48cca198f690f9747516",
       "version_major": 2,
       "version_minor": 0
      },
      "text/plain": [
       "Training epoch 46::   0%|          | 0/3750 [00:00<?, ?it/s]"
      ]
     },
     "metadata": {},
     "output_type": "display_data"
    },
    {
     "data": {
      "application/vnd.jupyter.widget-view+json": {
       "model_id": "8338aac7e38640e68f29654da623d049",
       "version_major": 2,
       "version_minor": 0
      },
      "text/plain": [
       "Training epoch 47::   0%|          | 0/3750 [00:00<?, ?it/s]"
      ]
     },
     "metadata": {},
     "output_type": "display_data"
    },
    {
     "data": {
      "application/vnd.jupyter.widget-view+json": {
       "model_id": "507af8fe2ff64525ba965ef93ec877dd",
       "version_major": 2,
       "version_minor": 0
      },
      "text/plain": [
       "Training epoch 48::   0%|          | 0/3750 [00:00<?, ?it/s]"
      ]
     },
     "metadata": {},
     "output_type": "display_data"
    },
    {
     "data": {
      "application/vnd.jupyter.widget-view+json": {
       "model_id": "1738b9760f6746eda57c94d6bd2d303b",
       "version_major": 2,
       "version_minor": 0
      },
      "text/plain": [
       "Training epoch 49::   0%|          | 0/3750 [00:00<?, ?it/s]"
      ]
     },
     "metadata": {},
     "output_type": "display_data"
    }
   ],
   "source": [
    "num_layers_hparams = [2, 3, 4, 5, 6]\n",
    "num_layers_selection_epochs = 50  # We need to increase number of epochs because of models with more layer will be underfitted with small epochs count\n",
    "num_layers_selection_results: Dict[int, Tuple[List[float], List[float]]] = dict()\n",
    "for num_layers in num_layers_hparams:\n",
    "    model_hparams = copy.deepcopy(baseline_model_hparams)\n",
    "    model_hparams[\"rnn_type\"] = \"lstm\"\n",
    "    model_hparams[\"rnn_params\"][\"num_layers\"] = num_layers\n",
    "\n",
    "    num_layers_selection_results[num_layers] = train_loop(\n",
    "        train_dataloader,\n",
    "        eval_dataloader,\n",
    "        vocab_size=len(vocab),\n",
    "        padding_idx=word2ind[\"<pad>\"],\n",
    "        model_hparams=model_hparams,\n",
    "        epochs=num_layers_selection_epochs,\n",
    "    )"
   ]
  },
  {
   "cell_type": "code",
   "execution_count": 27,
   "metadata": {},
   "outputs": [
    {
     "data": {
      "image/png": "[encoded data removed]",
      "text/plain": [
       "<Figure size 640x480 with 1 Axes>"
      ]
     },
     "metadata": {},
     "output_type": "display_data"
    }
   ],
   "source": [
    "fig, ax = plt.subplots()\n",
    "ax.plot(\n",
    "    np.arange(len(rnn_selection_results[\"lstm\"][0])) + 1,\n",
    "    rnn_selection_results[\"lstm\"][0],\n",
    "    label=\"1\",\n",
    "    color=\"green\",\n",
    ")\n",
    "for num_layers, color in zip(\n",
    "    [2, 3, 4, 5, 6], [\"red\", \"blue\", \"orange\", \"purple\", \"gray\"]\n",
    "):\n",
    "    loss = num_layers_selection_results[num_layers][0]\n",
    "    ax.plot(np.arange(len(loss)) + 1, loss, label=num_layers, color=color)\n",
    "ax.set_ylabel(\"Loss\")\n",
    "ax.set_xlabel(\"epoch\")\n",
    "ax.legend()\n",
    "plt.show()"
   ]
  },
  {
   "cell_type": "code",
   "execution_count": 28,
   "metadata": {},
   "outputs": [
    {
     "data": {
      "image/png": "[encoded data removed]",
      "text/plain": [
       "<Figure size 640x480 with 1 Axes>"
      ]
     },
     "metadata": {},
     "output_type": "display_data"
    }
   ],
   "source": [
    "fig, ax = plt.subplots()\n",
    "ax.plot(\n",
    "    np.arange(len(rnn_selection_results[\"lstm\"][1])) + 1,\n",
    "    rnn_selection_results[\"lstm\"][1],\n",
    "    label=\"1\",\n",
    "    color=\"green\",\n",
    ")\n",
    "for num_layers, color in zip(\n",
    "    num_layers_hparams, [\"red\", \"blue\", \"orange\", \"purple\", \"gray\"]\n",
    "):\n",
    "    acc = num_layers_selection_results[num_layers][1]\n",
    "    ax.plot(np.arange(len(acc)) + 1, acc, label=num_layers, color=color)\n",
    "ax.set_ylabel(\"Accuracy\")\n",
    "ax.set_xlabel(\"epoch\")\n",
    "ax.legend()\n",
    "plt.show()"
   ]
  },
  {
   "cell_type": "code",
   "execution_count": 28,
   "metadata": {},
   "outputs": [
    {
     "name": "stdout",
     "output_type": "stream",
     "text": [
      "Max accuracy for num_layers=1: 0.9134\n",
      "Max accuracy for num_layers=2: 0.9162\n",
      "Max accuracy for num_layers=3: 0.9146\n",
      "Max accuracy for num_layers=4: 0.9162\n",
      "Max accuracy for num_layers=5: 0.9130\n",
      "Max accuracy for num_layers=6: 0.9136\n"
     ]
    }
   ],
   "source": [
    "print(f\"Max accuracy for num_layers=1: {max(rnn_selection_results['lstm'][1]):.4f}\")\n",
    "for num_layers in num_layers_hparams:\n",
    "    print(\n",
    "        f\"Max accuracy for num_layers={num_layers}: {max(num_layers_selection_results[num_layers][1]):.4f}\"\n",
    "    )"
   ]
  },
  {
   "cell_type": "markdown",
   "metadata": {},
   "source": [
    "По графику accuracy видно, что начиная с ~8 эпох качество модели было ниже пикового, и это означает, что оптимальное количество эпох точно <8. Также модели с 2 и 4 слоями RNN показали лучшее качество, хотя это качество не сильно улучшилось по сравнению с моделью с 1 слоем. \n",
    "\n",
    "Была выбрана более простая модель, дающая лучшее качество, то есть модель с 2 слоями"
   ]
  },
  {
   "cell_type": "markdown",
   "metadata": {},
   "source": [
    "# Aggregation selection"
   ]
  },
  {
   "cell_type": "markdown",
   "metadata": {},
   "source": [
    "Этот эксперимент связян с выбором типа агрегации выходов LSTM для каждого токена, а также с добавлением или нет выхода LSTM для крайних токенов к результату агрегации.\n",
    "\n",
    "В случае `bidirectional=True` и `concat_with_last_token=True` к результату агрегации добавится последний токен для forward прохождения последовательности, а также первый токен для backward прохождения. Такое решение было принято в предположении, что последний токен forward прохождения и первый токен backward прохождения накопят информацию о последовательности, что поможет модели для вытаскивания какой-либо суммарной информации о тексте"
   ]
  },
  {
   "cell_type": "code",
   "execution_count": 36,
   "metadata": {},
   "outputs": [
    {
     "name": "stdout",
     "output_type": "stream",
     "text": [
      "Starting training for hparams: {'rnn_params': {'hidden_size': 256, 'num_layers': 2, 'bidirectional': True, 'dropout': 0}, 'rnn_type': 'lstm', 'dropout': 0.0, 'aggregation_type': 'max', 'concat_with_last_token': False}\n"
     ]
    },
    {
     "data": {
      "application/vnd.jupyter.widget-view+json": {
       "model_id": "29a5228dbdb846198bf7e70f24f0255e",
       "version_major": 2,
       "version_minor": 0
      },
      "text/plain": [
       "Training epoch 0::   0%|          | 0/3750 [00:00<?, ?it/s]"
      ]
     },
     "metadata": {},
     "output_type": "display_data"
    },
    {
     "data": {
      "application/vnd.jupyter.widget-view+json": {
       "model_id": "a16ff105cd2f4c668fa1cb390884a951",
       "version_major": 2,
       "version_minor": 0
      },
      "text/plain": [
       "Training epoch 1::   0%|          | 0/3750 [00:00<?, ?it/s]"
      ]
     },
     "metadata": {},
     "output_type": "display_data"
    },
    {
     "data": {
      "application/vnd.jupyter.widget-view+json": {
       "model_id": "40e29b93b0224e8aa32eac4832b7aa16",
       "version_major": 2,
       "version_minor": 0
      },
      "text/plain": [
       "Training epoch 2::   0%|          | 0/3750 [00:00<?, ?it/s]"
      ]
     },
     "metadata": {},
     "output_type": "display_data"
    },
    {
     "data": {
      "application/vnd.jupyter.widget-view+json": {
       "model_id": "ebf2fd07350a4a218ae39b8295c1108f",
       "version_major": 2,
       "version_minor": 0
      },
      "text/plain": [
       "Training epoch 3::   0%|          | 0/3750 [00:00<?, ?it/s]"
      ]
     },
     "metadata": {},
     "output_type": "display_data"
    },
    {
     "data": {
      "application/vnd.jupyter.widget-view+json": {
       "model_id": "1ffff35d9fdb4fa5ac91f416242392e6",
       "version_major": 2,
       "version_minor": 0
      },
      "text/plain": [
       "Training epoch 4::   0%|          | 0/3750 [00:00<?, ?it/s]"
      ]
     },
     "metadata": {},
     "output_type": "display_data"
    },
    {
     "data": {
      "application/vnd.jupyter.widget-view+json": {
       "model_id": "9126d610bc494b218c486422bef9c10e",
       "version_major": 2,
       "version_minor": 0
      },
      "text/plain": [
       "Training epoch 5::   0%|          | 0/3750 [00:00<?, ?it/s]"
      ]
     },
     "metadata": {},
     "output_type": "display_data"
    },
    {
     "data": {
      "application/vnd.jupyter.widget-view+json": {
       "model_id": "2483aa3ad8a64f1b85ec0228e5e38174",
       "version_major": 2,
       "version_minor": 0
      },
      "text/plain": [
       "Training epoch 6::   0%|          | 0/3750 [00:00<?, ?it/s]"
      ]
     },
     "metadata": {},
     "output_type": "display_data"
    },
    {
     "data": {
      "application/vnd.jupyter.widget-view+json": {
       "model_id": "c77651399fd846f694136e7f02c9f980",
       "version_major": 2,
       "version_minor": 0
      },
      "text/plain": [
       "Training epoch 7::   0%|          | 0/3750 [00:00<?, ?it/s]"
      ]
     },
     "metadata": {},
     "output_type": "display_data"
    },
    {
     "data": {
      "application/vnd.jupyter.widget-view+json": {
       "model_id": "c5dc0dfb28cf4d6ea281759cacfb90a3",
       "version_major": 2,
       "version_minor": 0
      },
      "text/plain": [
       "Training epoch 8::   0%|          | 0/3750 [00:00<?, ?it/s]"
      ]
     },
     "metadata": {},
     "output_type": "display_data"
    },
    {
     "data": {
      "application/vnd.jupyter.widget-view+json": {
       "model_id": "061f649eb5a44a6395a50468af55b13e",
       "version_major": 2,
       "version_minor": 0
      },
      "text/plain": [
       "Training epoch 9::   0%|          | 0/3750 [00:00<?, ?it/s]"
      ]
     },
     "metadata": {},
     "output_type": "display_data"
    },
    {
     "name": "stdout",
     "output_type": "stream",
     "text": [
      "Starting training for hparams: {'rnn_params': {'hidden_size': 256, 'num_layers': 2, 'bidirectional': True, 'dropout': 0}, 'rnn_type': 'lstm', 'dropout': 0.0, 'aggregation_type': 'max', 'concat_with_last_token': True}\n"
     ]
    },
    {
     "data": {
      "application/vnd.jupyter.widget-view+json": {
       "model_id": "64ad575968ec438198b6146442a362a8",
       "version_major": 2,
       "version_minor": 0
      },
      "text/plain": [
       "Training epoch 0::   0%|          | 0/3750 [00:00<?, ?it/s]"
      ]
     },
     "metadata": {},
     "output_type": "display_data"
    },
    {
     "data": {
      "application/vnd.jupyter.widget-view+json": {
       "model_id": "3f51c6c6bc624dd0bae5ac23a9e2afab",
       "version_major": 2,
       "version_minor": 0
      },
      "text/plain": [
       "Training epoch 1::   0%|          | 0/3750 [00:00<?, ?it/s]"
      ]
     },
     "metadata": {},
     "output_type": "display_data"
    },
    {
     "data": {
      "application/vnd.jupyter.widget-view+json": {
       "model_id": "00f9ef4a2a5749d889b05cd193709d17",
       "version_major": 2,
       "version_minor": 0
      },
      "text/plain": [
       "Training epoch 2::   0%|          | 0/3750 [00:00<?, ?it/s]"
      ]
     },
     "metadata": {},
     "output_type": "display_data"
    },
    {
     "data": {
      "application/vnd.jupyter.widget-view+json": {
       "model_id": "0e6d57efb1184c6e927b7791cf4141ca",
       "version_major": 2,
       "version_minor": 0
      },
      "text/plain": [
       "Training epoch 3::   0%|          | 0/3750 [00:00<?, ?it/s]"
      ]
     },
     "metadata": {},
     "output_type": "display_data"
    },
    {
     "data": {
      "application/vnd.jupyter.widget-view+json": {
       "model_id": "fc7532fee6b843279282afda2f835239",
       "version_major": 2,
       "version_minor": 0
      },
      "text/plain": [
       "Training epoch 4::   0%|          | 0/3750 [00:00<?, ?it/s]"
      ]
     },
     "metadata": {},
     "output_type": "display_data"
    },
    {
     "data": {
      "application/vnd.jupyter.widget-view+json": {
       "model_id": "674735814d974557a06410af6fd04c22",
       "version_major": 2,
       "version_minor": 0
      },
      "text/plain": [
       "Training epoch 5::   0%|          | 0/3750 [00:00<?, ?it/s]"
      ]
     },
     "metadata": {},
     "output_type": "display_data"
    },
    {
     "data": {
      "application/vnd.jupyter.widget-view+json": {
       "model_id": "45485cf1c64542e7a42b54fe5c323d69",
       "version_major": 2,
       "version_minor": 0
      },
      "text/plain": [
       "Training epoch 6::   0%|          | 0/3750 [00:00<?, ?it/s]"
      ]
     },
     "metadata": {},
     "output_type": "display_data"
    },
    {
     "data": {
      "application/vnd.jupyter.widget-view+json": {
       "model_id": "30498883a62c42dba7f2ee3f0c121f47",
       "version_major": 2,
       "version_minor": 0
      },
      "text/plain": [
       "Training epoch 7::   0%|          | 0/3750 [00:00<?, ?it/s]"
      ]
     },
     "metadata": {},
     "output_type": "display_data"
    },
    {
     "data": {
      "application/vnd.jupyter.widget-view+json": {
       "model_id": "f4b71c8ecd62456993c105a291a20939",
       "version_major": 2,
       "version_minor": 0
      },
      "text/plain": [
       "Training epoch 8::   0%|          | 0/3750 [00:00<?, ?it/s]"
      ]
     },
     "metadata": {},
     "output_type": "display_data"
    },
    {
     "data": {
      "application/vnd.jupyter.widget-view+json": {
       "model_id": "540f543611bf48d6b1b6d92e238dacac",
       "version_major": 2,
       "version_minor": 0
      },
      "text/plain": [
       "Training epoch 9::   0%|          | 0/3750 [00:00<?, ?it/s]"
      ]
     },
     "metadata": {},
     "output_type": "display_data"
    },
    {
     "name": "stdout",
     "output_type": "stream",
     "text": [
      "Starting training for hparams: {'rnn_params': {'hidden_size': 256, 'num_layers': 2, 'bidirectional': True, 'dropout': 0}, 'rnn_type': 'lstm', 'dropout': 0.0, 'aggregation_type': 'mean', 'concat_with_last_token': False}\n"
     ]
    },
    {
     "data": {
      "application/vnd.jupyter.widget-view+json": {
       "model_id": "ab6e72e671dd4bc2b9497567a0988907",
       "version_major": 2,
       "version_minor": 0
      },
      "text/plain": [
       "Training epoch 0::   0%|          | 0/3750 [00:00<?, ?it/s]"
      ]
     },
     "metadata": {},
     "output_type": "display_data"
    },
    {
     "data": {
      "application/vnd.jupyter.widget-view+json": {
       "model_id": "c52881f5299849278a072d7b38057f5a",
       "version_major": 2,
       "version_minor": 0
      },
      "text/plain": [
       "Training epoch 1::   0%|          | 0/3750 [00:00<?, ?it/s]"
      ]
     },
     "metadata": {},
     "output_type": "display_data"
    },
    {
     "data": {
      "application/vnd.jupyter.widget-view+json": {
       "model_id": "ea82108af1a54c6c82cd91276c476e08",
       "version_major": 2,
       "version_minor": 0
      },
      "text/plain": [
       "Training epoch 2::   0%|          | 0/3750 [00:00<?, ?it/s]"
      ]
     },
     "metadata": {},
     "output_type": "display_data"
    },
    {
     "data": {
      "application/vnd.jupyter.widget-view+json": {
       "model_id": "a9929659d58a48359d2451dd4516dda8",
       "version_major": 2,
       "version_minor": 0
      },
      "text/plain": [
       "Training epoch 3::   0%|          | 0/3750 [00:00<?, ?it/s]"
      ]
     },
     "metadata": {},
     "output_type": "display_data"
    },
    {
     "data": {
      "application/vnd.jupyter.widget-view+json": {
       "model_id": "95c80ce86d614177bae67fc63b9a51c7",
       "version_major": 2,
       "version_minor": 0
      },
      "text/plain": [
       "Training epoch 4::   0%|          | 0/3750 [00:00<?, ?it/s]"
      ]
     },
     "metadata": {},
     "output_type": "display_data"
    },
    {
     "data": {
      "application/vnd.jupyter.widget-view+json": {
       "model_id": "05430305cc4748aeae822bfa1e03d298",
       "version_major": 2,
       "version_minor": 0
      },
      "text/plain": [
       "Training epoch 5::   0%|          | 0/3750 [00:00<?, ?it/s]"
      ]
     },
     "metadata": {},
     "output_type": "display_data"
    },
    {
     "data": {
      "application/vnd.jupyter.widget-view+json": {
       "model_id": "a97048fcc0c5429896aee2ca5c3e9259",
       "version_major": 2,
       "version_minor": 0
      },
      "text/plain": [
       "Training epoch 6::   0%|          | 0/3750 [00:00<?, ?it/s]"
      ]
     },
     "metadata": {},
     "output_type": "display_data"
    },
    {
     "data": {
      "application/vnd.jupyter.widget-view+json": {
       "model_id": "c0d0b82df22547579c9642418d7b9092",
       "version_major": 2,
       "version_minor": 0
      },
      "text/plain": [
       "Training epoch 7::   0%|          | 0/3750 [00:00<?, ?it/s]"
      ]
     },
     "metadata": {},
     "output_type": "display_data"
    },
    {
     "data": {
      "application/vnd.jupyter.widget-view+json": {
       "model_id": "7ba59bd1ef2744be9fb4b20024610a7e",
       "version_major": 2,
       "version_minor": 0
      },
      "text/plain": [
       "Training epoch 8::   0%|          | 0/3750 [00:00<?, ?it/s]"
      ]
     },
     "metadata": {},
     "output_type": "display_data"
    },
    {
     "data": {
      "application/vnd.jupyter.widget-view+json": {
       "model_id": "d4e241f9cef74669a634b70d7e4439eb",
       "version_major": 2,
       "version_minor": 0
      },
      "text/plain": [
       "Training epoch 9::   0%|          | 0/3750 [00:00<?, ?it/s]"
      ]
     },
     "metadata": {},
     "output_type": "display_data"
    },
    {
     "name": "stdout",
     "output_type": "stream",
     "text": [
      "Starting training for hparams: {'rnn_params': {'hidden_size': 256, 'num_layers': 2, 'bidirectional': True, 'dropout': 0}, 'rnn_type': 'lstm', 'dropout': 0.0, 'aggregation_type': 'mean', 'concat_with_last_token': True}\n"
     ]
    },
    {
     "data": {
      "application/vnd.jupyter.widget-view+json": {
       "model_id": "e23e6266afcc4fbab34f8d763d0cc936",
       "version_major": 2,
       "version_minor": 0
      },
      "text/plain": [
       "Training epoch 0::   0%|          | 0/3750 [00:00<?, ?it/s]"
      ]
     },
     "metadata": {},
     "output_type": "display_data"
    },
    {
     "data": {
      "application/vnd.jupyter.widget-view+json": {
       "model_id": "a0a396925f8949fd9f4c93df84e14be7",
       "version_major": 2,
       "version_minor": 0
      },
      "text/plain": [
       "Training epoch 1::   0%|          | 0/3750 [00:00<?, ?it/s]"
      ]
     },
     "metadata": {},
     "output_type": "display_data"
    },
    {
     "data": {
      "application/vnd.jupyter.widget-view+json": {
       "model_id": "f30f42e311f14cc699e12ea47ade9971",
       "version_major": 2,
       "version_minor": 0
      },
      "text/plain": [
       "Training epoch 2::   0%|          | 0/3750 [00:00<?, ?it/s]"
      ]
     },
     "metadata": {},
     "output_type": "display_data"
    },
    {
     "data": {
      "application/vnd.jupyter.widget-view+json": {
       "model_id": "97248561033148f08311c2bdd925540c",
       "version_major": 2,
       "version_minor": 0
      },
      "text/plain": [
       "Training epoch 3::   0%|          | 0/3750 [00:00<?, ?it/s]"
      ]
     },
     "metadata": {},
     "output_type": "display_data"
    },
    {
     "data": {
      "application/vnd.jupyter.widget-view+json": {
       "model_id": "ad09a563d3dc42d99313bf43dcc7b9fe",
       "version_major": 2,
       "version_minor": 0
      },
      "text/plain": [
       "Training epoch 4::   0%|          | 0/3750 [00:00<?, ?it/s]"
      ]
     },
     "metadata": {},
     "output_type": "display_data"
    },
    {
     "data": {
      "application/vnd.jupyter.widget-view+json": {
       "model_id": "ad072845c7304d22a1738f3a5be0fb37",
       "version_major": 2,
       "version_minor": 0
      },
      "text/plain": [
       "Training epoch 5::   0%|          | 0/3750 [00:00<?, ?it/s]"
      ]
     },
     "metadata": {},
     "output_type": "display_data"
    },
    {
     "data": {
      "application/vnd.jupyter.widget-view+json": {
       "model_id": "5a32fca6452e4147a03e86dc4c149da5",
       "version_major": 2,
       "version_minor": 0
      },
      "text/plain": [
       "Training epoch 6::   0%|          | 0/3750 [00:00<?, ?it/s]"
      ]
     },
     "metadata": {},
     "output_type": "display_data"
    },
    {
     "data": {
      "application/vnd.jupyter.widget-view+json": {
       "model_id": "1e8def5bad844973830daf2f90d65976",
       "version_major": 2,
       "version_minor": 0
      },
      "text/plain": [
       "Training epoch 7::   0%|          | 0/3750 [00:00<?, ?it/s]"
      ]
     },
     "metadata": {},
     "output_type": "display_data"
    },
    {
     "data": {
      "application/vnd.jupyter.widget-view+json": {
       "model_id": "5cd6b8f477794e9aacf2d03db05235ec",
       "version_major": 2,
       "version_minor": 0
      },
      "text/plain": [
       "Training epoch 8::   0%|          | 0/3750 [00:00<?, ?it/s]"
      ]
     },
     "metadata": {},
     "output_type": "display_data"
    },
    {
     "data": {
      "application/vnd.jupyter.widget-view+json": {
       "model_id": "24cb40befe29403f8321fc39d800ec01",
       "version_major": 2,
       "version_minor": 0
      },
      "text/plain": [
       "Training epoch 9::   0%|          | 0/3750 [00:00<?, ?it/s]"
      ]
     },
     "metadata": {},
     "output_type": "display_data"
    }
   ],
   "source": [
    "aggregation_type_hparams = [\"max\", \"mean\"]\n",
    "cocnat_with_last_token_hparams = [False, True]\n",
    "aggregation_selection_results: Dict[\n",
    "    Tuple[str, bool], Tuple[List[float], List[float]]\n",
    "] = dict()\n",
    "for (\n",
    "    aggregation_type,\n",
    "    concat_with_last_token,\n",
    ") in itertools.product(aggregation_type_hparams, cocnat_with_last_token_hparams):\n",
    "    model_hparams = copy.deepcopy(baseline_model_hparams)\n",
    "    model_hparams[\"rnn_type\"] = \"lstm\"\n",
    "    model_hparams[\"rnn_params\"][\"num_layers\"] = 2\n",
    "    model_hparams[\"aggregation_type\"] = aggregation_type\n",
    "    model_hparams[\"concat_with_last_token\"] = concat_with_last_token\n",
    "\n",
    "    aggregation_selection_results[(aggregation_type, concat_with_last_token)] = (\n",
    "        train_loop(\n",
    "            train_dataloader,\n",
    "            eval_dataloader,\n",
    "            vocab_size=len(vocab),\n",
    "            padding_idx=word2ind[\"<pad>\"],\n",
    "            model_hparams=model_hparams,\n",
    "            epochs=baseline_epochs,\n",
    "        )\n",
    "    )"
   ]
  },
  {
   "cell_type": "code",
   "execution_count": 40,
   "metadata": {},
   "outputs": [
    {
     "data": {
      "image/png": "[encoded data removed]",
      "text/plain": [
       "<Figure size 640x480 with 1 Axes>"
      ]
     },
     "metadata": {},
     "output_type": "display_data"
    }
   ],
   "source": [
    "fig, ax = plt.subplots()\n",
    "for (\n",
    "    aggregation_type,\n",
    "    concat_with_last_token,\n",
    "), color in zip(\n",
    "    itertools.product(\n",
    "        aggregation_type_hparams,\n",
    "        cocnat_with_last_token_hparams,\n",
    "    ),\n",
    "    [\"red\", \"blue\", \"orange\", \"purple\"],\n",
    "):\n",
    "    loss = aggregation_selection_results[(aggregation_type, concat_with_last_token)][0]\n",
    "    ax.plot(\n",
    "        np.arange(len(loss)) + 1,\n",
    "        loss,\n",
    "        label=f\"{aggregation_type}, {concat_with_last_token}\",\n",
    "        color=color,\n",
    "    )\n",
    "ax.set_ylabel(\"Loss\")\n",
    "ax.set_xlabel(\"epoch\")\n",
    "ax.legend()\n",
    "plt.show()"
   ]
  },
  {
   "cell_type": "code",
   "execution_count": 39,
   "metadata": {},
   "outputs": [
    {
     "data": {
      "image/png": "[encoded data removed]",
      "text/plain": [
       "<Figure size 640x480 with 1 Axes>"
      ]
     },
     "metadata": {},
     "output_type": "display_data"
    }
   ],
   "source": [
    "fig, ax = plt.subplots()\n",
    "for (\n",
    "    aggregation_type,\n",
    "    concat_with_last_token,\n",
    "), color in zip(\n",
    "    itertools.product(\n",
    "        aggregation_type_hparams,\n",
    "        cocnat_with_last_token_hparams,\n",
    "    ),\n",
    "    [\"red\", \"blue\", \"orange\", \"purple\"],\n",
    "):\n",
    "    acc = aggregation_selection_results[(aggregation_type, concat_with_last_token)][1]\n",
    "    ax.plot(\n",
    "        np.arange(len(acc)) + 1,\n",
    "        acc,\n",
    "        label=f\"{aggregation_type}, {concat_with_last_token}\",\n",
    "        color=color,\n",
    "    )\n",
    "ax.set_ylabel(\"Accuracy\")\n",
    "ax.set_xlabel(\"epoch\")\n",
    "ax.legend()\n",
    "plt.show()"
   ]
  },
  {
   "cell_type": "code",
   "execution_count": 45,
   "metadata": {},
   "outputs": [
    {
     "name": "stdout",
     "output_type": "stream",
     "text": [
      "Max accuracy for aggregation_type=max and concat_with_last_token=False: 0.9172\n",
      "Max accuracy for aggregation_type=max and concat_with_last_token=True: 0.9174\n",
      "Max accuracy for aggregation_type=mean and concat_with_last_token=False: 0.9192\n",
      "Max accuracy for aggregation_type=mean and concat_with_last_token=True: 0.9162\n"
     ]
    }
   ],
   "source": [
    "for (\n",
    "    aggregation_type,\n",
    "    concat_with_last_token,\n",
    ") in itertools.product(aggregation_type_hparams, cocnat_with_last_token_hparams):\n",
    "    print(\n",
    "        f\"Max accuracy for aggregation_type={aggregation_type} and concat_with_last_token={concat_with_last_token}: \"\n",
    "        f\"{max(aggregation_selection_results[(aggregation_type, concat_with_last_token)][1]):.4f}\"\n",
    "    )"
   ]
  },
  {
   "cell_type": "code",
   "execution_count": 50,
   "metadata": {},
   "outputs": [],
   "source": [
    "best_accuracy = max(aggregation_selection_results[(\"mean\", False)][1])"
   ]
  },
  {
   "cell_type": "markdown",
   "metadata": {},
   "source": [
    "Агрегация с типом `mean` и без конкатенации последнего токена показала наилучший вариант, то есть этот эксперимент не показал улучшения"
   ]
  },
  {
   "cell_type": "markdown",
   "metadata": {},
   "source": [
    "# Best model"
   ]
  },
  {
   "cell_type": "code",
   "execution_count": 61,
   "metadata": {},
   "outputs": [
    {
     "name": "stdout",
     "output_type": "stream",
     "text": [
      "Лучшая модель оказалась с архитектурой LSTM, количеством слоев 2, агрегацией mean и без конкатенации\n",
      "Лучшее accuracy: 0.9192\n"
     ]
    }
   ],
   "source": [
    "print(\n",
    "    \"Лучшая модель оказалась с архитектурой LSTM, количеством слоев 2, агрегацией mean и без конкатенации\"\n",
    ")\n",
    "print(f\"Лучшее accuracy: {best_accuracy:.4f}\")"
   ]
  },
  {
   "cell_type": "markdown",
   "metadata": {},
   "source": [
    "## Отчет\n",
    "* Эксперименты с выбором архитектуры RNN и количеством слоев RNN принесли улучшение качества, а эксперимент с изменением типа агрегации выхода LSTM - нет\n",
    "* Модели со всеми архитектурами RNN (vanila, LSTM и GRU) достигают пикового качества на количестве эпох <7, а далее модели уже переобучиваются и у них понижается среднее качетсво модели, при это само качество колеблется в зависимости от эпохи, если эпоха > 8\n",
    "* Лучшая модель оказалась с архитектурой LSTM, количеством слоев 2, агрегацией mean и без конкатенации"
   ]
  }
 ],
 "metadata": {
  "accelerator": "GPU",
  "colab": {
   "provenance": []
  },
  "gpuClass": "standard",
  "kernelspec": {
   "display_name": "dls-nlp-hw2-1YbSzSHt-py3.10",
   "language": "python",
   "name": "python3"
  },
  "language_info": {
   "codemirror_mode": {
    "name": "ipython",
    "version": 3
   },
   "file_extension": ".py",
   "mimetype": "text/x-python",
   "name": "python",
   "nbconvert_exporter": "python",
   "pygments_lexer": "ipython3",
   "version": "3.10.0"
  },
  "widgets": {
   "application/vnd.jupyter.widget-state+json": {
    "0401a08736004c4cafe05feae921849f": {
     "model_module": "@jupyter-widgets/controls",
     "model_module_version": "1.5.0",
     "model_name": "ProgressStyleModel",
     "state": {
      "_model_module": "@jupyter-widgets/controls",
      "_model_module_version": "1.5.0",
      "_model_name": "ProgressStyleModel",
      "_view_count": null,
      "_view_module": "@jupyter-widgets/base",
      "_view_module_version": "1.2.0",
      "_view_name": "StyleView",
      "bar_color": null,
      "description_width": ""
     }
    },
    "04c14b466921444299752b1bf6cac9fb": {
     "model_module": "@jupyter-widgets/controls",
     "model_module_version": "1.5.0",
     "model_name": "HTMLModel",
     "state": {
      "_dom_classes": [],
      "_model_module": "@jupyter-widgets/controls",
      "_model_module_version": "1.5.0",
      "_model_name": "HTMLModel",
      "_view_count": null,
      "_view_module": "@jupyter-widgets/controls",
      "_view_module_version": "1.5.0",
      "_view_name": "HTMLView",
      "description": "",
      "description_tooltip": null,
      "layout": "IPY_MODEL_3bdb6917a86249c6a094d5d8e1433365",
      "placeholder": "​",
      "style": "IPY_MODEL_a1f665b2995b4d62a2881de651810d44",
      "value": " 1.86M/? [00:00&lt;00:00, 5.85MB/s]"
     }
    },
    "056cc6bc26f14d1aa27208e4be38bb73": {
     "model_module": "@jupyter-widgets/base",
     "model_module_version": "1.2.0",
     "model_name": "LayoutModel",
     "state": {
      "_model_module": "@jupyter-widgets/base",
      "_model_module_version": "1.2.0",
      "_model_name": "LayoutModel",
      "_view_count": null,
      "_view_module": "@jupyter-widgets/base",
      "_view_module_version": "1.2.0",
      "_view_name": "LayoutView",
      "align_content": null,
      "align_items": null,
      "align_self": null,
      "border": null,
      "bottom": null,
      "display": null,
      "flex": null,
      "flex_flow": null,
      "grid_area": null,
      "grid_auto_columns": null,
      "grid_auto_flow": null,
      "grid_auto_rows": null,
      "grid_column": null,
      "grid_gap": null,
      "grid_row": null,
      "grid_template_areas": null,
      "grid_template_columns": null,
      "grid_template_rows": null,
      "height": null,
      "justify_content": null,
      "justify_items": null,
      "left": null,
      "margin": null,
      "max_height": null,
      "max_width": null,
      "min_height": null,
      "min_width": null,
      "object_fit": null,
      "object_position": null,
      "order": null,
      "overflow": null,
      "overflow_x": null,
      "overflow_y": null,
      "padding": null,
      "right": null,
      "top": null,
      "visibility": "hidden",
      "width": null
     }
    },
    "0847a33379184a368d5d1b82222b74cc": {
     "model_module": "@jupyter-widgets/controls",
     "model_module_version": "1.5.0",
     "model_name": "ProgressStyleModel",
     "state": {
      "_model_module": "@jupyter-widgets/controls",
      "_model_module_version": "1.5.0",
      "_model_name": "ProgressStyleModel",
      "_view_count": null,
      "_view_module": "@jupyter-widgets/base",
      "_view_module_version": "1.2.0",
      "_view_name": "StyleView",
      "bar_color": null,
      "description_width": ""
     }
    },
    "0872109d55664634958251b1c8a3879e": {
     "model_module": "@jupyter-widgets/controls",
     "model_module_version": "1.5.0",
     "model_name": "HTMLModel",
     "state": {
      "_dom_classes": [],
      "_model_module": "@jupyter-widgets/controls",
      "_model_module_version": "1.5.0",
      "_model_name": "HTMLModel",
      "_view_count": null,
      "_view_module": "@jupyter-widgets/controls",
      "_view_module_version": "1.5.0",
      "_view_name": "HTMLView",
      "description": "",
      "description_tooltip": null,
      "layout": "IPY_MODEL_1644c4f507954f0ba03aeb75b80b93ba",
      "placeholder": "​",
      "style": "IPY_MODEL_bc1cab86f2d6492cb79c21c25206955e",
      "value": " 120000/120000 [00:26&lt;00:00, 36707.70 examples/s]"
     }
    },
    "09ec9cea96b341d0a25451b192102f39": {
     "model_module": "@jupyter-widgets/controls",
     "model_module_version": "1.5.0",
     "model_name": "HBoxModel",
     "state": {
      "_dom_classes": [],
      "_model_module": "@jupyter-widgets/controls",
      "_model_module_version": "1.5.0",
      "_model_name": "HBoxModel",
      "_view_count": null,
      "_view_module": "@jupyter-widgets/controls",
      "_view_module_version": "1.5.0",
      "_view_name": "HBoxView",
      "box_style": "",
      "children": [
       "IPY_MODEL_c9ce26882ff34d61b1817915058152f1",
       "IPY_MODEL_ece019411eba48ca93173a9b15cf8cbb",
       "IPY_MODEL_19722e928d404adb990c5cec48524bba"
      ],
      "layout": "IPY_MODEL_a93760269c044501aa63f3af2524210e"
     }
    },
    "0c75bfe839864746be85eae85414c224": {
     "model_module": "@jupyter-widgets/controls",
     "model_module_version": "1.5.0",
     "model_name": "HTMLModel",
     "state": {
      "_dom_classes": [],
      "_model_module": "@jupyter-widgets/controls",
      "_model_module_version": "1.5.0",
      "_model_name": "HTMLModel",
      "_view_count": null,
      "_view_module": "@jupyter-widgets/controls",
      "_view_module_version": "1.5.0",
      "_view_name": "HTMLView",
      "description": "",
      "description_tooltip": null,
      "layout": "IPY_MODEL_31e4423718424bc2bbca5ac1a9051b08",
      "placeholder": "​",
      "style": "IPY_MODEL_2b12a038d1864df79f83d85db191cfbb",
      "value": " 2/2 [00:00&lt;00:00, 68.30it/s]"
     }
    },
    "11d52f8a43cf44f08db4d15e0609adfd": {
     "model_module": "@jupyter-widgets/controls",
     "model_module_version": "1.5.0",
     "model_name": "HBoxModel",
     "state": {
      "_dom_classes": [],
      "_model_module": "@jupyter-widgets/controls",
      "_model_module_version": "1.5.0",
      "_model_name": "HBoxModel",
      "_view_count": null,
      "_view_module": "@jupyter-widgets/controls",
      "_view_module_version": "1.5.0",
      "_view_name": "HBoxView",
      "box_style": "",
      "children": [
       "IPY_MODEL_dc7219cdf164455e9172bc134d89d35a",
       "IPY_MODEL_58ed943442364505881079688d1fde0d",
       "IPY_MODEL_24e73abed20f4880a8d235907e0df027"
      ],
      "layout": "IPY_MODEL_056cc6bc26f14d1aa27208e4be38bb73"
     }
    },
    "122ed5c8b5a74305ba54ff99af7e9d54": {
     "model_module": "@jupyter-widgets/base",
     "model_module_version": "1.2.0",
     "model_name": "LayoutModel",
     "state": {
      "_model_module": "@jupyter-widgets/base",
      "_model_module_version": "1.2.0",
      "_model_name": "LayoutModel",
      "_view_count": null,
      "_view_module": "@jupyter-widgets/base",
      "_view_module_version": "1.2.0",
      "_view_name": "LayoutView",
      "align_content": null,
      "align_items": null,
      "align_self": null,
      "border": null,
      "bottom": null,
      "display": null,
      "flex": null,
      "flex_flow": null,
      "grid_area": null,
      "grid_auto_columns": null,
      "grid_auto_flow": null,
      "grid_auto_rows": null,
      "grid_column": null,
      "grid_gap": null,
      "grid_row": null,
      "grid_template_areas": null,
      "grid_template_columns": null,
      "grid_template_rows": null,
      "height": null,
      "justify_content": null,
      "justify_items": null,
      "left": null,
      "margin": null,
      "max_height": null,
      "max_width": null,
      "min_height": null,
      "min_width": null,
      "object_fit": null,
      "object_position": null,
      "order": null,
      "overflow": null,
      "overflow_x": null,
      "overflow_y": null,
      "padding": null,
      "right": null,
      "top": null,
      "visibility": null,
      "width": null
     }
    },
    "1644c4f507954f0ba03aeb75b80b93ba": {
     "model_module": "@jupyter-widgets/base",
     "model_module_version": "1.2.0",
     "model_name": "LayoutModel",
     "state": {
      "_model_module": "@jupyter-widgets/base",
      "_model_module_version": "1.2.0",
      "_model_name": "LayoutModel",
      "_view_count": null,
      "_view_module": "@jupyter-widgets/base",
      "_view_module_version": "1.2.0",
      "_view_name": "LayoutView",
      "align_content": null,
      "align_items": null,
      "align_self": null,
      "border": null,
      "bottom": null,
      "display": null,
      "flex": null,
      "flex_flow": null,
      "grid_area": null,
      "grid_auto_columns": null,
      "grid_auto_flow": null,
      "grid_auto_rows": null,
      "grid_column": null,
      "grid_gap": null,
      "grid_row": null,
      "grid_template_areas": null,
      "grid_template_columns": null,
      "grid_template_rows": null,
      "height": null,
      "justify_content": null,
      "justify_items": null,
      "left": null,
      "margin": null,
      "max_height": null,
      "max_width": null,
      "min_height": null,
      "min_width": null,
      "object_fit": null,
      "object_position": null,
      "order": null,
      "overflow": null,
      "overflow_x": null,
      "overflow_y": null,
      "padding": null,
      "right": null,
      "top": null,
      "visibility": null,
      "width": null
     }
    },
    "196e3535fb3b4ede9c86fe2c79009322": {
     "model_module": "@jupyter-widgets/base",
     "model_module_version": "1.2.0",
     "model_name": "LayoutModel",
     "state": {
      "_model_module": "@jupyter-widgets/base",
      "_model_module_version": "1.2.0",
      "_model_name": "LayoutModel",
      "_view_count": null,
      "_view_module": "@jupyter-widgets/base",
      "_view_module_version": "1.2.0",
      "_view_name": "LayoutView",
      "align_content": null,
      "align_items": null,
      "align_self": null,
      "border": null,
      "bottom": null,
      "display": null,
      "flex": null,
      "flex_flow": null,
      "grid_area": null,
      "grid_auto_columns": null,
      "grid_auto_flow": null,
      "grid_auto_rows": null,
      "grid_column": null,
      "grid_gap": null,
      "grid_row": null,
      "grid_template_areas": null,
      "grid_template_columns": null,
      "grid_template_rows": null,
      "height": null,
      "justify_content": null,
      "justify_items": null,
      "left": null,
      "margin": null,
      "max_height": null,
      "max_width": null,
      "min_height": null,
      "min_width": null,
      "object_fit": null,
      "object_position": null,
      "order": null,
      "overflow": null,
      "overflow_x": null,
      "overflow_y": null,
      "padding": null,
      "right": null,
      "top": null,
      "visibility": null,
      "width": null
     }
    },
    "19722e928d404adb990c5cec48524bba": {
     "model_module": "@jupyter-widgets/controls",
     "model_module_version": "1.5.0",
     "model_name": "HTMLModel",
     "state": {
      "_dom_classes": [],
      "_model_module": "@jupyter-widgets/controls",
      "_model_module_version": "1.5.0",
      "_model_name": "HTMLModel",
      "_view_count": null,
      "_view_module": "@jupyter-widgets/controls",
      "_view_module_version": "1.5.0",
      "_view_name": "HTMLView",
      "description": "",
      "description_tooltip": null,
      "layout": "IPY_MODEL_122ed5c8b5a74305ba54ff99af7e9d54",
      "placeholder": "​",
      "style": "IPY_MODEL_c0894fc6901f475382628d4868062558",
      "value": " 2.65k/2.65k [00:00&lt;00:00, 47.9kB/s]"
     }
    },
    "1eb740874a8b4df68e18f0dbf8e7acdc": {
     "model_module": "@jupyter-widgets/controls",
     "model_module_version": "1.5.0",
     "model_name": "HBoxModel",
     "state": {
      "_dom_classes": [],
      "_model_module": "@jupyter-widgets/controls",
      "_model_module_version": "1.5.0",
      "_model_name": "HBoxModel",
      "_view_count": null,
      "_view_module": "@jupyter-widgets/controls",
      "_view_module_version": "1.5.0",
      "_view_name": "HBoxView",
      "box_style": "",
      "children": [
       "IPY_MODEL_fc9cdace4f17455082a2a8374913d322",
       "IPY_MODEL_3ebe7107b9c643a4a990b0c5966299e8",
       "IPY_MODEL_f1bde9957cab40ba97cd7faa65889b00"
      ],
      "layout": "IPY_MODEL_aefc7fff46e6439fae50d2ac508d78e3"
     }
    },
    "24e73abed20f4880a8d235907e0df027": {
     "model_module": "@jupyter-widgets/controls",
     "model_module_version": "1.5.0",
     "model_name": "HTMLModel",
     "state": {
      "_dom_classes": [],
      "_model_module": "@jupyter-widgets/controls",
      "_model_module_version": "1.5.0",
      "_model_name": "HTMLModel",
      "_view_count": null,
      "_view_module": "@jupyter-widgets/controls",
      "_view_module_version": "1.5.0",
      "_view_name": "HTMLView",
      "description": "",
      "description_tooltip": null,
      "layout": "IPY_MODEL_95572bae4c6f4d85b85202d04b4271a3",
      "placeholder": "​",
      "style": "IPY_MODEL_a3fb5f712cdf4d3da74af03d24622ada",
      "value": " 7600/7600 [00:18&lt;00:00, 29667.50 examples/s]"
     }
    },
    "2b12a038d1864df79f83d85db191cfbb": {
     "model_module": "@jupyter-widgets/controls",
     "model_module_version": "1.5.0",
     "model_name": "DescriptionStyleModel",
     "state": {
      "_model_module": "@jupyter-widgets/controls",
      "_model_module_version": "1.5.0",
      "_model_name": "DescriptionStyleModel",
      "_view_count": null,
      "_view_module": "@jupyter-widgets/base",
      "_view_module_version": "1.2.0",
      "_view_name": "StyleView",
      "description_width": ""
     }
    },
    "3018b5e2177b4eb7ba0f562b7db28fe4": {
     "model_module": "@jupyter-widgets/controls",
     "model_module_version": "1.5.0",
     "model_name": "ProgressStyleModel",
     "state": {
      "_model_module": "@jupyter-widgets/controls",
      "_model_module_version": "1.5.0",
      "_model_name": "ProgressStyleModel",
      "_view_count": null,
      "_view_module": "@jupyter-widgets/base",
      "_view_module_version": "1.2.0",
      "_view_name": "StyleView",
      "bar_color": null,
      "description_width": ""
     }
    },
    "31e4423718424bc2bbca5ac1a9051b08": {
     "model_module": "@jupyter-widgets/base",
     "model_module_version": "1.2.0",
     "model_name": "LayoutModel",
     "state": {
      "_model_module": "@jupyter-widgets/base",
      "_model_module_version": "1.2.0",
      "_model_name": "LayoutModel",
      "_view_count": null,
      "_view_module": "@jupyter-widgets/base",
      "_view_module_version": "1.2.0",
      "_view_name": "LayoutView",
      "align_content": null,
      "align_items": null,
      "align_self": null,
      "border": null,
      "bottom": null,
      "display": null,
      "flex": null,
      "flex_flow": null,
      "grid_area": null,
      "grid_auto_columns": null,
      "grid_auto_flow": null,
      "grid_auto_rows": null,
      "grid_column": null,
      "grid_gap": null,
      "grid_row": null,
      "grid_template_areas": null,
      "grid_template_columns": null,
      "grid_template_rows": null,
      "height": null,
      "justify_content": null,
      "justify_items": null,
      "left": null,
      "margin": null,
      "max_height": null,
      "max_width": null,
      "min_height": null,
      "min_width": null,
      "object_fit": null,
      "object_position": null,
      "order": null,
      "overflow": null,
      "overflow_x": null,
      "overflow_y": null,
      "padding": null,
      "right": null,
      "top": null,
      "visibility": null,
      "width": null
     }
    },
    "33521ca994f14e55aa040cfc2f5d1105": {
     "model_module": "@jupyter-widgets/controls",
     "model_module_version": "1.5.0",
     "model_name": "DescriptionStyleModel",
     "state": {
      "_model_module": "@jupyter-widgets/controls",
      "_model_module_version": "1.5.0",
      "_model_name": "DescriptionStyleModel",
      "_view_count": null,
      "_view_module": "@jupyter-widgets/base",
      "_view_module_version": "1.2.0",
      "_view_name": "StyleView",
      "description_width": ""
     }
    },
    "33ce5077e4714f239f12562e1a7a7ef2": {
     "model_module": "@jupyter-widgets/base",
     "model_module_version": "1.2.0",
     "model_name": "LayoutModel",
     "state": {
      "_model_module": "@jupyter-widgets/base",
      "_model_module_version": "1.2.0",
      "_model_name": "LayoutModel",
      "_view_count": null,
      "_view_module": "@jupyter-widgets/base",
      "_view_module_version": "1.2.0",
      "_view_name": "LayoutView",
      "align_content": null,
      "align_items": null,
      "align_self": null,
      "border": null,
      "bottom": null,
      "display": null,
      "flex": null,
      "flex_flow": null,
      "grid_area": null,
      "grid_auto_columns": null,
      "grid_auto_flow": null,
      "grid_auto_rows": null,
      "grid_column": null,
      "grid_gap": null,
      "grid_row": null,
      "grid_template_areas": null,
      "grid_template_columns": null,
      "grid_template_rows": null,
      "height": null,
      "justify_content": null,
      "justify_items": null,
      "left": null,
      "margin": null,
      "max_height": null,
      "max_width": null,
      "min_height": null,
      "min_width": null,
      "object_fit": null,
      "object_position": null,
      "order": null,
      "overflow": null,
      "overflow_x": null,
      "overflow_y": null,
      "padding": null,
      "right": null,
      "top": null,
      "visibility": null,
      "width": null
     }
    },
    "38c3fbf1198e4f7cbfc990cb362be0ba": {
     "model_module": "@jupyter-widgets/controls",
     "model_module_version": "1.5.0",
     "model_name": "HBoxModel",
     "state": {
      "_dom_classes": [],
      "_model_module": "@jupyter-widgets/controls",
      "_model_module_version": "1.5.0",
      "_model_name": "HBoxModel",
      "_view_count": null,
      "_view_module": "@jupyter-widgets/controls",
      "_view_module_version": "1.5.0",
      "_view_name": "HBoxView",
      "box_style": "",
      "children": [
       "IPY_MODEL_9fbc7d78c453476c8a6ace8a267aa6f3",
       "IPY_MODEL_88bf756ae2ef454da07e153e26d6b272",
       "IPY_MODEL_0872109d55664634958251b1c8a3879e"
      ],
      "layout": "IPY_MODEL_e43cb91bee254131af50f2af50be3a4e"
     }
    },
    "39e541c8faca418782958233ef684677": {
     "model_module": "@jupyter-widgets/controls",
     "model_module_version": "1.5.0",
     "model_name": "FloatProgressModel",
     "state": {
      "_dom_classes": [],
      "_model_module": "@jupyter-widgets/controls",
      "_model_module_version": "1.5.0",
      "_model_name": "FloatProgressModel",
      "_view_count": null,
      "_view_module": "@jupyter-widgets/controls",
      "_view_module_version": "1.5.0",
      "_view_name": "ProgressView",
      "bar_style": "success",
      "description": "",
      "description_tooltip": null,
      "layout": "IPY_MODEL_3d64d3a55ba64a5da8776712d649fc4e",
      "max": 2,
      "min": 0,
      "orientation": "horizontal",
      "style": "IPY_MODEL_93b7be412ced4982a8d7901c40e8c64d",
      "value": 2
     }
    },
    "3bdb6917a86249c6a094d5d8e1433365": {
     "model_module": "@jupyter-widgets/base",
     "model_module_version": "1.2.0",
     "model_name": "LayoutModel",
     "state": {
      "_model_module": "@jupyter-widgets/base",
      "_model_module_version": "1.2.0",
      "_model_name": "LayoutModel",
      "_view_count": null,
      "_view_module": "@jupyter-widgets/base",
      "_view_module_version": "1.2.0",
      "_view_name": "LayoutView",
      "align_content": null,
      "align_items": null,
      "align_self": null,
      "border": null,
      "bottom": null,
      "display": null,
      "flex": null,
      "flex_flow": null,
      "grid_area": null,
      "grid_auto_columns": null,
      "grid_auto_flow": null,
      "grid_auto_rows": null,
      "grid_column": null,
      "grid_gap": null,
      "grid_row": null,
      "grid_template_areas": null,
      "grid_template_columns": null,
      "grid_template_rows": null,
      "height": null,
      "justify_content": null,
      "justify_items": null,
      "left": null,
      "margin": null,
      "max_height": null,
      "max_width": null,
      "min_height": null,
      "min_width": null,
      "object_fit": null,
      "object_position": null,
      "order": null,
      "overflow": null,
      "overflow_x": null,
      "overflow_y": null,
      "padding": null,
      "right": null,
      "top": null,
      "visibility": null,
      "width": null
     }
    },
    "3d64d3a55ba64a5da8776712d649fc4e": {
     "model_module": "@jupyter-widgets/base",
     "model_module_version": "1.2.0",
     "model_name": "LayoutModel",
     "state": {
      "_model_module": "@jupyter-widgets/base",
      "_model_module_version": "1.2.0",
      "_model_name": "LayoutModel",
      "_view_count": null,
      "_view_module": "@jupyter-widgets/base",
      "_view_module_version": "1.2.0",
      "_view_name": "LayoutView",
      "align_content": null,
      "align_items": null,
      "align_self": null,
      "border": null,
      "bottom": null,
      "display": null,
      "flex": null,
      "flex_flow": null,
      "grid_area": null,
      "grid_auto_columns": null,
      "grid_auto_flow": null,
      "grid_auto_rows": null,
      "grid_column": null,
      "grid_gap": null,
      "grid_row": null,
      "grid_template_areas": null,
      "grid_template_columns": null,
      "grid_template_rows": null,
      "height": null,
      "justify_content": null,
      "justify_items": null,
      "left": null,
      "margin": null,
      "max_height": null,
      "max_width": null,
      "min_height": null,
      "min_width": null,
      "object_fit": null,
      "object_position": null,
      "order": null,
      "overflow": null,
      "overflow_x": null,
      "overflow_y": null,
      "padding": null,
      "right": null,
      "top": null,
      "visibility": null,
      "width": null
     }
    },
    "3ebe7107b9c643a4a990b0c5966299e8": {
     "model_module": "@jupyter-widgets/controls",
     "model_module_version": "1.5.0",
     "model_name": "FloatProgressModel",
     "state": {
      "_dom_classes": [],
      "_model_module": "@jupyter-widgets/controls",
      "_model_module_version": "1.5.0",
      "_model_name": "FloatProgressModel",
      "_view_count": null,
      "_view_module": "@jupyter-widgets/controls",
      "_view_module_version": "1.5.0",
      "_view_name": "ProgressView",
      "bar_style": "success",
      "description": "",
      "description_tooltip": null,
      "layout": "IPY_MODEL_4acffbd4a4604620bcd4b4f8c9c6af9b",
      "max": 4063,
      "min": 0,
      "orientation": "horizontal",
      "style": "IPY_MODEL_8cde1d20ba3e45a08490e769ddd51bb4",
      "value": 4063
     }
    },
    "45b415cc22e64cbc9376f7bf8601f09b": {
     "model_module": "@jupyter-widgets/controls",
     "model_module_version": "1.5.0",
     "model_name": "HBoxModel",
     "state": {
      "_dom_classes": [],
      "_model_module": "@jupyter-widgets/controls",
      "_model_module_version": "1.5.0",
      "_model_name": "HBoxModel",
      "_view_count": null,
      "_view_module": "@jupyter-widgets/controls",
      "_view_module_version": "1.5.0",
      "_view_name": "HBoxView",
      "box_style": "",
      "children": [
       "IPY_MODEL_eee83e0a1bd14d00af3159061f96a553",
       "IPY_MODEL_bd82244ccbd842539464a9168a897f1c",
       "IPY_MODEL_94b4879a5a644dbeaa3ec1e5af2b1744"
      ],
      "layout": "IPY_MODEL_fb542b520c1a42f4b621f95a4e90d644"
     }
    },
    "4acffbd4a4604620bcd4b4f8c9c6af9b": {
     "model_module": "@jupyter-widgets/base",
     "model_module_version": "1.2.0",
     "model_name": "LayoutModel",
     "state": {
      "_model_module": "@jupyter-widgets/base",
      "_model_module_version": "1.2.0",
      "_model_name": "LayoutModel",
      "_view_count": null,
      "_view_module": "@jupyter-widgets/base",
      "_view_module_version": "1.2.0",
      "_view_name": "LayoutView",
      "align_content": null,
      "align_items": null,
      "align_self": null,
      "border": null,
      "bottom": null,
      "display": null,
      "flex": null,
      "flex_flow": null,
      "grid_area": null,
      "grid_auto_columns": null,
      "grid_auto_flow": null,
      "grid_auto_rows": null,
      "grid_column": null,
      "grid_gap": null,
      "grid_row": null,
      "grid_template_areas": null,
      "grid_template_columns": null,
      "grid_template_rows": null,
      "height": null,
      "justify_content": null,
      "justify_items": null,
      "left": null,
      "margin": null,
      "max_height": null,
      "max_width": null,
      "min_height": null,
      "min_width": null,
      "object_fit": null,
      "object_position": null,
      "order": null,
      "overflow": null,
      "overflow_x": null,
      "overflow_y": null,
      "padding": null,
      "right": null,
      "top": null,
      "visibility": null,
      "width": null
     }
    },
    "4b8e4f5ccb3346fdb8a8e56baf8a7f49": {
     "model_module": "@jupyter-widgets/controls",
     "model_module_version": "1.5.0",
     "model_name": "DescriptionStyleModel",
     "state": {
      "_model_module": "@jupyter-widgets/controls",
      "_model_module_version": "1.5.0",
      "_model_name": "DescriptionStyleModel",
      "_view_count": null,
      "_view_module": "@jupyter-widgets/base",
      "_view_module_version": "1.2.0",
      "_view_name": "StyleView",
      "description_width": ""
     }
    },
    "4ceb025f703948e4971486323e58c3e4": {
     "model_module": "@jupyter-widgets/controls",
     "model_module_version": "1.5.0",
     "model_name": "HBoxModel",
     "state": {
      "_dom_classes": [],
      "_model_module": "@jupyter-widgets/controls",
      "_model_module_version": "1.5.0",
      "_model_name": "HBoxModel",
      "_view_count": null,
      "_view_module": "@jupyter-widgets/controls",
      "_view_module_version": "1.5.0",
      "_view_name": "HBoxView",
      "box_style": "",
      "children": [
       "IPY_MODEL_8136ea38174b46fe99d4549e396adbaf",
       "IPY_MODEL_596c2a7e529b45a7973496e02b50ee17",
       "IPY_MODEL_04c14b466921444299752b1bf6cac9fb"
      ],
      "layout": "IPY_MODEL_99b28ecd95564dbc99ef588f42ae1dd2"
     }
    },
    "50565855965a4fc08310e2b7d8d65fd0": {
     "model_module": "@jupyter-widgets/base",
     "model_module_version": "1.2.0",
     "model_name": "LayoutModel",
     "state": {
      "_model_module": "@jupyter-widgets/base",
      "_model_module_version": "1.2.0",
      "_model_name": "LayoutModel",
      "_view_count": null,
      "_view_module": "@jupyter-widgets/base",
      "_view_module_version": "1.2.0",
      "_view_name": "LayoutView",
      "align_content": null,
      "align_items": null,
      "align_self": null,
      "border": null,
      "bottom": null,
      "display": null,
      "flex": null,
      "flex_flow": null,
      "grid_area": null,
      "grid_auto_columns": null,
      "grid_auto_flow": null,
      "grid_auto_rows": null,
      "grid_column": null,
      "grid_gap": null,
      "grid_row": null,
      "grid_template_areas": null,
      "grid_template_columns": null,
      "grid_template_rows": null,
      "height": null,
      "justify_content": null,
      "justify_items": null,
      "left": null,
      "margin": null,
      "max_height": null,
      "max_width": null,
      "min_height": null,
      "min_width": null,
      "object_fit": null,
      "object_position": null,
      "order": null,
      "overflow": null,
      "overflow_x": null,
      "overflow_y": null,
      "padding": null,
      "right": null,
      "top": null,
      "visibility": null,
      "width": null
     }
    },
    "513f35a7ebb74d3ebbaefa013b725d14": {
     "model_module": "@jupyter-widgets/base",
     "model_module_version": "1.2.0",
     "model_name": "LayoutModel",
     "state": {
      "_model_module": "@jupyter-widgets/base",
      "_model_module_version": "1.2.0",
      "_model_name": "LayoutModel",
      "_view_count": null,
      "_view_module": "@jupyter-widgets/base",
      "_view_module_version": "1.2.0",
      "_view_name": "LayoutView",
      "align_content": null,
      "align_items": null,
      "align_self": null,
      "border": null,
      "bottom": null,
      "display": null,
      "flex": null,
      "flex_flow": null,
      "grid_area": null,
      "grid_auto_columns": null,
      "grid_auto_flow": null,
      "grid_auto_rows": null,
      "grid_column": null,
      "grid_gap": null,
      "grid_row": null,
      "grid_template_areas": null,
      "grid_template_columns": null,
      "grid_template_rows": null,
      "height": null,
      "justify_content": null,
      "justify_items": null,
      "left": null,
      "margin": null,
      "max_height": null,
      "max_width": null,
      "min_height": null,
      "min_width": null,
      "object_fit": null,
      "object_position": null,
      "order": null,
      "overflow": null,
      "overflow_x": null,
      "overflow_y": null,
      "padding": null,
      "right": null,
      "top": null,
      "visibility": null,
      "width": null
     }
    },
    "5340dd684eed471ba18cb36d477c9f4d": {
     "model_module": "@jupyter-widgets/controls",
     "model_module_version": "1.5.0",
     "model_name": "ProgressStyleModel",
     "state": {
      "_model_module": "@jupyter-widgets/controls",
      "_model_module_version": "1.5.0",
      "_model_name": "ProgressStyleModel",
      "_view_count": null,
      "_view_module": "@jupyter-widgets/base",
      "_view_module_version": "1.2.0",
      "_view_name": "StyleView",
      "bar_color": null,
      "description_width": ""
     }
    },
    "540219b4cc9b4ace9c70feb8a8146480": {
     "model_module": "@jupyter-widgets/base",
     "model_module_version": "1.2.0",
     "model_name": "LayoutModel",
     "state": {
      "_model_module": "@jupyter-widgets/base",
      "_model_module_version": "1.2.0",
      "_model_name": "LayoutModel",
      "_view_count": null,
      "_view_module": "@jupyter-widgets/base",
      "_view_module_version": "1.2.0",
      "_view_name": "LayoutView",
      "align_content": null,
      "align_items": null,
      "align_self": null,
      "border": null,
      "bottom": null,
      "display": null,
      "flex": null,
      "flex_flow": null,
      "grid_area": null,
      "grid_auto_columns": null,
      "grid_auto_flow": null,
      "grid_auto_rows": null,
      "grid_column": null,
      "grid_gap": null,
      "grid_row": null,
      "grid_template_areas": null,
      "grid_template_columns": null,
      "grid_template_rows": null,
      "height": null,
      "justify_content": null,
      "justify_items": null,
      "left": null,
      "margin": null,
      "max_height": null,
      "max_width": null,
      "min_height": null,
      "min_width": null,
      "object_fit": null,
      "object_position": null,
      "order": null,
      "overflow": null,
      "overflow_x": null,
      "overflow_y": null,
      "padding": null,
      "right": null,
      "top": null,
      "visibility": null,
      "width": null
     }
    },
    "5494c2f8716a4da0a846bfad0e25b425": {
     "model_module": "@jupyter-widgets/base",
     "model_module_version": "1.2.0",
     "model_name": "LayoutModel",
     "state": {
      "_model_module": "@jupyter-widgets/base",
      "_model_module_version": "1.2.0",
      "_model_name": "LayoutModel",
      "_view_count": null,
      "_view_module": "@jupyter-widgets/base",
      "_view_module_version": "1.2.0",
      "_view_name": "LayoutView",
      "align_content": null,
      "align_items": null,
      "align_self": null,
      "border": null,
      "bottom": null,
      "display": null,
      "flex": null,
      "flex_flow": null,
      "grid_area": null,
      "grid_auto_columns": null,
      "grid_auto_flow": null,
      "grid_auto_rows": null,
      "grid_column": null,
      "grid_gap": null,
      "grid_row": null,
      "grid_template_areas": null,
      "grid_template_columns": null,
      "grid_template_rows": null,
      "height": null,
      "justify_content": null,
      "justify_items": null,
      "left": null,
      "margin": null,
      "max_height": null,
      "max_width": null,
      "min_height": null,
      "min_width": null,
      "object_fit": null,
      "object_position": null,
      "order": null,
      "overflow": null,
      "overflow_x": null,
      "overflow_y": null,
      "padding": null,
      "right": null,
      "top": null,
      "visibility": null,
      "width": null
     }
    },
    "55b7456ea0be447a8b87f75226163726": {
     "model_module": "@jupyter-widgets/controls",
     "model_module_version": "1.5.0",
     "model_name": "DescriptionStyleModel",
     "state": {
      "_model_module": "@jupyter-widgets/controls",
      "_model_module_version": "1.5.0",
      "_model_name": "DescriptionStyleModel",
      "_view_count": null,
      "_view_module": "@jupyter-widgets/base",
      "_view_module_version": "1.2.0",
      "_view_name": "StyleView",
      "description_width": ""
     }
    },
    "56d638bddd534750b06ea6fe6701cb15": {
     "model_module": "@jupyter-widgets/controls",
     "model_module_version": "1.5.0",
     "model_name": "DescriptionStyleModel",
     "state": {
      "_model_module": "@jupyter-widgets/controls",
      "_model_module_version": "1.5.0",
      "_model_name": "DescriptionStyleModel",
      "_view_count": null,
      "_view_module": "@jupyter-widgets/base",
      "_view_module_version": "1.2.0",
      "_view_name": "StyleView",
      "description_width": ""
     }
    },
    "58df47e13b1e48a8863e48d6a12a98b5": {
     "model_module": "@jupyter-widgets/base",
     "model_module_version": "1.2.0",
     "model_name": "LayoutModel",
     "state": {
      "_model_module": "@jupyter-widgets/base",
      "_model_module_version": "1.2.0",
      "_model_name": "LayoutModel",
      "_view_count": null,
      "_view_module": "@jupyter-widgets/base",
      "_view_module_version": "1.2.0",
      "_view_name": "LayoutView",
      "align_content": null,
      "align_items": null,
      "align_self": null,
      "border": null,
      "bottom": null,
      "display": null,
      "flex": null,
      "flex_flow": null,
      "grid_area": null,
      "grid_auto_columns": null,
      "grid_auto_flow": null,
      "grid_auto_rows": null,
      "grid_column": null,
      "grid_gap": null,
      "grid_row": null,
      "grid_template_areas": null,
      "grid_template_columns": null,
      "grid_template_rows": null,
      "height": null,
      "justify_content": null,
      "justify_items": null,
      "left": null,
      "margin": null,
      "max_height": null,
      "max_width": null,
      "min_height": null,
      "min_width": null,
      "object_fit": null,
      "object_position": null,
      "order": null,
      "overflow": null,
      "overflow_x": null,
      "overflow_y": null,
      "padding": null,
      "right": null,
      "top": null,
      "visibility": null,
      "width": null
     }
    },
    "58ed943442364505881079688d1fde0d": {
     "model_module": "@jupyter-widgets/controls",
     "model_module_version": "1.5.0",
     "model_name": "FloatProgressModel",
     "state": {
      "_dom_classes": [],
      "_model_module": "@jupyter-widgets/controls",
      "_model_module_version": "1.5.0",
      "_model_name": "FloatProgressModel",
      "_view_count": null,
      "_view_module": "@jupyter-widgets/controls",
      "_view_module_version": "1.5.0",
      "_view_name": "ProgressView",
      "bar_style": "",
      "description": "",
      "description_tooltip": null,
      "layout": "IPY_MODEL_a1605863309c42169162d60f6c6475b8",
      "max": 7600,
      "min": 0,
      "orientation": "horizontal",
      "style": "IPY_MODEL_5340dd684eed471ba18cb36d477c9f4d",
      "value": 7600
     }
    },
    "596c2a7e529b45a7973496e02b50ee17": {
     "model_module": "@jupyter-widgets/controls",
     "model_module_version": "1.5.0",
     "model_name": "FloatProgressModel",
     "state": {
      "_dom_classes": [],
      "_model_module": "@jupyter-widgets/controls",
      "_model_module_version": "1.5.0",
      "_model_name": "FloatProgressModel",
      "_view_count": null,
      "_view_module": "@jupyter-widgets/controls",
      "_view_module_version": "1.5.0",
      "_view_name": "ProgressView",
      "bar_style": "success",
      "description": "",
      "description_tooltip": null,
      "layout": "IPY_MODEL_dcab6933e7e6483fb37ef3ea4f2f96cb",
      "max": 751209,
      "min": 0,
      "orientation": "horizontal",
      "style": "IPY_MODEL_3018b5e2177b4eb7ba0f562b7db28fe4",
      "value": 751209
     }
    },
    "5b39c3103bf74237a2e03e6fdb7da027": {
     "model_module": "@jupyter-widgets/base",
     "model_module_version": "1.2.0",
     "model_name": "LayoutModel",
     "state": {
      "_model_module": "@jupyter-widgets/base",
      "_model_module_version": "1.2.0",
      "_model_name": "LayoutModel",
      "_view_count": null,
      "_view_module": "@jupyter-widgets/base",
      "_view_module_version": "1.2.0",
      "_view_name": "LayoutView",
      "align_content": null,
      "align_items": null,
      "align_self": null,
      "border": null,
      "bottom": null,
      "display": null,
      "flex": null,
      "flex_flow": null,
      "grid_area": null,
      "grid_auto_columns": null,
      "grid_auto_flow": null,
      "grid_auto_rows": null,
      "grid_column": null,
      "grid_gap": null,
      "grid_row": null,
      "grid_template_areas": null,
      "grid_template_columns": null,
      "grid_template_rows": null,
      "height": null,
      "justify_content": null,
      "justify_items": null,
      "left": null,
      "margin": null,
      "max_height": null,
      "max_width": null,
      "min_height": null,
      "min_width": null,
      "object_fit": null,
      "object_position": null,
      "order": null,
      "overflow": null,
      "overflow_x": null,
      "overflow_y": null,
      "padding": null,
      "right": null,
      "top": null,
      "visibility": null,
      "width": null
     }
    },
    "6280438c65704c3a9603a2402d18c39a": {
     "model_module": "@jupyter-widgets/base",
     "model_module_version": "1.2.0",
     "model_name": "LayoutModel",
     "state": {
      "_model_module": "@jupyter-widgets/base",
      "_model_module_version": "1.2.0",
      "_model_name": "LayoutModel",
      "_view_count": null,
      "_view_module": "@jupyter-widgets/base",
      "_view_module_version": "1.2.0",
      "_view_name": "LayoutView",
      "align_content": null,
      "align_items": null,
      "align_self": null,
      "border": null,
      "bottom": null,
      "display": null,
      "flex": null,
      "flex_flow": null,
      "grid_area": null,
      "grid_auto_columns": null,
      "grid_auto_flow": null,
      "grid_auto_rows": null,
      "grid_column": null,
      "grid_gap": null,
      "grid_row": null,
      "grid_template_areas": null,
      "grid_template_columns": null,
      "grid_template_rows": null,
      "height": null,
      "justify_content": null,
      "justify_items": null,
      "left": null,
      "margin": null,
      "max_height": null,
      "max_width": null,
      "min_height": null,
      "min_width": null,
      "object_fit": null,
      "object_position": null,
      "order": null,
      "overflow": null,
      "overflow_x": null,
      "overflow_y": null,
      "padding": null,
      "right": null,
      "top": null,
      "visibility": null,
      "width": null
     }
    },
    "640d1239e46f4a4d9224259f19408dee": {
     "model_module": "@jupyter-widgets/controls",
     "model_module_version": "1.5.0",
     "model_name": "HBoxModel",
     "state": {
      "_dom_classes": [],
      "_model_module": "@jupyter-widgets/controls",
      "_model_module_version": "1.5.0",
      "_model_name": "HBoxModel",
      "_view_count": null,
      "_view_module": "@jupyter-widgets/controls",
      "_view_module_version": "1.5.0",
      "_view_name": "HBoxView",
      "box_style": "",
      "children": [
       "IPY_MODEL_d635465d15d84b4ea2604e46de5fc957",
       "IPY_MODEL_39e541c8faca418782958233ef684677",
       "IPY_MODEL_0c75bfe839864746be85eae85414c224"
      ],
      "layout": "IPY_MODEL_9e7c10778b7d4d6e89355acfa3a90fa0"
     }
    },
    "6a76b678cb8e49d99b307e505c5baf43": {
     "model_module": "@jupyter-widgets/base",
     "model_module_version": "1.2.0",
     "model_name": "LayoutModel",
     "state": {
      "_model_module": "@jupyter-widgets/base",
      "_model_module_version": "1.2.0",
      "_model_name": "LayoutModel",
      "_view_count": null,
      "_view_module": "@jupyter-widgets/base",
      "_view_module_version": "1.2.0",
      "_view_name": "LayoutView",
      "align_content": null,
      "align_items": null,
      "align_self": null,
      "border": null,
      "bottom": null,
      "display": null,
      "flex": null,
      "flex_flow": null,
      "grid_area": null,
      "grid_auto_columns": null,
      "grid_auto_flow": null,
      "grid_auto_rows": null,
      "grid_column": null,
      "grid_gap": null,
      "grid_row": null,
      "grid_template_areas": null,
      "grid_template_columns": null,
      "grid_template_rows": null,
      "height": null,
      "justify_content": null,
      "justify_items": null,
      "left": null,
      "margin": null,
      "max_height": null,
      "max_width": null,
      "min_height": null,
      "min_width": null,
      "object_fit": null,
      "object_position": null,
      "order": null,
      "overflow": null,
      "overflow_x": null,
      "overflow_y": null,
      "padding": null,
      "right": null,
      "top": null,
      "visibility": null,
      "width": null
     }
    },
    "6c7372f597dc48b2bd71771c13fbe1ca": {
     "model_module": "@jupyter-widgets/base",
     "model_module_version": "1.2.0",
     "model_name": "LayoutModel",
     "state": {
      "_model_module": "@jupyter-widgets/base",
      "_model_module_version": "1.2.0",
      "_model_name": "LayoutModel",
      "_view_count": null,
      "_view_module": "@jupyter-widgets/base",
      "_view_module_version": "1.2.0",
      "_view_name": "LayoutView",
      "align_content": null,
      "align_items": null,
      "align_self": null,
      "border": null,
      "bottom": null,
      "display": null,
      "flex": null,
      "flex_flow": null,
      "grid_area": null,
      "grid_auto_columns": null,
      "grid_auto_flow": null,
      "grid_auto_rows": null,
      "grid_column": null,
      "grid_gap": null,
      "grid_row": null,
      "grid_template_areas": null,
      "grid_template_columns": null,
      "grid_template_rows": null,
      "height": null,
      "justify_content": null,
      "justify_items": null,
      "left": null,
      "margin": null,
      "max_height": null,
      "max_width": null,
      "min_height": null,
      "min_width": null,
      "object_fit": null,
      "object_position": null,
      "order": null,
      "overflow": null,
      "overflow_x": null,
      "overflow_y": null,
      "padding": null,
      "right": null,
      "top": null,
      "visibility": null,
      "width": null
     }
    },
    "7358823ad0d1474cae97638aebeb835f": {
     "model_module": "@jupyter-widgets/base",
     "model_module_version": "1.2.0",
     "model_name": "LayoutModel",
     "state": {
      "_model_module": "@jupyter-widgets/base",
      "_model_module_version": "1.2.0",
      "_model_name": "LayoutModel",
      "_view_count": null,
      "_view_module": "@jupyter-widgets/base",
      "_view_module_version": "1.2.0",
      "_view_name": "LayoutView",
      "align_content": null,
      "align_items": null,
      "align_self": null,
      "border": null,
      "bottom": null,
      "display": null,
      "flex": null,
      "flex_flow": null,
      "grid_area": null,
      "grid_auto_columns": null,
      "grid_auto_flow": null,
      "grid_auto_rows": null,
      "grid_column": null,
      "grid_gap": null,
      "grid_row": null,
      "grid_template_areas": null,
      "grid_template_columns": null,
      "grid_template_rows": null,
      "height": null,
      "justify_content": null,
      "justify_items": null,
      "left": null,
      "margin": null,
      "max_height": null,
      "max_width": null,
      "min_height": null,
      "min_width": null,
      "object_fit": null,
      "object_position": null,
      "order": null,
      "overflow": null,
      "overflow_x": null,
      "overflow_y": null,
      "padding": null,
      "right": null,
      "top": null,
      "visibility": null,
      "width": null
     }
    },
    "7caa28a01d5541e98ca6d2bd0c3f0a4c": {
     "model_module": "@jupyter-widgets/controls",
     "model_module_version": "1.5.0",
     "model_name": "HTMLModel",
     "state": {
      "_dom_classes": [],
      "_model_module": "@jupyter-widgets/controls",
      "_model_module_version": "1.5.0",
      "_model_name": "HTMLModel",
      "_view_count": null,
      "_view_module": "@jupyter-widgets/controls",
      "_view_module_version": "1.5.0",
      "_view_name": "HTMLView",
      "description": "",
      "description_tooltip": null,
      "layout": "IPY_MODEL_196e3535fb3b4ede9c86fe2c79009322",
      "placeholder": "​",
      "style": "IPY_MODEL_e2cbb1d5b4e1497e804bf00332a14743",
      "value": " 7.95k/7.95k [00:00&lt;00:00, 220kB/s]"
     }
    },
    "81311bdb923b4eca97431b56195acd58": {
     "model_module": "@jupyter-widgets/controls",
     "model_module_version": "1.5.0",
     "model_name": "DescriptionStyleModel",
     "state": {
      "_model_module": "@jupyter-widgets/controls",
      "_model_module_version": "1.5.0",
      "_model_name": "DescriptionStyleModel",
      "_view_count": null,
      "_view_module": "@jupyter-widgets/base",
      "_view_module_version": "1.2.0",
      "_view_name": "StyleView",
      "description_width": ""
     }
    },
    "8136ea38174b46fe99d4549e396adbaf": {
     "model_module": "@jupyter-widgets/controls",
     "model_module_version": "1.5.0",
     "model_name": "HTMLModel",
     "state": {
      "_dom_classes": [],
      "_model_module": "@jupyter-widgets/controls",
      "_model_module_version": "1.5.0",
      "_model_name": "HTMLModel",
      "_view_count": null,
      "_view_module": "@jupyter-widgets/controls",
      "_view_module_version": "1.5.0",
      "_view_name": "HTMLView",
      "description": "",
      "description_tooltip": null,
      "layout": "IPY_MODEL_5494c2f8716a4da0a846bfad0e25b425",
      "placeholder": "​",
      "style": "IPY_MODEL_f5d44bab5deb4be18b828d9c78feb5da",
      "value": "Downloading data: "
     }
    },
    "87447d7825574c6f8ab503b1b534d506": {
     "model_module": "@jupyter-widgets/base",
     "model_module_version": "1.2.0",
     "model_name": "LayoutModel",
     "state": {
      "_model_module": "@jupyter-widgets/base",
      "_model_module_version": "1.2.0",
      "_model_name": "LayoutModel",
      "_view_count": null,
      "_view_module": "@jupyter-widgets/base",
      "_view_module_version": "1.2.0",
      "_view_name": "LayoutView",
      "align_content": null,
      "align_items": null,
      "align_self": null,
      "border": null,
      "bottom": null,
      "display": null,
      "flex": null,
      "flex_flow": null,
      "grid_area": null,
      "grid_auto_columns": null,
      "grid_auto_flow": null,
      "grid_auto_rows": null,
      "grid_column": null,
      "grid_gap": null,
      "grid_row": null,
      "grid_template_areas": null,
      "grid_template_columns": null,
      "grid_template_rows": null,
      "height": null,
      "justify_content": null,
      "justify_items": null,
      "left": null,
      "margin": null,
      "max_height": null,
      "max_width": null,
      "min_height": null,
      "min_width": null,
      "object_fit": null,
      "object_position": null,
      "order": null,
      "overflow": null,
      "overflow_x": null,
      "overflow_y": null,
      "padding": null,
      "right": null,
      "top": null,
      "visibility": null,
      "width": null
     }
    },
    "88bf756ae2ef454da07e153e26d6b272": {
     "model_module": "@jupyter-widgets/controls",
     "model_module_version": "1.5.0",
     "model_name": "FloatProgressModel",
     "state": {
      "_dom_classes": [],
      "_model_module": "@jupyter-widgets/controls",
      "_model_module_version": "1.5.0",
      "_model_name": "FloatProgressModel",
      "_view_count": null,
      "_view_module": "@jupyter-widgets/controls",
      "_view_module_version": "1.5.0",
      "_view_name": "ProgressView",
      "bar_style": "",
      "description": "",
      "description_tooltip": null,
      "layout": "IPY_MODEL_6c7372f597dc48b2bd71771c13fbe1ca",
      "max": 120000,
      "min": 0,
      "orientation": "horizontal",
      "style": "IPY_MODEL_e7a723bfbede426a9c9184ed02ff2574",
      "value": 120000
     }
    },
    "8cde1d20ba3e45a08490e769ddd51bb4": {
     "model_module": "@jupyter-widgets/controls",
     "model_module_version": "1.5.0",
     "model_name": "ProgressStyleModel",
     "state": {
      "_model_module": "@jupyter-widgets/controls",
      "_model_module_version": "1.5.0",
      "_model_name": "ProgressStyleModel",
      "_view_count": null,
      "_view_module": "@jupyter-widgets/base",
      "_view_module_version": "1.2.0",
      "_view_name": "StyleView",
      "bar_color": null,
      "description_width": ""
     }
    },
    "903b7cdb57de41459650c226b5629d05": {
     "model_module": "@jupyter-widgets/controls",
     "model_module_version": "1.5.0",
     "model_name": "ProgressStyleModel",
     "state": {
      "_model_module": "@jupyter-widgets/controls",
      "_model_module_version": "1.5.0",
      "_model_name": "ProgressStyleModel",
      "_view_count": null,
      "_view_module": "@jupyter-widgets/base",
      "_view_module_version": "1.2.0",
      "_view_name": "StyleView",
      "bar_color": null,
      "description_width": ""
     }
    },
    "93b7be412ced4982a8d7901c40e8c64d": {
     "model_module": "@jupyter-widgets/controls",
     "model_module_version": "1.5.0",
     "model_name": "ProgressStyleModel",
     "state": {
      "_model_module": "@jupyter-widgets/controls",
      "_model_module_version": "1.5.0",
      "_model_name": "ProgressStyleModel",
      "_view_count": null,
      "_view_module": "@jupyter-widgets/base",
      "_view_module_version": "1.2.0",
      "_view_name": "StyleView",
      "bar_color": null,
      "description_width": ""
     }
    },
    "94b4879a5a644dbeaa3ec1e5af2b1744": {
     "model_module": "@jupyter-widgets/controls",
     "model_module_version": "1.5.0",
     "model_name": "HTMLModel",
     "state": {
      "_dom_classes": [],
      "_model_module": "@jupyter-widgets/controls",
      "_model_module_version": "1.5.0",
      "_model_name": "HTMLModel",
      "_view_count": null,
      "_view_module": "@jupyter-widgets/controls",
      "_view_module_version": "1.5.0",
      "_view_name": "HTMLView",
      "description": "",
      "description_tooltip": null,
      "layout": "IPY_MODEL_6280438c65704c3a9603a2402d18c39a",
      "placeholder": "​",
      "style": "IPY_MODEL_fe99814191c14edea16dc733737441a5",
      "value": " 120000/120000 [00:25&lt;00:00, 5144.12it/s]"
     }
    },
    "95572bae4c6f4d85b85202d04b4271a3": {
     "model_module": "@jupyter-widgets/base",
     "model_module_version": "1.2.0",
     "model_name": "LayoutModel",
     "state": {
      "_model_module": "@jupyter-widgets/base",
      "_model_module_version": "1.2.0",
      "_model_name": "LayoutModel",
      "_view_count": null,
      "_view_module": "@jupyter-widgets/base",
      "_view_module_version": "1.2.0",
      "_view_name": "LayoutView",
      "align_content": null,
      "align_items": null,
      "align_self": null,
      "border": null,
      "bottom": null,
      "display": null,
      "flex": null,
      "flex_flow": null,
      "grid_area": null,
      "grid_auto_columns": null,
      "grid_auto_flow": null,
      "grid_auto_rows": null,
      "grid_column": null,
      "grid_gap": null,
      "grid_row": null,
      "grid_template_areas": null,
      "grid_template_columns": null,
      "grid_template_rows": null,
      "height": null,
      "justify_content": null,
      "justify_items": null,
      "left": null,
      "margin": null,
      "max_height": null,
      "max_width": null,
      "min_height": null,
      "min_width": null,
      "object_fit": null,
      "object_position": null,
      "order": null,
      "overflow": null,
      "overflow_x": null,
      "overflow_y": null,
      "padding": null,
      "right": null,
      "top": null,
      "visibility": null,
      "width": null
     }
    },
    "96f4ff5cfc7b40e995a6c8ecd3546f6b": {
     "model_module": "@jupyter-widgets/controls",
     "model_module_version": "1.5.0",
     "model_name": "HTMLModel",
     "state": {
      "_dom_classes": [],
      "_model_module": "@jupyter-widgets/controls",
      "_model_module_version": "1.5.0",
      "_model_name": "HTMLModel",
      "_view_count": null,
      "_view_module": "@jupyter-widgets/controls",
      "_view_module_version": "1.5.0",
      "_view_name": "HTMLView",
      "description": "",
      "description_tooltip": null,
      "layout": "IPY_MODEL_b3ba7361fe3b46e3a208bf6416131f28",
      "placeholder": "​",
      "style": "IPY_MODEL_feac1851ed644eeb98fb9ac9aadd7f41",
      "value": "Downloading data: "
     }
    },
    "991528abe6eb42e29b4303bd72ecbb9c": {
     "model_module": "@jupyter-widgets/controls",
     "model_module_version": "1.5.0",
     "model_name": "DescriptionStyleModel",
     "state": {
      "_model_module": "@jupyter-widgets/controls",
      "_model_module_version": "1.5.0",
      "_model_name": "DescriptionStyleModel",
      "_view_count": null,
      "_view_module": "@jupyter-widgets/base",
      "_view_module_version": "1.2.0",
      "_view_name": "StyleView",
      "description_width": ""
     }
    },
    "99b28ecd95564dbc99ef588f42ae1dd2": {
     "model_module": "@jupyter-widgets/base",
     "model_module_version": "1.2.0",
     "model_name": "LayoutModel",
     "state": {
      "_model_module": "@jupyter-widgets/base",
      "_model_module_version": "1.2.0",
      "_model_name": "LayoutModel",
      "_view_count": null,
      "_view_module": "@jupyter-widgets/base",
      "_view_module_version": "1.2.0",
      "_view_name": "LayoutView",
      "align_content": null,
      "align_items": null,
      "align_self": null,
      "border": null,
      "bottom": null,
      "display": null,
      "flex": null,
      "flex_flow": null,
      "grid_area": null,
      "grid_auto_columns": null,
      "grid_auto_flow": null,
      "grid_auto_rows": null,
      "grid_column": null,
      "grid_gap": null,
      "grid_row": null,
      "grid_template_areas": null,
      "grid_template_columns": null,
      "grid_template_rows": null,
      "height": null,
      "justify_content": null,
      "justify_items": null,
      "left": null,
      "margin": null,
      "max_height": null,
      "max_width": null,
      "min_height": null,
      "min_width": null,
      "object_fit": null,
      "object_position": null,
      "order": null,
      "overflow": null,
      "overflow_x": null,
      "overflow_y": null,
      "padding": null,
      "right": null,
      "top": null,
      "visibility": null,
      "width": null
     }
    },
    "9e2a2ae4fcb54b5ca9f2d714b10061a6": {
     "model_module": "@jupyter-widgets/base",
     "model_module_version": "1.2.0",
     "model_name": "LayoutModel",
     "state": {
      "_model_module": "@jupyter-widgets/base",
      "_model_module_version": "1.2.0",
      "_model_name": "LayoutModel",
      "_view_count": null,
      "_view_module": "@jupyter-widgets/base",
      "_view_module_version": "1.2.0",
      "_view_name": "LayoutView",
      "align_content": null,
      "align_items": null,
      "align_self": null,
      "border": null,
      "bottom": null,
      "display": null,
      "flex": null,
      "flex_flow": null,
      "grid_area": null,
      "grid_auto_columns": null,
      "grid_auto_flow": null,
      "grid_auto_rows": null,
      "grid_column": null,
      "grid_gap": null,
      "grid_row": null,
      "grid_template_areas": null,
      "grid_template_columns": null,
      "grid_template_rows": null,
      "height": null,
      "justify_content": null,
      "justify_items": null,
      "left": null,
      "margin": null,
      "max_height": null,
      "max_width": null,
      "min_height": null,
      "min_width": null,
      "object_fit": null,
      "object_position": null,
      "order": null,
      "overflow": null,
      "overflow_x": null,
      "overflow_y": null,
      "padding": null,
      "right": null,
      "top": null,
      "visibility": null,
      "width": null
     }
    },
    "9e7c10778b7d4d6e89355acfa3a90fa0": {
     "model_module": "@jupyter-widgets/base",
     "model_module_version": "1.2.0",
     "model_name": "LayoutModel",
     "state": {
      "_model_module": "@jupyter-widgets/base",
      "_model_module_version": "1.2.0",
      "_model_name": "LayoutModel",
      "_view_count": null,
      "_view_module": "@jupyter-widgets/base",
      "_view_module_version": "1.2.0",
      "_view_name": "LayoutView",
      "align_content": null,
      "align_items": null,
      "align_self": null,
      "border": null,
      "bottom": null,
      "display": null,
      "flex": null,
      "flex_flow": null,
      "grid_area": null,
      "grid_auto_columns": null,
      "grid_auto_flow": null,
      "grid_auto_rows": null,
      "grid_column": null,
      "grid_gap": null,
      "grid_row": null,
      "grid_template_areas": null,
      "grid_template_columns": null,
      "grid_template_rows": null,
      "height": null,
      "justify_content": null,
      "justify_items": null,
      "left": null,
      "margin": null,
      "max_height": null,
      "max_width": null,
      "min_height": null,
      "min_width": null,
      "object_fit": null,
      "object_position": null,
      "order": null,
      "overflow": null,
      "overflow_x": null,
      "overflow_y": null,
      "padding": null,
      "right": null,
      "top": null,
      "visibility": null,
      "width": null
     }
    },
    "9fbc7d78c453476c8a6ace8a267aa6f3": {
     "model_module": "@jupyter-widgets/controls",
     "model_module_version": "1.5.0",
     "model_name": "HTMLModel",
     "state": {
      "_dom_classes": [],
      "_model_module": "@jupyter-widgets/controls",
      "_model_module_version": "1.5.0",
      "_model_name": "HTMLModel",
      "_view_count": null,
      "_view_module": "@jupyter-widgets/controls",
      "_view_module_version": "1.5.0",
      "_view_name": "HTMLView",
      "description": "",
      "description_tooltip": null,
      "layout": "IPY_MODEL_cb8cdb1fcd394e79be9fcfb5708fee31",
      "placeholder": "​",
      "style": "IPY_MODEL_55b7456ea0be447a8b87f75226163726",
      "value": "Generating train split: 100%"
     }
    },
    "a1605863309c42169162d60f6c6475b8": {
     "model_module": "@jupyter-widgets/base",
     "model_module_version": "1.2.0",
     "model_name": "LayoutModel",
     "state": {
      "_model_module": "@jupyter-widgets/base",
      "_model_module_version": "1.2.0",
      "_model_name": "LayoutModel",
      "_view_count": null,
      "_view_module": "@jupyter-widgets/base",
      "_view_module_version": "1.2.0",
      "_view_name": "LayoutView",
      "align_content": null,
      "align_items": null,
      "align_self": null,
      "border": null,
      "bottom": null,
      "display": null,
      "flex": null,
      "flex_flow": null,
      "grid_area": null,
      "grid_auto_columns": null,
      "grid_auto_flow": null,
      "grid_auto_rows": null,
      "grid_column": null,
      "grid_gap": null,
      "grid_row": null,
      "grid_template_areas": null,
      "grid_template_columns": null,
      "grid_template_rows": null,
      "height": null,
      "justify_content": null,
      "justify_items": null,
      "left": null,
      "margin": null,
      "max_height": null,
      "max_width": null,
      "min_height": null,
      "min_width": null,
      "object_fit": null,
      "object_position": null,
      "order": null,
      "overflow": null,
      "overflow_x": null,
      "overflow_y": null,
      "padding": null,
      "right": null,
      "top": null,
      "visibility": null,
      "width": null
     }
    },
    "a1f665b2995b4d62a2881de651810d44": {
     "model_module": "@jupyter-widgets/controls",
     "model_module_version": "1.5.0",
     "model_name": "DescriptionStyleModel",
     "state": {
      "_model_module": "@jupyter-widgets/controls",
      "_model_module_version": "1.5.0",
      "_model_name": "DescriptionStyleModel",
      "_view_count": null,
      "_view_module": "@jupyter-widgets/base",
      "_view_module_version": "1.2.0",
      "_view_name": "StyleView",
      "description_width": ""
     }
    },
    "a2422c15e5ba42bf87eb6fdcd0604ec1": {
     "model_module": "@jupyter-widgets/controls",
     "model_module_version": "1.5.0",
     "model_name": "HBoxModel",
     "state": {
      "_dom_classes": [],
      "_model_module": "@jupyter-widgets/controls",
      "_model_module_version": "1.5.0",
      "_model_name": "HBoxModel",
      "_view_count": null,
      "_view_module": "@jupyter-widgets/controls",
      "_view_module_version": "1.5.0",
      "_view_name": "HBoxView",
      "box_style": "",
      "children": [
       "IPY_MODEL_96f4ff5cfc7b40e995a6c8ecd3546f6b",
       "IPY_MODEL_bc6ee58abaa643cd9643064537784d64",
       "IPY_MODEL_df0ff75a6c5a474295564794954addc4"
      ],
      "layout": "IPY_MODEL_540219b4cc9b4ace9c70feb8a8146480"
     }
    },
    "a3a2891c78654d639a25ff7522357b26": {
     "model_module": "@jupyter-widgets/controls",
     "model_module_version": "1.5.0",
     "model_name": "FloatProgressModel",
     "state": {
      "_dom_classes": [],
      "_model_module": "@jupyter-widgets/controls",
      "_model_module_version": "1.5.0",
      "_model_name": "FloatProgressModel",
      "_view_count": null,
      "_view_module": "@jupyter-widgets/controls",
      "_view_module_version": "1.5.0",
      "_view_name": "ProgressView",
      "bar_style": "success",
      "description": "",
      "description_tooltip": null,
      "layout": "IPY_MODEL_ca007860138646589925567fa12ee1f9",
      "max": 7946,
      "min": 0,
      "orientation": "horizontal",
      "style": "IPY_MODEL_903b7cdb57de41459650c226b5629d05",
      "value": 7946
     }
    },
    "a3fb5f712cdf4d3da74af03d24622ada": {
     "model_module": "@jupyter-widgets/controls",
     "model_module_version": "1.5.0",
     "model_name": "DescriptionStyleModel",
     "state": {
      "_model_module": "@jupyter-widgets/controls",
      "_model_module_version": "1.5.0",
      "_model_name": "DescriptionStyleModel",
      "_view_count": null,
      "_view_module": "@jupyter-widgets/base",
      "_view_module_version": "1.2.0",
      "_view_name": "StyleView",
      "description_width": ""
     }
    },
    "a6b4481c94ad4af181ff0934ee7fca92": {
     "model_module": "@jupyter-widgets/controls",
     "model_module_version": "1.5.0",
     "model_name": "DescriptionStyleModel",
     "state": {
      "_model_module": "@jupyter-widgets/controls",
      "_model_module_version": "1.5.0",
      "_model_name": "DescriptionStyleModel",
      "_view_count": null,
      "_view_module": "@jupyter-widgets/base",
      "_view_module_version": "1.2.0",
      "_view_name": "StyleView",
      "description_width": ""
     }
    },
    "a93760269c044501aa63f3af2524210e": {
     "model_module": "@jupyter-widgets/base",
     "model_module_version": "1.2.0",
     "model_name": "LayoutModel",
     "state": {
      "_model_module": "@jupyter-widgets/base",
      "_model_module_version": "1.2.0",
      "_model_name": "LayoutModel",
      "_view_count": null,
      "_view_module": "@jupyter-widgets/base",
      "_view_module_version": "1.2.0",
      "_view_name": "LayoutView",
      "align_content": null,
      "align_items": null,
      "align_self": null,
      "border": null,
      "bottom": null,
      "display": null,
      "flex": null,
      "flex_flow": null,
      "grid_area": null,
      "grid_auto_columns": null,
      "grid_auto_flow": null,
      "grid_auto_rows": null,
      "grid_column": null,
      "grid_gap": null,
      "grid_row": null,
      "grid_template_areas": null,
      "grid_template_columns": null,
      "grid_template_rows": null,
      "height": null,
      "justify_content": null,
      "justify_items": null,
      "left": null,
      "margin": null,
      "max_height": null,
      "max_width": null,
      "min_height": null,
      "min_width": null,
      "object_fit": null,
      "object_position": null,
      "order": null,
      "overflow": null,
      "overflow_x": null,
      "overflow_y": null,
      "padding": null,
      "right": null,
      "top": null,
      "visibility": null,
      "width": null
     }
    },
    "aefc7fff46e6439fae50d2ac508d78e3": {
     "model_module": "@jupyter-widgets/base",
     "model_module_version": "1.2.0",
     "model_name": "LayoutModel",
     "state": {
      "_model_module": "@jupyter-widgets/base",
      "_model_module_version": "1.2.0",
      "_model_name": "LayoutModel",
      "_view_count": null,
      "_view_module": "@jupyter-widgets/base",
      "_view_module_version": "1.2.0",
      "_view_name": "LayoutView",
      "align_content": null,
      "align_items": null,
      "align_self": null,
      "border": null,
      "bottom": null,
      "display": null,
      "flex": null,
      "flex_flow": null,
      "grid_area": null,
      "grid_auto_columns": null,
      "grid_auto_flow": null,
      "grid_auto_rows": null,
      "grid_column": null,
      "grid_gap": null,
      "grid_row": null,
      "grid_template_areas": null,
      "grid_template_columns": null,
      "grid_template_rows": null,
      "height": null,
      "justify_content": null,
      "justify_items": null,
      "left": null,
      "margin": null,
      "max_height": null,
      "max_width": null,
      "min_height": null,
      "min_width": null,
      "object_fit": null,
      "object_position": null,
      "order": null,
      "overflow": null,
      "overflow_x": null,
      "overflow_y": null,
      "padding": null,
      "right": null,
      "top": null,
      "visibility": null,
      "width": null
     }
    },
    "b3ba7361fe3b46e3a208bf6416131f28": {
     "model_module": "@jupyter-widgets/base",
     "model_module_version": "1.2.0",
     "model_name": "LayoutModel",
     "state": {
      "_model_module": "@jupyter-widgets/base",
      "_model_module_version": "1.2.0",
      "_model_name": "LayoutModel",
      "_view_count": null,
      "_view_module": "@jupyter-widgets/base",
      "_view_module_version": "1.2.0",
      "_view_name": "LayoutView",
      "align_content": null,
      "align_items": null,
      "align_self": null,
      "border": null,
      "bottom": null,
      "display": null,
      "flex": null,
      "flex_flow": null,
      "grid_area": null,
      "grid_auto_columns": null,
      "grid_auto_flow": null,
      "grid_auto_rows": null,
      "grid_column": null,
      "grid_gap": null,
      "grid_row": null,
      "grid_template_areas": null,
      "grid_template_columns": null,
      "grid_template_rows": null,
      "height": null,
      "justify_content": null,
      "justify_items": null,
      "left": null,
      "margin": null,
      "max_height": null,
      "max_width": null,
      "min_height": null,
      "min_width": null,
      "object_fit": null,
      "object_position": null,
      "order": null,
      "overflow": null,
      "overflow_x": null,
      "overflow_y": null,
      "padding": null,
      "right": null,
      "top": null,
      "visibility": null,
      "width": null
     }
    },
    "bc1cab86f2d6492cb79c21c25206955e": {
     "model_module": "@jupyter-widgets/controls",
     "model_module_version": "1.5.0",
     "model_name": "DescriptionStyleModel",
     "state": {
      "_model_module": "@jupyter-widgets/controls",
      "_model_module_version": "1.5.0",
      "_model_name": "DescriptionStyleModel",
      "_view_count": null,
      "_view_module": "@jupyter-widgets/base",
      "_view_module_version": "1.2.0",
      "_view_name": "StyleView",
      "description_width": ""
     }
    },
    "bc6ee58abaa643cd9643064537784d64": {
     "model_module": "@jupyter-widgets/controls",
     "model_module_version": "1.5.0",
     "model_name": "FloatProgressModel",
     "state": {
      "_dom_classes": [],
      "_model_module": "@jupyter-widgets/controls",
      "_model_module_version": "1.5.0",
      "_model_name": "FloatProgressModel",
      "_view_count": null,
      "_view_module": "@jupyter-widgets/controls",
      "_view_module_version": "1.5.0",
      "_view_name": "ProgressView",
      "bar_style": "success",
      "description": "",
      "description_tooltip": null,
      "layout": "IPY_MODEL_ccf9677bca0141dba7ba27dde42276e1",
      "max": 11045148,
      "min": 0,
      "orientation": "horizontal",
      "style": "IPY_MODEL_0401a08736004c4cafe05feae921849f",
      "value": 11045148
     }
    },
    "bd82244ccbd842539464a9168a897f1c": {
     "model_module": "@jupyter-widgets/controls",
     "model_module_version": "1.5.0",
     "model_name": "FloatProgressModel",
     "state": {
      "_dom_classes": [],
      "_model_module": "@jupyter-widgets/controls",
      "_model_module_version": "1.5.0",
      "_model_name": "FloatProgressModel",
      "_view_count": null,
      "_view_module": "@jupyter-widgets/controls",
      "_view_module_version": "1.5.0",
      "_view_name": "ProgressView",
      "bar_style": "success",
      "description": "",
      "description_tooltip": null,
      "layout": "IPY_MODEL_7358823ad0d1474cae97638aebeb835f",
      "max": 120000,
      "min": 0,
      "orientation": "horizontal",
      "style": "IPY_MODEL_f53391ef64574c76bd18add79c0fa4bf",
      "value": 120000
     }
    },
    "c0894fc6901f475382628d4868062558": {
     "model_module": "@jupyter-widgets/controls",
     "model_module_version": "1.5.0",
     "model_name": "DescriptionStyleModel",
     "state": {
      "_model_module": "@jupyter-widgets/controls",
      "_model_module_version": "1.5.0",
      "_model_name": "DescriptionStyleModel",
      "_view_count": null,
      "_view_module": "@jupyter-widgets/base",
      "_view_module_version": "1.2.0",
      "_view_name": "StyleView",
      "description_width": ""
     }
    },
    "c4c47a154f2d40deaddc48a393ca4526": {
     "model_module": "@jupyter-widgets/controls",
     "model_module_version": "1.5.0",
     "model_name": "DescriptionStyleModel",
     "state": {
      "_model_module": "@jupyter-widgets/controls",
      "_model_module_version": "1.5.0",
      "_model_name": "DescriptionStyleModel",
      "_view_count": null,
      "_view_module": "@jupyter-widgets/base",
      "_view_module_version": "1.2.0",
      "_view_name": "StyleView",
      "description_width": ""
     }
    },
    "c9ce26882ff34d61b1817915058152f1": {
     "model_module": "@jupyter-widgets/controls",
     "model_module_version": "1.5.0",
     "model_name": "HTMLModel",
     "state": {
      "_dom_classes": [],
      "_model_module": "@jupyter-widgets/controls",
      "_model_module_version": "1.5.0",
      "_model_name": "HTMLModel",
      "_view_count": null,
      "_view_module": "@jupyter-widgets/controls",
      "_view_module_version": "1.5.0",
      "_view_name": "HTMLView",
      "description": "",
      "description_tooltip": null,
      "layout": "IPY_MODEL_6a76b678cb8e49d99b307e505c5baf43",
      "placeholder": "​",
      "style": "IPY_MODEL_991528abe6eb42e29b4303bd72ecbb9c",
      "value": "Downloading metadata: 100%"
     }
    },
    "ca007860138646589925567fa12ee1f9": {
     "model_module": "@jupyter-widgets/base",
     "model_module_version": "1.2.0",
     "model_name": "LayoutModel",
     "state": {
      "_model_module": "@jupyter-widgets/base",
      "_model_module_version": "1.2.0",
      "_model_name": "LayoutModel",
      "_view_count": null,
      "_view_module": "@jupyter-widgets/base",
      "_view_module_version": "1.2.0",
      "_view_name": "LayoutView",
      "align_content": null,
      "align_items": null,
      "align_self": null,
      "border": null,
      "bottom": null,
      "display": null,
      "flex": null,
      "flex_flow": null,
      "grid_area": null,
      "grid_auto_columns": null,
      "grid_auto_flow": null,
      "grid_auto_rows": null,
      "grid_column": null,
      "grid_gap": null,
      "grid_row": null,
      "grid_template_areas": null,
      "grid_template_columns": null,
      "grid_template_rows": null,
      "height": null,
      "justify_content": null,
      "justify_items": null,
      "left": null,
      "margin": null,
      "max_height": null,
      "max_width": null,
      "min_height": null,
      "min_width": null,
      "object_fit": null,
      "object_position": null,
      "order": null,
      "overflow": null,
      "overflow_x": null,
      "overflow_y": null,
      "padding": null,
      "right": null,
      "top": null,
      "visibility": null,
      "width": null
     }
    },
    "cb8cdb1fcd394e79be9fcfb5708fee31": {
     "model_module": "@jupyter-widgets/base",
     "model_module_version": "1.2.0",
     "model_name": "LayoutModel",
     "state": {
      "_model_module": "@jupyter-widgets/base",
      "_model_module_version": "1.2.0",
      "_model_name": "LayoutModel",
      "_view_count": null,
      "_view_module": "@jupyter-widgets/base",
      "_view_module_version": "1.2.0",
      "_view_name": "LayoutView",
      "align_content": null,
      "align_items": null,
      "align_self": null,
      "border": null,
      "bottom": null,
      "display": null,
      "flex": null,
      "flex_flow": null,
      "grid_area": null,
      "grid_auto_columns": null,
      "grid_auto_flow": null,
      "grid_auto_rows": null,
      "grid_column": null,
      "grid_gap": null,
      "grid_row": null,
      "grid_template_areas": null,
      "grid_template_columns": null,
      "grid_template_rows": null,
      "height": null,
      "justify_content": null,
      "justify_items": null,
      "left": null,
      "margin": null,
      "max_height": null,
      "max_width": null,
      "min_height": null,
      "min_width": null,
      "object_fit": null,
      "object_position": null,
      "order": null,
      "overflow": null,
      "overflow_x": null,
      "overflow_y": null,
      "padding": null,
      "right": null,
      "top": null,
      "visibility": null,
      "width": null
     }
    },
    "ccf9677bca0141dba7ba27dde42276e1": {
     "model_module": "@jupyter-widgets/base",
     "model_module_version": "1.2.0",
     "model_name": "LayoutModel",
     "state": {
      "_model_module": "@jupyter-widgets/base",
      "_model_module_version": "1.2.0",
      "_model_name": "LayoutModel",
      "_view_count": null,
      "_view_module": "@jupyter-widgets/base",
      "_view_module_version": "1.2.0",
      "_view_name": "LayoutView",
      "align_content": null,
      "align_items": null,
      "align_self": null,
      "border": null,
      "bottom": null,
      "display": null,
      "flex": null,
      "flex_flow": null,
      "grid_area": null,
      "grid_auto_columns": null,
      "grid_auto_flow": null,
      "grid_auto_rows": null,
      "grid_column": null,
      "grid_gap": null,
      "grid_row": null,
      "grid_template_areas": null,
      "grid_template_columns": null,
      "grid_template_rows": null,
      "height": null,
      "justify_content": null,
      "justify_items": null,
      "left": null,
      "margin": null,
      "max_height": null,
      "max_width": null,
      "min_height": null,
      "min_width": null,
      "object_fit": null,
      "object_position": null,
      "order": null,
      "overflow": null,
      "overflow_x": null,
      "overflow_y": null,
      "padding": null,
      "right": null,
      "top": null,
      "visibility": null,
      "width": null
     }
    },
    "d635465d15d84b4ea2604e46de5fc957": {
     "model_module": "@jupyter-widgets/controls",
     "model_module_version": "1.5.0",
     "model_name": "HTMLModel",
     "state": {
      "_dom_classes": [],
      "_model_module": "@jupyter-widgets/controls",
      "_model_module_version": "1.5.0",
      "_model_name": "HTMLModel",
      "_view_count": null,
      "_view_module": "@jupyter-widgets/controls",
      "_view_module_version": "1.5.0",
      "_view_name": "HTMLView",
      "description": "",
      "description_tooltip": null,
      "layout": "IPY_MODEL_50565855965a4fc08310e2b7d8d65fd0",
      "placeholder": "​",
      "style": "IPY_MODEL_4b8e4f5ccb3346fdb8a8e56baf8a7f49",
      "value": "100%"
     }
    },
    "d76f8b4fbb004812b2bdc3f614cdc307": {
     "model_module": "@jupyter-widgets/controls",
     "model_module_version": "1.5.0",
     "model_name": "HBoxModel",
     "state": {
      "_dom_classes": [],
      "_model_module": "@jupyter-widgets/controls",
      "_model_module_version": "1.5.0",
      "_model_name": "HBoxModel",
      "_view_count": null,
      "_view_module": "@jupyter-widgets/controls",
      "_view_module_version": "1.5.0",
      "_view_name": "HBoxView",
      "box_style": "",
      "children": [
       "IPY_MODEL_e684e9dab3dc4a04b4fac5cab926f8fe",
       "IPY_MODEL_a3a2891c78654d639a25ff7522357b26",
       "IPY_MODEL_7caa28a01d5541e98ca6d2bd0c3f0a4c"
      ],
      "layout": "IPY_MODEL_f5a54984249a47dd8ac113ce96ddbb71"
     }
    },
    "dc1d3746c5cf4817b8e80bf92ad02d71": {
     "model_module": "@jupyter-widgets/base",
     "model_module_version": "1.2.0",
     "model_name": "LayoutModel",
     "state": {
      "_model_module": "@jupyter-widgets/base",
      "_model_module_version": "1.2.0",
      "_model_name": "LayoutModel",
      "_view_count": null,
      "_view_module": "@jupyter-widgets/base",
      "_view_module_version": "1.2.0",
      "_view_name": "LayoutView",
      "align_content": null,
      "align_items": null,
      "align_self": null,
      "border": null,
      "bottom": null,
      "display": null,
      "flex": null,
      "flex_flow": null,
      "grid_area": null,
      "grid_auto_columns": null,
      "grid_auto_flow": null,
      "grid_auto_rows": null,
      "grid_column": null,
      "grid_gap": null,
      "grid_row": null,
      "grid_template_areas": null,
      "grid_template_columns": null,
      "grid_template_rows": null,
      "height": null,
      "justify_content": null,
      "justify_items": null,
      "left": null,
      "margin": null,
      "max_height": null,
      "max_width": null,
      "min_height": null,
      "min_width": null,
      "object_fit": null,
      "object_position": null,
      "order": null,
      "overflow": null,
      "overflow_x": null,
      "overflow_y": null,
      "padding": null,
      "right": null,
      "top": null,
      "visibility": null,
      "width": null
     }
    },
    "dc7219cdf164455e9172bc134d89d35a": {
     "model_module": "@jupyter-widgets/controls",
     "model_module_version": "1.5.0",
     "model_name": "HTMLModel",
     "state": {
      "_dom_classes": [],
      "_model_module": "@jupyter-widgets/controls",
      "_model_module_version": "1.5.0",
      "_model_name": "HTMLModel",
      "_view_count": null,
      "_view_module": "@jupyter-widgets/controls",
      "_view_module_version": "1.5.0",
      "_view_name": "HTMLView",
      "description": "",
      "description_tooltip": null,
      "layout": "IPY_MODEL_9e2a2ae4fcb54b5ca9f2d714b10061a6",
      "placeholder": "​",
      "style": "IPY_MODEL_c4c47a154f2d40deaddc48a393ca4526",
      "value": "Generating test split: 100%"
     }
    },
    "dcab6933e7e6483fb37ef3ea4f2f96cb": {
     "model_module": "@jupyter-widgets/base",
     "model_module_version": "1.2.0",
     "model_name": "LayoutModel",
     "state": {
      "_model_module": "@jupyter-widgets/base",
      "_model_module_version": "1.2.0",
      "_model_name": "LayoutModel",
      "_view_count": null,
      "_view_module": "@jupyter-widgets/base",
      "_view_module_version": "1.2.0",
      "_view_name": "LayoutView",
      "align_content": null,
      "align_items": null,
      "align_self": null,
      "border": null,
      "bottom": null,
      "display": null,
      "flex": null,
      "flex_flow": null,
      "grid_area": null,
      "grid_auto_columns": null,
      "grid_auto_flow": null,
      "grid_auto_rows": null,
      "grid_column": null,
      "grid_gap": null,
      "grid_row": null,
      "grid_template_areas": null,
      "grid_template_columns": null,
      "grid_template_rows": null,
      "height": null,
      "justify_content": null,
      "justify_items": null,
      "left": null,
      "margin": null,
      "max_height": null,
      "max_width": null,
      "min_height": null,
      "min_width": null,
      "object_fit": null,
      "object_position": null,
      "order": null,
      "overflow": null,
      "overflow_x": null,
      "overflow_y": null,
      "padding": null,
      "right": null,
      "top": null,
      "visibility": null,
      "width": null
     }
    },
    "df0ff75a6c5a474295564794954addc4": {
     "model_module": "@jupyter-widgets/controls",
     "model_module_version": "1.5.0",
     "model_name": "HTMLModel",
     "state": {
      "_dom_classes": [],
      "_model_module": "@jupyter-widgets/controls",
      "_model_module_version": "1.5.0",
      "_model_name": "HTMLModel",
      "_view_count": null,
      "_view_module": "@jupyter-widgets/controls",
      "_view_module_version": "1.5.0",
      "_view_name": "HTMLView",
      "description": "",
      "description_tooltip": null,
      "layout": "IPY_MODEL_dc1d3746c5cf4817b8e80bf92ad02d71",
      "placeholder": "​",
      "style": "IPY_MODEL_33521ca994f14e55aa040cfc2f5d1105",
      "value": " 29.5M/? [00:01&lt;00:00, 20.2MB/s]"
     }
    },
    "e2cbb1d5b4e1497e804bf00332a14743": {
     "model_module": "@jupyter-widgets/controls",
     "model_module_version": "1.5.0",
     "model_name": "DescriptionStyleModel",
     "state": {
      "_model_module": "@jupyter-widgets/controls",
      "_model_module_version": "1.5.0",
      "_model_name": "DescriptionStyleModel",
      "_view_count": null,
      "_view_module": "@jupyter-widgets/base",
      "_view_module_version": "1.2.0",
      "_view_name": "StyleView",
      "description_width": ""
     }
    },
    "e43cb91bee254131af50f2af50be3a4e": {
     "model_module": "@jupyter-widgets/base",
     "model_module_version": "1.2.0",
     "model_name": "LayoutModel",
     "state": {
      "_model_module": "@jupyter-widgets/base",
      "_model_module_version": "1.2.0",
      "_model_name": "LayoutModel",
      "_view_count": null,
      "_view_module": "@jupyter-widgets/base",
      "_view_module_version": "1.2.0",
      "_view_name": "LayoutView",
      "align_content": null,
      "align_items": null,
      "align_self": null,
      "border": null,
      "bottom": null,
      "display": null,
      "flex": null,
      "flex_flow": null,
      "grid_area": null,
      "grid_auto_columns": null,
      "grid_auto_flow": null,
      "grid_auto_rows": null,
      "grid_column": null,
      "grid_gap": null,
      "grid_row": null,
      "grid_template_areas": null,
      "grid_template_columns": null,
      "grid_template_rows": null,
      "height": null,
      "justify_content": null,
      "justify_items": null,
      "left": null,
      "margin": null,
      "max_height": null,
      "max_width": null,
      "min_height": null,
      "min_width": null,
      "object_fit": null,
      "object_position": null,
      "order": null,
      "overflow": null,
      "overflow_x": null,
      "overflow_y": null,
      "padding": null,
      "right": null,
      "top": null,
      "visibility": "hidden",
      "width": null
     }
    },
    "e684e9dab3dc4a04b4fac5cab926f8fe": {
     "model_module": "@jupyter-widgets/controls",
     "model_module_version": "1.5.0",
     "model_name": "HTMLModel",
     "state": {
      "_dom_classes": [],
      "_model_module": "@jupyter-widgets/controls",
      "_model_module_version": "1.5.0",
      "_model_name": "HTMLModel",
      "_view_count": null,
      "_view_module": "@jupyter-widgets/controls",
      "_view_module_version": "1.5.0",
      "_view_name": "HTMLView",
      "description": "",
      "description_tooltip": null,
      "layout": "IPY_MODEL_58df47e13b1e48a8863e48d6a12a98b5",
      "placeholder": "​",
      "style": "IPY_MODEL_a6b4481c94ad4af181ff0934ee7fca92",
      "value": "Downloading readme: 100%"
     }
    },
    "e7a723bfbede426a9c9184ed02ff2574": {
     "model_module": "@jupyter-widgets/controls",
     "model_module_version": "1.5.0",
     "model_name": "ProgressStyleModel",
     "state": {
      "_model_module": "@jupyter-widgets/controls",
      "_model_module_version": "1.5.0",
      "_model_name": "ProgressStyleModel",
      "_view_count": null,
      "_view_module": "@jupyter-widgets/base",
      "_view_module_version": "1.2.0",
      "_view_name": "StyleView",
      "bar_color": null,
      "description_width": ""
     }
    },
    "ece019411eba48ca93173a9b15cf8cbb": {
     "model_module": "@jupyter-widgets/controls",
     "model_module_version": "1.5.0",
     "model_name": "FloatProgressModel",
     "state": {
      "_dom_classes": [],
      "_model_module": "@jupyter-widgets/controls",
      "_model_module_version": "1.5.0",
      "_model_name": "FloatProgressModel",
      "_view_count": null,
      "_view_module": "@jupyter-widgets/controls",
      "_view_module_version": "1.5.0",
      "_view_name": "ProgressView",
      "bar_style": "success",
      "description": "",
      "description_tooltip": null,
      "layout": "IPY_MODEL_5b39c3103bf74237a2e03e6fdb7da027",
      "max": 2653,
      "min": 0,
      "orientation": "horizontal",
      "style": "IPY_MODEL_0847a33379184a368d5d1b82222b74cc",
      "value": 2653
     }
    },
    "eee83e0a1bd14d00af3159061f96a553": {
     "model_module": "@jupyter-widgets/controls",
     "model_module_version": "1.5.0",
     "model_name": "HTMLModel",
     "state": {
      "_dom_classes": [],
      "_model_module": "@jupyter-widgets/controls",
      "_model_module_version": "1.5.0",
      "_model_name": "HTMLModel",
      "_view_count": null,
      "_view_module": "@jupyter-widgets/controls",
      "_view_module_version": "1.5.0",
      "_view_name": "HTMLView",
      "description": "",
      "description_tooltip": null,
      "layout": "IPY_MODEL_87447d7825574c6f8ab503b1b534d506",
      "placeholder": "​",
      "style": "IPY_MODEL_56d638bddd534750b06ea6fe6701cb15",
      "value": "100%"
     }
    },
    "f1bde9957cab40ba97cd7faa65889b00": {
     "model_module": "@jupyter-widgets/controls",
     "model_module_version": "1.5.0",
     "model_name": "HTMLModel",
     "state": {
      "_dom_classes": [],
      "_model_module": "@jupyter-widgets/controls",
      "_model_module_version": "1.5.0",
      "_model_name": "HTMLModel",
      "_view_count": null,
      "_view_module": "@jupyter-widgets/controls",
      "_view_module_version": "1.5.0",
      "_view_name": "HTMLView",
      "description": "",
      "description_tooltip": null,
      "layout": "IPY_MODEL_513f35a7ebb74d3ebbaefa013b725d14",
      "placeholder": "​",
      "style": "IPY_MODEL_81311bdb923b4eca97431b56195acd58",
      "value": " 4.06k/4.06k [00:00&lt;00:00, 53.0kB/s]"
     }
    },
    "f255118df0ea49fa8feb56d043cf87b6": {
     "model_module": "@jupyter-widgets/controls",
     "model_module_version": "1.5.0",
     "model_name": "DescriptionStyleModel",
     "state": {
      "_model_module": "@jupyter-widgets/controls",
      "_model_module_version": "1.5.0",
      "_model_name": "DescriptionStyleModel",
      "_view_count": null,
      "_view_module": "@jupyter-widgets/base",
      "_view_module_version": "1.2.0",
      "_view_name": "StyleView",
      "description_width": ""
     }
    },
    "f53391ef64574c76bd18add79c0fa4bf": {
     "model_module": "@jupyter-widgets/controls",
     "model_module_version": "1.5.0",
     "model_name": "ProgressStyleModel",
     "state": {
      "_model_module": "@jupyter-widgets/controls",
      "_model_module_version": "1.5.0",
      "_model_name": "ProgressStyleModel",
      "_view_count": null,
      "_view_module": "@jupyter-widgets/base",
      "_view_module_version": "1.2.0",
      "_view_name": "StyleView",
      "bar_color": null,
      "description_width": ""
     }
    },
    "f5a54984249a47dd8ac113ce96ddbb71": {
     "model_module": "@jupyter-widgets/base",
     "model_module_version": "1.2.0",
     "model_name": "LayoutModel",
     "state": {
      "_model_module": "@jupyter-widgets/base",
      "_model_module_version": "1.2.0",
      "_model_name": "LayoutModel",
      "_view_count": null,
      "_view_module": "@jupyter-widgets/base",
      "_view_module_version": "1.2.0",
      "_view_name": "LayoutView",
      "align_content": null,
      "align_items": null,
      "align_self": null,
      "border": null,
      "bottom": null,
      "display": null,
      "flex": null,
      "flex_flow": null,
      "grid_area": null,
      "grid_auto_columns": null,
      "grid_auto_flow": null,
      "grid_auto_rows": null,
      "grid_column": null,
      "grid_gap": null,
      "grid_row": null,
      "grid_template_areas": null,
      "grid_template_columns": null,
      "grid_template_rows": null,
      "height": null,
      "justify_content": null,
      "justify_items": null,
      "left": null,
      "margin": null,
      "max_height": null,
      "max_width": null,
      "min_height": null,
      "min_width": null,
      "object_fit": null,
      "object_position": null,
      "order": null,
      "overflow": null,
      "overflow_x": null,
      "overflow_y": null,
      "padding": null,
      "right": null,
      "top": null,
      "visibility": null,
      "width": null
     }
    },
    "f5d44bab5deb4be18b828d9c78feb5da": {
     "model_module": "@jupyter-widgets/controls",
     "model_module_version": "1.5.0",
     "model_name": "DescriptionStyleModel",
     "state": {
      "_model_module": "@jupyter-widgets/controls",
      "_model_module_version": "1.5.0",
      "_model_name": "DescriptionStyleModel",
      "_view_count": null,
      "_view_module": "@jupyter-widgets/base",
      "_view_module_version": "1.2.0",
      "_view_name": "StyleView",
      "description_width": ""
     }
    },
    "fb542b520c1a42f4b621f95a4e90d644": {
     "model_module": "@jupyter-widgets/base",
     "model_module_version": "1.2.0",
     "model_name": "LayoutModel",
     "state": {
      "_model_module": "@jupyter-widgets/base",
      "_model_module_version": "1.2.0",
      "_model_name": "LayoutModel",
      "_view_count": null,
      "_view_module": "@jupyter-widgets/base",
      "_view_module_version": "1.2.0",
      "_view_name": "LayoutView",
      "align_content": null,
      "align_items": null,
      "align_self": null,
      "border": null,
      "bottom": null,
      "display": null,
      "flex": null,
      "flex_flow": null,
      "grid_area": null,
      "grid_auto_columns": null,
      "grid_auto_flow": null,
      "grid_auto_rows": null,
      "grid_column": null,
      "grid_gap": null,
      "grid_row": null,
      "grid_template_areas": null,
      "grid_template_columns": null,
      "grid_template_rows": null,
      "height": null,
      "justify_content": null,
      "justify_items": null,
      "left": null,
      "margin": null,
      "max_height": null,
      "max_width": null,
      "min_height": null,
      "min_width": null,
      "object_fit": null,
      "object_position": null,
      "order": null,
      "overflow": null,
      "overflow_x": null,
      "overflow_y": null,
      "padding": null,
      "right": null,
      "top": null,
      "visibility": null,
      "width": null
     }
    },
    "fc9cdace4f17455082a2a8374913d322": {
     "model_module": "@jupyter-widgets/controls",
     "model_module_version": "1.5.0",
     "model_name": "HTMLModel",
     "state": {
      "_dom_classes": [],
      "_model_module": "@jupyter-widgets/controls",
      "_model_module_version": "1.5.0",
      "_model_name": "HTMLModel",
      "_view_count": null,
      "_view_module": "@jupyter-widgets/controls",
      "_view_module_version": "1.5.0",
      "_view_name": "HTMLView",
      "description": "",
      "description_tooltip": null,
      "layout": "IPY_MODEL_33ce5077e4714f239f12562e1a7a7ef2",
      "placeholder": "​",
      "style": "IPY_MODEL_f255118df0ea49fa8feb56d043cf87b6",
      "value": "Downloading builder script: 100%"
     }
    },
    "fe99814191c14edea16dc733737441a5": {
     "model_module": "@jupyter-widgets/controls",
     "model_module_version": "1.5.0",
     "model_name": "DescriptionStyleModel",
     "state": {
      "_model_module": "@jupyter-widgets/controls",
      "_model_module_version": "1.5.0",
      "_model_name": "DescriptionStyleModel",
      "_view_count": null,
      "_view_module": "@jupyter-widgets/base",
      "_view_module_version": "1.2.0",
      "_view_name": "StyleView",
      "description_width": ""
     }
    },
    "feac1851ed644eeb98fb9ac9aadd7f41": {
     "model_module": "@jupyter-widgets/controls",
     "model_module_version": "1.5.0",
     "model_name": "DescriptionStyleModel",
     "state": {
      "_model_module": "@jupyter-widgets/controls",
      "_model_module_version": "1.5.0",
      "_model_name": "DescriptionStyleModel",
      "_view_count": null,
      "_view_module": "@jupyter-widgets/base",
      "_view_module_version": "1.2.0",
      "_view_name": "StyleView",
      "description_width": ""
     }
    }
   }
  }
 },
 "nbformat": 4,
 "nbformat_minor": 4
}
